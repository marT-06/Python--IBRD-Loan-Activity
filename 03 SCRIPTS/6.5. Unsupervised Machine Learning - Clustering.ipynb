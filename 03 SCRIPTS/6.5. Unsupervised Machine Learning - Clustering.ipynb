{
 "cells": [
  {
   "cell_type": "markdown",
   "id": "f26cdd0d",
   "metadata": {},
   "source": [
    "# Importing libraries and data"
   ]
  },
  {
   "cell_type": "code",
   "execution_count": 1,
   "id": "f7fbde9b",
   "metadata": {},
   "outputs": [],
   "source": [
    "import pandas as pd\n",
    "import numpy as np\n",
    "import seaborn as sns\n",
    "import matplotlib\n",
    "import matplotlib.pyplot as plt\n",
    "import os\n",
    "import sklearn\n",
    "from sklearn.cluster import KMeans # importing the k-means algorithm from scikit-learn\n",
    "from sklearn.preprocessing import StandardScaler # importing StandardScaler to standardize features\n",
    "import pylab as pl # PyLab is a convenience module that bulk imports matplotlib\n",
    "from sklearn. decomposition import PCA"
   ]
  },
  {
   "cell_type": "code",
   "execution_count": 2,
   "id": "714cb6e1",
   "metadata": {},
   "outputs": [],
   "source": [
    "# ensuring that the graphs  are displayed within the notebook without \"calling\" them specifically.\n",
    "\n",
    "%matplotlib inline"
   ]
  },
  {
   "cell_type": "code",
   "execution_count": 3,
   "id": "cd98ee99",
   "metadata": {},
   "outputs": [
    {
     "data": {
      "text/html": [
       "<div>\n",
       "<style scoped>\n",
       "    .dataframe tbody tr th:only-of-type {\n",
       "        vertical-align: middle;\n",
       "    }\n",
       "\n",
       "    .dataframe tbody tr th {\n",
       "        vertical-align: top;\n",
       "    }\n",
       "\n",
       "    .dataframe thead th {\n",
       "        text-align: right;\n",
       "    }\n",
       "</style>\n",
       "<table border=\"1\" class=\"dataframe\">\n",
       "  <thead>\n",
       "    <tr style=\"text-align: right;\">\n",
       "      <th></th>\n",
       "      <th>Loan Number</th>\n",
       "      <th>Region</th>\n",
       "      <th>Country</th>\n",
       "      <th>Borrower</th>\n",
       "      <th>Guarantor</th>\n",
       "      <th>Loan Type</th>\n",
       "      <th>Loan Status</th>\n",
       "      <th>Interest Rate</th>\n",
       "      <th>Original Principal Amount</th>\n",
       "      <th>Cancelled Amount</th>\n",
       "      <th>Undisbursed Amount</th>\n",
       "      <th>Disbursed Amount</th>\n",
       "      <th>Repaid to IBRD</th>\n",
       "      <th>Due to IBRD</th>\n",
       "      <th>Exchange Adjustment</th>\n",
       "      <th>Borrowers Obligation</th>\n",
       "      <th>Loans Held</th>\n",
       "      <th>Agreement Signing Date</th>\n",
       "      <th>Effective Date (Most Recent)</th>\n",
       "      <th>Closed Date (Most Recent)</th>\n",
       "    </tr>\n",
       "  </thead>\n",
       "  <tbody>\n",
       "    <tr>\n",
       "      <th>0</th>\n",
       "      <td>IBRD00010</td>\n",
       "      <td>EUROPE AND CENTRAL ASIA</td>\n",
       "      <td>France</td>\n",
       "      <td>CREDIT NATIONAL</td>\n",
       "      <td>France</td>\n",
       "      <td>NPL</td>\n",
       "      <td>Fully Repaid</td>\n",
       "      <td>4.25</td>\n",
       "      <td>250000000.0</td>\n",
       "      <td>0.0</td>\n",
       "      <td>0.0</td>\n",
       "      <td>250000000.0</td>\n",
       "      <td>38000.00</td>\n",
       "      <td>0.0</td>\n",
       "      <td>0.0</td>\n",
       "      <td>0.0</td>\n",
       "      <td>0.0</td>\n",
       "      <td>1947-05-09</td>\n",
       "      <td>1947-06-09</td>\n",
       "      <td>1947-12-31</td>\n",
       "    </tr>\n",
       "    <tr>\n",
       "      <th>5</th>\n",
       "      <td>IBRD00050</td>\n",
       "      <td>LATIN AMERICA AND CARIBBEAN</td>\n",
       "      <td>Chile</td>\n",
       "      <td>Ministry of Finance</td>\n",
       "      <td>Chile</td>\n",
       "      <td>NPL</td>\n",
       "      <td>Fully Repaid</td>\n",
       "      <td>4.50</td>\n",
       "      <td>13500000.0</td>\n",
       "      <td>0.0</td>\n",
       "      <td>0.0</td>\n",
       "      <td>13500000.0</td>\n",
       "      <td>12167000.00</td>\n",
       "      <td>0.0</td>\n",
       "      <td>0.0</td>\n",
       "      <td>0.0</td>\n",
       "      <td>0.0</td>\n",
       "      <td>1948-03-25</td>\n",
       "      <td>1949-04-07</td>\n",
       "      <td>1954-12-31</td>\n",
       "    </tr>\n",
       "    <tr>\n",
       "      <th>6</th>\n",
       "      <td>IBRD00060</td>\n",
       "      <td>LATIN AMERICA AND CARIBBEAN</td>\n",
       "      <td>Chile</td>\n",
       "      <td>Ministry of Finance</td>\n",
       "      <td>Chile</td>\n",
       "      <td>NPL</td>\n",
       "      <td>Fully Repaid</td>\n",
       "      <td>3.75</td>\n",
       "      <td>2500000.0</td>\n",
       "      <td>0.0</td>\n",
       "      <td>0.0</td>\n",
       "      <td>2500000.0</td>\n",
       "      <td>755000.00</td>\n",
       "      <td>0.0</td>\n",
       "      <td>0.0</td>\n",
       "      <td>0.0</td>\n",
       "      <td>0.0</td>\n",
       "      <td>1948-03-25</td>\n",
       "      <td>1949-04-07</td>\n",
       "      <td>1950-01-01</td>\n",
       "    </tr>\n",
       "    <tr>\n",
       "      <th>13</th>\n",
       "      <td>IBRD00111</td>\n",
       "      <td>LATIN AMERICA AND CARIBBEAN</td>\n",
       "      <td>Brazil</td>\n",
       "      <td>Ministério da Fazenda</td>\n",
       "      <td>Brazil</td>\n",
       "      <td>NPL</td>\n",
       "      <td>Fully Repaid</td>\n",
       "      <td>4.50</td>\n",
       "      <td>75000000.0</td>\n",
       "      <td>0.0</td>\n",
       "      <td>0.0</td>\n",
       "      <td>75000000.0</td>\n",
       "      <td>70971588.97</td>\n",
       "      <td>0.0</td>\n",
       "      <td>0.0</td>\n",
       "      <td>0.0</td>\n",
       "      <td>0.0</td>\n",
       "      <td>1949-01-27</td>\n",
       "      <td>1949-05-09</td>\n",
       "      <td>1953-12-31</td>\n",
       "    </tr>\n",
       "    <tr>\n",
       "      <th>14</th>\n",
       "      <td>IBRD00112</td>\n",
       "      <td>LATIN AMERICA AND CARIBBEAN</td>\n",
       "      <td>Brazil</td>\n",
       "      <td>Ministério da Fazenda</td>\n",
       "      <td>Brazil</td>\n",
       "      <td>NPL</td>\n",
       "      <td>Fully Repaid</td>\n",
       "      <td>4.25</td>\n",
       "      <td>15000000.0</td>\n",
       "      <td>0.0</td>\n",
       "      <td>0.0</td>\n",
       "      <td>15000000.0</td>\n",
       "      <td>15000000.00</td>\n",
       "      <td>0.0</td>\n",
       "      <td>0.0</td>\n",
       "      <td>0.0</td>\n",
       "      <td>0.0</td>\n",
       "      <td>1951-01-18</td>\n",
       "      <td>1951-04-10</td>\n",
       "      <td>1954-12-31</td>\n",
       "    </tr>\n",
       "  </tbody>\n",
       "</table>\n",
       "</div>"
      ],
      "text/plain": [
       "   Loan Number                       Region Country               Borrower  \\\n",
       "0    IBRD00010      EUROPE AND CENTRAL ASIA  France        CREDIT NATIONAL   \n",
       "5    IBRD00050  LATIN AMERICA AND CARIBBEAN   Chile    Ministry of Finance   \n",
       "6    IBRD00060  LATIN AMERICA AND CARIBBEAN   Chile    Ministry of Finance   \n",
       "13   IBRD00111  LATIN AMERICA AND CARIBBEAN  Brazil  Ministério da Fazenda   \n",
       "14   IBRD00112  LATIN AMERICA AND CARIBBEAN  Brazil  Ministério da Fazenda   \n",
       "\n",
       "   Guarantor Loan Type   Loan Status  Interest Rate  \\\n",
       "0     France       NPL  Fully Repaid           4.25   \n",
       "5      Chile       NPL  Fully Repaid           4.50   \n",
       "6      Chile       NPL  Fully Repaid           3.75   \n",
       "13    Brazil       NPL  Fully Repaid           4.50   \n",
       "14    Brazil       NPL  Fully Repaid           4.25   \n",
       "\n",
       "    Original Principal Amount  Cancelled Amount  Undisbursed Amount  \\\n",
       "0                 250000000.0               0.0                 0.0   \n",
       "5                  13500000.0               0.0                 0.0   \n",
       "6                   2500000.0               0.0                 0.0   \n",
       "13                 75000000.0               0.0                 0.0   \n",
       "14                 15000000.0               0.0                 0.0   \n",
       "\n",
       "    Disbursed Amount  Repaid to IBRD  Due to IBRD  Exchange Adjustment  \\\n",
       "0        250000000.0        38000.00          0.0                  0.0   \n",
       "5         13500000.0     12167000.00          0.0                  0.0   \n",
       "6          2500000.0       755000.00          0.0                  0.0   \n",
       "13        75000000.0     70971588.97          0.0                  0.0   \n",
       "14        15000000.0     15000000.00          0.0                  0.0   \n",
       "\n",
       "    Borrowers Obligation  Loans Held Agreement Signing Date  \\\n",
       "0                    0.0         0.0             1947-05-09   \n",
       "5                    0.0         0.0             1948-03-25   \n",
       "6                    0.0         0.0             1948-03-25   \n",
       "13                   0.0         0.0             1949-01-27   \n",
       "14                   0.0         0.0             1951-01-18   \n",
       "\n",
       "   Effective Date (Most Recent) Closed Date (Most Recent)  \n",
       "0                    1947-06-09                1947-12-31  \n",
       "5                    1949-04-07                1954-12-31  \n",
       "6                    1949-04-07                1950-01-01  \n",
       "13                   1949-05-09                1953-12-31  \n",
       "14                   1951-04-10                1954-12-31  "
      ]
     },
     "execution_count": 3,
     "metadata": {},
     "output_type": "execute_result"
    }
   ],
   "source": [
    "# turning a project folder path into a string\n",
    "\n",
    "path = r'/Users/mart/Documents/09-2022 IBRD  Statement of Loans'\n",
    "\n",
    "# Importing database\n",
    "\n",
    "df = pd.read_pickle(os.path.join(path,'02 Data','Prepared Data', 'SoL.pkl'))\n",
    "\n",
    "# set options to show all columns\n",
    "\n",
    "pd.set_option('display.max_columns', None)\n",
    "\n",
    "# check the first rows\n",
    "\n",
    "df.head()\n"
   ]
  },
  {
   "cell_type": "code",
   "execution_count": 4,
   "id": "669827b5",
   "metadata": {},
   "outputs": [
    {
     "data": {
      "text/plain": [
       "(8391, 20)"
      ]
     },
     "execution_count": 4,
     "metadata": {},
     "output_type": "execute_result"
    }
   ],
   "source": [
    "df.shape"
   ]
  },
  {
   "cell_type": "code",
   "execution_count": 5,
   "id": "244a897b",
   "metadata": {},
   "outputs": [
    {
     "data": {
      "text/plain": [
       "Index(['Loan Number', 'Region', 'Country', 'Borrower', 'Guarantor',\n",
       "       'Loan Type', 'Loan Status', 'Interest Rate',\n",
       "       'Original Principal Amount', 'Cancelled Amount', 'Undisbursed Amount',\n",
       "       'Disbursed Amount', 'Repaid to IBRD', 'Due to IBRD',\n",
       "       'Exchange Adjustment', 'Borrowers Obligation', 'Loans Held',\n",
       "       'Agreement Signing Date', 'Effective Date (Most Recent)',\n",
       "       'Closed Date (Most Recent)'],\n",
       "      dtype='object')"
      ]
     },
     "execution_count": 5,
     "metadata": {},
     "output_type": "execute_result"
    }
   ],
   "source": [
    "df.columns"
   ]
  },
  {
   "cell_type": "code",
   "execution_count": 6,
   "id": "230fb087",
   "metadata": {},
   "outputs": [],
   "source": [
    "# removing categorical and date variables\n",
    "\n",
    "df_num = df[df.columns[7:-3]]"
   ]
  },
  {
   "cell_type": "code",
   "execution_count": 7,
   "id": "89957d4e",
   "metadata": {},
   "outputs": [
    {
     "data": {
      "text/html": [
       "<div>\n",
       "<style scoped>\n",
       "    .dataframe tbody tr th:only-of-type {\n",
       "        vertical-align: middle;\n",
       "    }\n",
       "\n",
       "    .dataframe tbody tr th {\n",
       "        vertical-align: top;\n",
       "    }\n",
       "\n",
       "    .dataframe thead th {\n",
       "        text-align: right;\n",
       "    }\n",
       "</style>\n",
       "<table border=\"1\" class=\"dataframe\">\n",
       "  <thead>\n",
       "    <tr style=\"text-align: right;\">\n",
       "      <th></th>\n",
       "      <th>Interest Rate</th>\n",
       "      <th>Original Principal Amount</th>\n",
       "      <th>Cancelled Amount</th>\n",
       "      <th>Undisbursed Amount</th>\n",
       "      <th>Disbursed Amount</th>\n",
       "      <th>Repaid to IBRD</th>\n",
       "      <th>Due to IBRD</th>\n",
       "      <th>Exchange Adjustment</th>\n",
       "      <th>Borrowers Obligation</th>\n",
       "      <th>Loans Held</th>\n",
       "    </tr>\n",
       "  </thead>\n",
       "  <tbody>\n",
       "    <tr>\n",
       "      <th>0</th>\n",
       "      <td>4.25</td>\n",
       "      <td>250000000.0</td>\n",
       "      <td>0.0</td>\n",
       "      <td>0.0</td>\n",
       "      <td>250000000.0</td>\n",
       "      <td>38000.00</td>\n",
       "      <td>0.0</td>\n",
       "      <td>0.0</td>\n",
       "      <td>0.0</td>\n",
       "      <td>0.0</td>\n",
       "    </tr>\n",
       "    <tr>\n",
       "      <th>5</th>\n",
       "      <td>4.50</td>\n",
       "      <td>13500000.0</td>\n",
       "      <td>0.0</td>\n",
       "      <td>0.0</td>\n",
       "      <td>13500000.0</td>\n",
       "      <td>12167000.00</td>\n",
       "      <td>0.0</td>\n",
       "      <td>0.0</td>\n",
       "      <td>0.0</td>\n",
       "      <td>0.0</td>\n",
       "    </tr>\n",
       "    <tr>\n",
       "      <th>6</th>\n",
       "      <td>3.75</td>\n",
       "      <td>2500000.0</td>\n",
       "      <td>0.0</td>\n",
       "      <td>0.0</td>\n",
       "      <td>2500000.0</td>\n",
       "      <td>755000.00</td>\n",
       "      <td>0.0</td>\n",
       "      <td>0.0</td>\n",
       "      <td>0.0</td>\n",
       "      <td>0.0</td>\n",
       "    </tr>\n",
       "    <tr>\n",
       "      <th>13</th>\n",
       "      <td>4.50</td>\n",
       "      <td>75000000.0</td>\n",
       "      <td>0.0</td>\n",
       "      <td>0.0</td>\n",
       "      <td>75000000.0</td>\n",
       "      <td>70971588.97</td>\n",
       "      <td>0.0</td>\n",
       "      <td>0.0</td>\n",
       "      <td>0.0</td>\n",
       "      <td>0.0</td>\n",
       "    </tr>\n",
       "    <tr>\n",
       "      <th>14</th>\n",
       "      <td>4.25</td>\n",
       "      <td>15000000.0</td>\n",
       "      <td>0.0</td>\n",
       "      <td>0.0</td>\n",
       "      <td>15000000.0</td>\n",
       "      <td>15000000.00</td>\n",
       "      <td>0.0</td>\n",
       "      <td>0.0</td>\n",
       "      <td>0.0</td>\n",
       "      <td>0.0</td>\n",
       "    </tr>\n",
       "  </tbody>\n",
       "</table>\n",
       "</div>"
      ],
      "text/plain": [
       "    Interest Rate  Original Principal Amount  Cancelled Amount  \\\n",
       "0            4.25                250000000.0               0.0   \n",
       "5            4.50                 13500000.0               0.0   \n",
       "6            3.75                  2500000.0               0.0   \n",
       "13           4.50                 75000000.0               0.0   \n",
       "14           4.25                 15000000.0               0.0   \n",
       "\n",
       "    Undisbursed Amount  Disbursed Amount  Repaid to IBRD  Due to IBRD  \\\n",
       "0                  0.0       250000000.0        38000.00          0.0   \n",
       "5                  0.0        13500000.0     12167000.00          0.0   \n",
       "6                  0.0         2500000.0       755000.00          0.0   \n",
       "13                 0.0        75000000.0     70971588.97          0.0   \n",
       "14                 0.0        15000000.0     15000000.00          0.0   \n",
       "\n",
       "    Exchange Adjustment  Borrowers Obligation  Loans Held  \n",
       "0                   0.0                   0.0         0.0  \n",
       "5                   0.0                   0.0         0.0  \n",
       "6                   0.0                   0.0         0.0  \n",
       "13                  0.0                   0.0         0.0  \n",
       "14                  0.0                   0.0         0.0  "
      ]
     },
     "execution_count": 7,
     "metadata": {},
     "output_type": "execute_result"
    }
   ],
   "source": [
    "df_num.head()"
   ]
  },
  {
   "cell_type": "code",
   "execution_count": 8,
   "id": "c354d3b3",
   "metadata": {},
   "outputs": [
    {
     "data": {
      "text/html": [
       "<div>\n",
       "<style scoped>\n",
       "    .dataframe tbody tr th:only-of-type {\n",
       "        vertical-align: middle;\n",
       "    }\n",
       "\n",
       "    .dataframe tbody tr th {\n",
       "        vertical-align: top;\n",
       "    }\n",
       "\n",
       "    .dataframe thead th {\n",
       "        text-align: right;\n",
       "    }\n",
       "</style>\n",
       "<table border=\"1\" class=\"dataframe\">\n",
       "  <thead>\n",
       "    <tr style=\"text-align: right;\">\n",
       "      <th></th>\n",
       "      <th>Interest Rate</th>\n",
       "      <th>Original Principal Amount</th>\n",
       "      <th>Cancelled Amount</th>\n",
       "      <th>Undisbursed Amount</th>\n",
       "      <th>Disbursed Amount</th>\n",
       "      <th>Repaid to IBRD</th>\n",
       "      <th>Due to IBRD</th>\n",
       "      <th>Exchange Adjustment</th>\n",
       "      <th>Borrowers Obligation</th>\n",
       "      <th>Loans Held</th>\n",
       "    </tr>\n",
       "  </thead>\n",
       "  <tbody>\n",
       "    <tr>\n",
       "      <th>count</th>\n",
       "      <td>8391.00</td>\n",
       "      <td>8391.00</td>\n",
       "      <td>8391.00</td>\n",
       "      <td>8391.00</td>\n",
       "      <td>8391.00</td>\n",
       "      <td>8391.00</td>\n",
       "      <td>8391.00</td>\n",
       "      <td>8391.00</td>\n",
       "      <td>8391.00</td>\n",
       "      <td>8391.00</td>\n",
       "    </tr>\n",
       "    <tr>\n",
       "      <th>mean</th>\n",
       "      <td>4.08</td>\n",
       "      <td>94807155.65</td>\n",
       "      <td>10272155.46</td>\n",
       "      <td>6739175.65</td>\n",
       "      <td>76188309.73</td>\n",
       "      <td>47615715.81</td>\n",
       "      <td>28365462.57</td>\n",
       "      <td>-1020931.31</td>\n",
       "      <td>27344531.26</td>\n",
       "      <td>35104638.22</td>\n",
       "    </tr>\n",
       "    <tr>\n",
       "      <th>std</th>\n",
       "      <td>3.44</td>\n",
       "      <td>164405464.87</td>\n",
       "      <td>43929656.64</td>\n",
       "      <td>37261488.79</td>\n",
       "      <td>150230586.39</td>\n",
       "      <td>98871364.56</td>\n",
       "      <td>110273230.20</td>\n",
       "      <td>15917229.45</td>\n",
       "      <td>103733969.14</td>\n",
       "      <td>118617819.45</td>\n",
       "    </tr>\n",
       "    <tr>\n",
       "      <th>min</th>\n",
       "      <td>0.00</td>\n",
       "      <td>0.00</td>\n",
       "      <td>0.00</td>\n",
       "      <td>-0.01</td>\n",
       "      <td>0.00</td>\n",
       "      <td>0.00</td>\n",
       "      <td>-148309024.60</td>\n",
       "      <td>-825260450.51</td>\n",
       "      <td>-0.03</td>\n",
       "      <td>-148309024.60</td>\n",
       "    </tr>\n",
       "    <tr>\n",
       "      <th>25%</th>\n",
       "      <td>0.00</td>\n",
       "      <td>14900000.00</td>\n",
       "      <td>0.00</td>\n",
       "      <td>0.00</td>\n",
       "      <td>8201562.33</td>\n",
       "      <td>3723900.00</td>\n",
       "      <td>0.00</td>\n",
       "      <td>0.00</td>\n",
       "      <td>0.00</td>\n",
       "      <td>0.00</td>\n",
       "    </tr>\n",
       "    <tr>\n",
       "      <th>50%</th>\n",
       "      <td>4.85</td>\n",
       "      <td>40000000.00</td>\n",
       "      <td>262.27</td>\n",
       "      <td>0.00</td>\n",
       "      <td>26949380.65</td>\n",
       "      <td>17487294.41</td>\n",
       "      <td>0.00</td>\n",
       "      <td>0.00</td>\n",
       "      <td>0.00</td>\n",
       "      <td>0.00</td>\n",
       "    </tr>\n",
       "    <tr>\n",
       "      <th>75%</th>\n",
       "      <td>7.25</td>\n",
       "      <td>100000000.00</td>\n",
       "      <td>3967965.42</td>\n",
       "      <td>0.00</td>\n",
       "      <td>80292379.62</td>\n",
       "      <td>50294831.76</td>\n",
       "      <td>0.00</td>\n",
       "      <td>0.00</td>\n",
       "      <td>0.00</td>\n",
       "      <td>0.00</td>\n",
       "    </tr>\n",
       "    <tr>\n",
       "      <th>max</th>\n",
       "      <td>11.60</td>\n",
       "      <td>3750000000.00</td>\n",
       "      <td>1995000000.00</td>\n",
       "      <td>696047832.19</td>\n",
       "      <td>3153530829.10</td>\n",
       "      <td>3000000000.00</td>\n",
       "      <td>2534063201.88</td>\n",
       "      <td>231802879.66</td>\n",
       "      <td>1708802751.37</td>\n",
       "      <td>2534063201.88</td>\n",
       "    </tr>\n",
       "  </tbody>\n",
       "</table>\n",
       "</div>"
      ],
      "text/plain": [
       "       Interest Rate  Original Principal Amount  Cancelled Amount  \\\n",
       "count        8391.00                    8391.00           8391.00   \n",
       "mean            4.08                94807155.65       10272155.46   \n",
       "std             3.44               164405464.87       43929656.64   \n",
       "min             0.00                       0.00              0.00   \n",
       "25%             0.00                14900000.00              0.00   \n",
       "50%             4.85                40000000.00            262.27   \n",
       "75%             7.25               100000000.00        3967965.42   \n",
       "max            11.60              3750000000.00     1995000000.00   \n",
       "\n",
       "       Undisbursed Amount  Disbursed Amount  Repaid to IBRD   Due to IBRD  \\\n",
       "count             8391.00           8391.00         8391.00       8391.00   \n",
       "mean           6739175.65       76188309.73     47615715.81   28365462.57   \n",
       "std           37261488.79      150230586.39     98871364.56  110273230.20   \n",
       "min                 -0.01              0.00            0.00 -148309024.60   \n",
       "25%                  0.00        8201562.33      3723900.00          0.00   \n",
       "50%                  0.00       26949380.65     17487294.41          0.00   \n",
       "75%                  0.00       80292379.62     50294831.76          0.00   \n",
       "max          696047832.19     3153530829.10   3000000000.00 2534063201.88   \n",
       "\n",
       "       Exchange Adjustment  Borrowers Obligation    Loans Held  \n",
       "count              8391.00               8391.00       8391.00  \n",
       "mean           -1020931.31           27344531.26   35104638.22  \n",
       "std            15917229.45          103733969.14  118617819.45  \n",
       "min          -825260450.51                 -0.03 -148309024.60  \n",
       "25%                   0.00                  0.00          0.00  \n",
       "50%                   0.00                  0.00          0.00  \n",
       "75%                   0.00                  0.00          0.00  \n",
       "max           231802879.66         1708802751.37 2534063201.88  "
      ]
     },
     "execution_count": 8,
     "metadata": {},
     "output_type": "execute_result"
    }
   ],
   "source": [
    "# removing scientific notation\n",
    "\n",
    "pd.options.display.float_format = '{:.2f}'.format\n",
    "\n",
    "df_num.describe()"
   ]
  },
  {
   "cell_type": "markdown",
   "id": "10c0de58",
   "metadata": {},
   "source": [
    "# Standardization"
   ]
  },
  {
   "cell_type": "code",
   "execution_count": 9,
   "id": "dda398d1",
   "metadata": {},
   "outputs": [],
   "source": [
    "# using standardscaler to standarise the data such that the mean becomes zero and the standard deviation becomes 1\n",
    "\n",
    "scaler = StandardScaler()"
   ]
  },
  {
   "cell_type": "code",
   "execution_count": 10,
   "id": "33f658bc",
   "metadata": {},
   "outputs": [
    {
     "data": {
      "text/plain": [
       "array([[ 0.05072805,  0.94402028, -0.23384584, ...,  0.06414384,\n",
       "        -0.26361819, -0.29596506],\n",
       "       [ 0.12336684, -0.49458211, -0.23384584, ...,  0.06414384,\n",
       "        -0.26361819, -0.29596506],\n",
       "       [-0.09454954, -0.56149384, -0.23384584, ...,  0.06414384,\n",
       "        -0.26361819, -0.29596506],\n",
       "       ...,\n",
       "       [ 1.21294876, -0.27255679, -0.23148016, ...,  0.06414384,\n",
       "        -0.26361819, -0.29596506],\n",
       "       [ 1.21294876, -0.54628663, -0.15090961, ...,  0.06414384,\n",
       "        -0.26361819, -0.29596506],\n",
       "       [ 1.50350394, -0.5158722 , -0.23384584, ...,  0.06414384,\n",
       "        -0.26361819, -0.29596506]])"
      ]
     },
     "execution_count": 10,
     "metadata": {},
     "output_type": "execute_result"
    }
   ],
   "source": [
    "# standardizing data\n",
    "\n",
    "df_num = scaler.fit_transform(df_num)\n",
    "df_num"
   ]
  },
  {
   "cell_type": "code",
   "execution_count": 11,
   "id": "40439763",
   "metadata": {},
   "outputs": [
    {
     "data": {
      "text/plain": [
       "PCA()"
      ]
     },
     "execution_count": 11,
     "metadata": {},
     "output_type": "execute_result"
    }
   ],
   "source": [
    "# employing PCA to reduce the number of features in our data set\n",
    "\n",
    "pca = PCA()\n",
    "\n",
    "# fitting our standardized data using PCA\n",
    "\n",
    "pca.fit(df_num)"
   ]
  },
  {
   "cell_type": "code",
   "execution_count": 12,
   "id": "819430ac",
   "metadata": {},
   "outputs": [
    {
     "data": {
      "text/plain": [
       "array([4.76901431e-01, 1.56172609e-01, 1.15196533e-01, 9.98527393e-02,\n",
       "       7.92170794e-02, 7.20302638e-02, 5.85926035e-04, 4.34182418e-05,\n",
       "       2.34652173e-32, 4.15238985e-33])"
      ]
     },
     "execution_count": 12,
     "metadata": {},
     "output_type": "execute_result"
    }
   ],
   "source": [
    "# the attribute shows how much variance is explained by each of the seven individual components\n",
    "\n",
    "pca.explained_variance_ratio_"
   ]
  },
  {
   "cell_type": "code",
   "execution_count": 13,
   "id": "aacb5c93",
   "metadata": {},
   "outputs": [
    {
     "data": {
      "text/plain": [
       "Text(0, 0.5, 'Cumulative Explained Variance')"
      ]
     },
     "execution_count": 13,
     "metadata": {},
     "output_type": "execute_result"
    },
    {
     "data": {
      "image/png": "[encoded data removed]",
      "text/plain": [
       "<Figure size 720x576 with 1 Axes>"
      ]
     },
     "metadata": {
      "needs_background": "light"
     },
     "output_type": "display_data"
    }
   ],
   "source": [
    "# plotting explained variance by components\n",
    "\n",
    "plt.figure (figsize = (10,8))\n",
    "plt.plot(range(1,11), pca.explained_variance_ratio_.cumsum(), marker = 'o', linestyle='--')\n",
    "plt.title('Explained Variance by Components')\n",
    "plt.xlabel('Number of Components')\n",
    "plt.ylabel('Cumulative Explained Variance')"
   ]
  },
  {
   "cell_type": "markdown",
   "id": "afead405",
   "metadata": {},
   "source": [
    "The graph shows the amount of variance captured (on the y-axis) depending on the number of components included (the x-axis). A rule of thumb is to preserve around 80 % of the variance. \n",
    "- I decided to keep 4 components."
   ]
  },
  {
   "cell_type": "code",
   "execution_count": 14,
   "id": "974551f7",
   "metadata": {},
   "outputs": [],
   "source": [
    "# choosing four components\n",
    "\n",
    "pca = PCA(n_components = 4)"
   ]
  },
  {
   "cell_type": "code",
   "execution_count": 15,
   "id": "eb72c7c8",
   "metadata": {},
   "outputs": [
    {
     "data": {
      "text/plain": [
       "PCA(n_components=4)"
      ]
     },
     "execution_count": 15,
     "metadata": {},
     "output_type": "execute_result"
    }
   ],
   "source": [
    "# fitting the model the our data with the selected number of components\n",
    "\n",
    "pca.fit(df_num)"
   ]
  },
  {
   "cell_type": "code",
   "execution_count": 16,
   "id": "294097c0",
   "metadata": {},
   "outputs": [
    {
     "data": {
      "text/plain": [
       "array([[ 0.39666286,  0.48623158,  0.08712007, -0.20107445],\n",
       "       [-0.84864571, -0.30231394,  0.22391829, -0.03840877],\n",
       "       [-0.88453053, -0.45308928,  0.14068629,  0.00509851],\n",
       "       ...,\n",
       "       [-0.79734161,  0.24496451,  0.67284488, -0.18249797],\n",
       "       [-1.11486155, -0.25834437,  0.73502441,  0.07166419],\n",
       "       [-1.12450939, -0.15142555,  0.88055962, -0.03816168]])"
      ]
     },
     "execution_count": 16,
     "metadata": {},
     "output_type": "execute_result"
    }
   ],
   "source": [
    "pca.transform(df_num)"
   ]
  },
  {
   "cell_type": "code",
   "execution_count": 17,
   "id": "23ec6569",
   "metadata": {},
   "outputs": [],
   "source": [
    "# obtaining PCA scores\n",
    "\n",
    "scores_pca = pca.transform(df_num)"
   ]
  },
  {
   "cell_type": "markdown",
   "id": "09cf1e93",
   "metadata": {},
   "source": [
    "##   Combining PCA and k-means"
   ]
  },
  {
   "cell_type": "code",
   "execution_count": 18,
   "id": "17a838db",
   "metadata": {},
   "outputs": [],
   "source": [
    "# fitting K means using the transformed data from the PCA\n",
    "\n",
    "wcss = []\n",
    "for i in range(1,10) :\n",
    "    kmeans_pca = KMeans(n_clusters = i, init = 'k-means++', random_state = 42)\n",
    "    kmeans_pca.fit(scores_pca)\n",
    "    wcss.append(kmeans_pca.inertia_)"
   ]
  },
  {
   "cell_type": "code",
   "execution_count": 19,
   "id": "f5d2f9df",
   "metadata": {},
   "outputs": [
    {
     "data": {
      "image/png": "[encoded data removed]",
      "text/plain": [
       "<Figure size 720x576 with 1 Axes>"
      ]
     },
     "metadata": {
      "needs_background": "light"
     },
     "output_type": "display_data"
    }
   ],
   "source": [
    "# plotting k-means with PCA clustering\n",
    "\n",
    "plt.figure(figsize = (10,8))\n",
    "plt.plot(range(1, 10), wcss, marker = 'o', linestyle= '-')\n",
    "plt.xlabel ('Number of Clusters')\n",
    "plt.ylabel('WCSS')\n",
    "plt.title('K-means with PCA Clustering')\n",
    "plt.show()"
   ]
  },
  {
   "cell_type": "markdown",
   "id": "9574dc24",
   "metadata": {},
   "source": [
    "- The curve straightens out after two on the x-axis. \n",
    "- This means that the optimal count for clusters is 2."
   ]
  },
  {
   "cell_type": "markdown",
   "id": "026b988b",
   "metadata": {},
   "source": [
    "## k-means clustering"
   ]
  },
  {
   "cell_type": "code",
   "execution_count": 20,
   "id": "1b557df7",
   "metadata": {},
   "outputs": [],
   "source": [
    "# creating the k-means object.\n",
    "\n",
    "kmeans_pca = KMeans(n_clusters = 2, init = 'k-means++', random_state = 42)"
   ]
  },
  {
   "cell_type": "code",
   "execution_count": 21,
   "id": "ac31efbf",
   "metadata": {},
   "outputs": [
    {
     "data": {
      "text/plain": [
       "KMeans(n_clusters=2, random_state=42)"
      ]
     },
     "execution_count": 21,
     "metadata": {},
     "output_type": "execute_result"
    }
   ],
   "source": [
    "# fitting the data with the k-means pca model\n",
    "\n",
    "kmeans_pca.fit(df_num)"
   ]
  },
  {
   "cell_type": "code",
   "execution_count": 22,
   "id": "950c60bf",
   "metadata": {},
   "outputs": [],
   "source": [
    "# converting data from array to df\n",
    "\n",
    "df_stand = pd.DataFrame(df_num, columns = ['Interest Rate','Original Principal Amount', \n",
    "                'Cancelled Amount', 'Undisbursed Amount','Disbursed Amount', \n",
    "                'Repaid to IBRD', 'Due to IBRD', 'Exchange Adjustment', \n",
    "                'Borrowers Obligation', 'Loans Held']) \n"
   ]
  },
  {
   "cell_type": "code",
   "execution_count": 23,
   "id": "4ba5e156",
   "metadata": {},
   "outputs": [
    {
     "data": {
      "text/html": [
       "<div>\n",
       "<style scoped>\n",
       "    .dataframe tbody tr th:only-of-type {\n",
       "        vertical-align: middle;\n",
       "    }\n",
       "\n",
       "    .dataframe tbody tr th {\n",
       "        vertical-align: top;\n",
       "    }\n",
       "\n",
       "    .dataframe thead th {\n",
       "        text-align: right;\n",
       "    }\n",
       "</style>\n",
       "<table border=\"1\" class=\"dataframe\">\n",
       "  <thead>\n",
       "    <tr style=\"text-align: right;\">\n",
       "      <th></th>\n",
       "      <th>Interest Rate</th>\n",
       "      <th>Original Principal Amount</th>\n",
       "      <th>Cancelled Amount</th>\n",
       "      <th>Undisbursed Amount</th>\n",
       "      <th>Disbursed Amount</th>\n",
       "      <th>Repaid to IBRD</th>\n",
       "      <th>Due to IBRD</th>\n",
       "      <th>Exchange Adjustment</th>\n",
       "      <th>Borrowers Obligation</th>\n",
       "      <th>Loans Held</th>\n",
       "    </tr>\n",
       "  </thead>\n",
       "  <tbody>\n",
       "    <tr>\n",
       "      <th>0</th>\n",
       "      <td>0.05</td>\n",
       "      <td>0.94</td>\n",
       "      <td>-0.23</td>\n",
       "      <td>-0.18</td>\n",
       "      <td>1.16</td>\n",
       "      <td>-0.48</td>\n",
       "      <td>-0.26</td>\n",
       "      <td>0.06</td>\n",
       "      <td>-0.26</td>\n",
       "      <td>-0.30</td>\n",
       "    </tr>\n",
       "    <tr>\n",
       "      <th>1</th>\n",
       "      <td>0.12</td>\n",
       "      <td>-0.49</td>\n",
       "      <td>-0.23</td>\n",
       "      <td>-0.18</td>\n",
       "      <td>-0.42</td>\n",
       "      <td>-0.36</td>\n",
       "      <td>-0.26</td>\n",
       "      <td>0.06</td>\n",
       "      <td>-0.26</td>\n",
       "      <td>-0.30</td>\n",
       "    </tr>\n",
       "    <tr>\n",
       "      <th>2</th>\n",
       "      <td>-0.09</td>\n",
       "      <td>-0.56</td>\n",
       "      <td>-0.23</td>\n",
       "      <td>-0.18</td>\n",
       "      <td>-0.49</td>\n",
       "      <td>-0.47</td>\n",
       "      <td>-0.26</td>\n",
       "      <td>0.06</td>\n",
       "      <td>-0.26</td>\n",
       "      <td>-0.30</td>\n",
       "    </tr>\n",
       "    <tr>\n",
       "      <th>3</th>\n",
       "      <td>0.12</td>\n",
       "      <td>-0.12</td>\n",
       "      <td>-0.23</td>\n",
       "      <td>-0.18</td>\n",
       "      <td>-0.01</td>\n",
       "      <td>0.24</td>\n",
       "      <td>-0.26</td>\n",
       "      <td>0.06</td>\n",
       "      <td>-0.26</td>\n",
       "      <td>-0.30</td>\n",
       "    </tr>\n",
       "    <tr>\n",
       "      <th>4</th>\n",
       "      <td>0.05</td>\n",
       "      <td>-0.49</td>\n",
       "      <td>-0.23</td>\n",
       "      <td>-0.18</td>\n",
       "      <td>-0.41</td>\n",
       "      <td>-0.33</td>\n",
       "      <td>-0.26</td>\n",
       "      <td>0.06</td>\n",
       "      <td>-0.26</td>\n",
       "      <td>-0.30</td>\n",
       "    </tr>\n",
       "  </tbody>\n",
       "</table>\n",
       "</div>"
      ],
      "text/plain": [
       "   Interest Rate  Original Principal Amount  Cancelled Amount  \\\n",
       "0           0.05                       0.94             -0.23   \n",
       "1           0.12                      -0.49             -0.23   \n",
       "2          -0.09                      -0.56             -0.23   \n",
       "3           0.12                      -0.12             -0.23   \n",
       "4           0.05                      -0.49             -0.23   \n",
       "\n",
       "   Undisbursed Amount  Disbursed Amount  Repaid to IBRD  Due to IBRD  \\\n",
       "0               -0.18              1.16           -0.48        -0.26   \n",
       "1               -0.18             -0.42           -0.36        -0.26   \n",
       "2               -0.18             -0.49           -0.47        -0.26   \n",
       "3               -0.18             -0.01            0.24        -0.26   \n",
       "4               -0.18             -0.41           -0.33        -0.26   \n",
       "\n",
       "   Exchange Adjustment  Borrowers Obligation  Loans Held  \n",
       "0                 0.06                 -0.26       -0.30  \n",
       "1                 0.06                 -0.26       -0.30  \n",
       "2                 0.06                 -0.26       -0.30  \n",
       "3                 0.06                 -0.26       -0.30  \n",
       "4                 0.06                 -0.26       -0.30  "
      ]
     },
     "execution_count": 23,
     "metadata": {},
     "output_type": "execute_result"
    }
   ],
   "source": [
    "df_stand.head()"
   ]
  },
  {
   "cell_type": "code",
   "execution_count": 24,
   "id": "ab77d6f4",
   "metadata": {},
   "outputs": [],
   "source": [
    "# adding \"clusters\" column\n",
    "\n",
    "df_stand['clusters'] = kmeans_pca.fit_predict(df_stand)"
   ]
  },
  {
   "cell_type": "code",
   "execution_count": 25,
   "id": "eca79832",
   "metadata": {},
   "outputs": [
    {
     "data": {
      "text/html": [
       "<div>\n",
       "<style scoped>\n",
       "    .dataframe tbody tr th:only-of-type {\n",
       "        vertical-align: middle;\n",
       "    }\n",
       "\n",
       "    .dataframe tbody tr th {\n",
       "        vertical-align: top;\n",
       "    }\n",
       "\n",
       "    .dataframe thead th {\n",
       "        text-align: right;\n",
       "    }\n",
       "</style>\n",
       "<table border=\"1\" class=\"dataframe\">\n",
       "  <thead>\n",
       "    <tr style=\"text-align: right;\">\n",
       "      <th></th>\n",
       "      <th>Interest Rate</th>\n",
       "      <th>Original Principal Amount</th>\n",
       "      <th>Cancelled Amount</th>\n",
       "      <th>Undisbursed Amount</th>\n",
       "      <th>Disbursed Amount</th>\n",
       "      <th>Repaid to IBRD</th>\n",
       "      <th>Due to IBRD</th>\n",
       "      <th>Exchange Adjustment</th>\n",
       "      <th>Borrowers Obligation</th>\n",
       "      <th>Loans Held</th>\n",
       "      <th>clusters</th>\n",
       "    </tr>\n",
       "  </thead>\n",
       "  <tbody>\n",
       "    <tr>\n",
       "      <th>0</th>\n",
       "      <td>0.05</td>\n",
       "      <td>0.94</td>\n",
       "      <td>-0.23</td>\n",
       "      <td>-0.18</td>\n",
       "      <td>1.16</td>\n",
       "      <td>-0.48</td>\n",
       "      <td>-0.26</td>\n",
       "      <td>0.06</td>\n",
       "      <td>-0.26</td>\n",
       "      <td>-0.30</td>\n",
       "      <td>1</td>\n",
       "    </tr>\n",
       "    <tr>\n",
       "      <th>1</th>\n",
       "      <td>0.12</td>\n",
       "      <td>-0.49</td>\n",
       "      <td>-0.23</td>\n",
       "      <td>-0.18</td>\n",
       "      <td>-0.42</td>\n",
       "      <td>-0.36</td>\n",
       "      <td>-0.26</td>\n",
       "      <td>0.06</td>\n",
       "      <td>-0.26</td>\n",
       "      <td>-0.30</td>\n",
       "      <td>1</td>\n",
       "    </tr>\n",
       "    <tr>\n",
       "      <th>2</th>\n",
       "      <td>-0.09</td>\n",
       "      <td>-0.56</td>\n",
       "      <td>-0.23</td>\n",
       "      <td>-0.18</td>\n",
       "      <td>-0.49</td>\n",
       "      <td>-0.47</td>\n",
       "      <td>-0.26</td>\n",
       "      <td>0.06</td>\n",
       "      <td>-0.26</td>\n",
       "      <td>-0.30</td>\n",
       "      <td>1</td>\n",
       "    </tr>\n",
       "    <tr>\n",
       "      <th>3</th>\n",
       "      <td>0.12</td>\n",
       "      <td>-0.12</td>\n",
       "      <td>-0.23</td>\n",
       "      <td>-0.18</td>\n",
       "      <td>-0.01</td>\n",
       "      <td>0.24</td>\n",
       "      <td>-0.26</td>\n",
       "      <td>0.06</td>\n",
       "      <td>-0.26</td>\n",
       "      <td>-0.30</td>\n",
       "      <td>1</td>\n",
       "    </tr>\n",
       "    <tr>\n",
       "      <th>4</th>\n",
       "      <td>0.05</td>\n",
       "      <td>-0.49</td>\n",
       "      <td>-0.23</td>\n",
       "      <td>-0.18</td>\n",
       "      <td>-0.41</td>\n",
       "      <td>-0.33</td>\n",
       "      <td>-0.26</td>\n",
       "      <td>0.06</td>\n",
       "      <td>-0.26</td>\n",
       "      <td>-0.30</td>\n",
       "      <td>1</td>\n",
       "    </tr>\n",
       "  </tbody>\n",
       "</table>\n",
       "</div>"
      ],
      "text/plain": [
       "   Interest Rate  Original Principal Amount  Cancelled Amount  \\\n",
       "0           0.05                       0.94             -0.23   \n",
       "1           0.12                      -0.49             -0.23   \n",
       "2          -0.09                      -0.56             -0.23   \n",
       "3           0.12                      -0.12             -0.23   \n",
       "4           0.05                      -0.49             -0.23   \n",
       "\n",
       "   Undisbursed Amount  Disbursed Amount  Repaid to IBRD  Due to IBRD  \\\n",
       "0               -0.18              1.16           -0.48        -0.26   \n",
       "1               -0.18             -0.42           -0.36        -0.26   \n",
       "2               -0.18             -0.49           -0.47        -0.26   \n",
       "3               -0.18             -0.01            0.24        -0.26   \n",
       "4               -0.18             -0.41           -0.33        -0.26   \n",
       "\n",
       "   Exchange Adjustment  Borrowers Obligation  Loans Held  clusters  \n",
       "0                 0.06                 -0.26       -0.30         1  \n",
       "1                 0.06                 -0.26       -0.30         1  \n",
       "2                 0.06                 -0.26       -0.30         1  \n",
       "3                 0.06                 -0.26       -0.30         1  \n",
       "4                 0.06                 -0.26       -0.30         1  "
      ]
     },
     "execution_count": 25,
     "metadata": {},
     "output_type": "execute_result"
    }
   ],
   "source": [
    "df_stand.head()"
   ]
  },
  {
   "cell_type": "code",
   "execution_count": 26,
   "id": "2ba3155d",
   "metadata": {},
   "outputs": [
    {
     "data": {
      "text/plain": [
       "1    8082\n",
       "0     309\n",
       "Name: clusters, dtype: int64"
      ]
     },
     "execution_count": 26,
     "metadata": {},
     "output_type": "execute_result"
    }
   ],
   "source": [
    "# counting values in clusters\n",
    "\n",
    "df_stand['clusters'].value_counts()"
   ]
  },
  {
   "cell_type": "markdown",
   "id": "78abd396",
   "metadata": {},
   "source": [
    "# Visualizations with clustered data"
   ]
  },
  {
   "cell_type": "code",
   "execution_count": 27,
   "id": "6c4c380d",
   "metadata": {},
   "outputs": [
    {
     "data": {
      "image/png": "[encoded data removed]",
      "text/plain": [
       "<Figure size 864x576 with 1 Axes>"
      ]
     },
     "metadata": {
      "needs_background": "light"
     },
     "output_type": "display_data"
    }
   ],
   "source": [
    "# Plot the clusters for the \"Borrowers Obligation\" and \"Due to IBRD\" variables.\n",
    "\n",
    "plt.figure(figsize=(12,8))\n",
    "ax = sns.scatterplot(x=df['Due to IBRD'], y=df['Borrowers Obligation'], hue=kmeans_pca.labels_, s=100) \n",
    "# Here, you're subsetting `X` for the x and y arguments to avoid using their labels \n",
    "# `hue` takes the value of the attribute `kmeans.labels_`, which is the result of running the k-means algorithm\n",
    "# `s` represents the size of the points you want to see in the plot\n",
    "\n",
    "ax.grid(False) # This removes the grid from the background\n",
    "plt.xlabel('Due to IBRD') # Label x-axis\n",
    "plt.ylabel('Borrowers Obligation') # Label y-axis\n",
    "plt.show()"
   ]
  },
  {
   "cell_type": "markdown",
   "id": "e2125a96",
   "metadata": {},
   "source": [
    "- The first cluster, in orange (coded as “1” in the legend), has only data points that are representing really low amounts for both, Due to IBRD and Borrowers Obligation.\n",
    "\n",
    "- The second cluster, in blue (coded as “0” in the legend), gathers the data points with the highest amount of Due to IBRD and highest amounts of Borrowers Obligations. There is only one data point that is suggesting a low amount of Borrowers Obligation.\n"
   ]
  },
  {
   "cell_type": "code",
   "execution_count": 28,
   "id": "1fa0dfac",
   "metadata": {},
   "outputs": [
    {
     "data": {
      "image/png": "[encoded data removed]",
      "text/plain": [
       "<Figure size 864x576 with 1 Axes>"
      ]
     },
     "metadata": {
      "needs_background": "light"
     },
     "output_type": "display_data"
    }
   ],
   "source": [
    "# Plot the clusters for the \"Original Principal Amount\" and \"Due to IBRD\" variables.\n",
    "\n",
    "plt.figure(figsize=(12,8))\n",
    "ax = sns.scatterplot(x=df['Due to IBRD'], y=df['Original Principal Amount'], hue=kmeans_pca.labels_, s=100) \n",
    "\n",
    "ax.grid(False) \n",
    "plt.xlabel('Due to IBRD')\n",
    "plt.ylabel('Original Principal Amount')\n",
    "plt.show()"
   ]
  },
  {
   "cell_type": "markdown",
   "id": "2dadddc9",
   "metadata": {},
   "source": [
    "- The first cluster, in orange (coded as “1” in the legend), contains data points with low amounts of Original Principal Amount and Due to IBRD.\n",
    "\n",
    "- The second cluster, in blue (coded as “0” in the legend), gathers the data points with the high Original Principal Amounts and mostly high amounts of Due to IBRD, with exception of data points that are representing zero amounts of Due to IBRD."
   ]
  },
  {
   "cell_type": "code",
   "execution_count": 29,
   "id": "d2486f44",
   "metadata": {},
   "outputs": [
    {
     "data": {
      "image/png": "[encoded data removed]",
      "text/plain": [
       "<Figure size 864x576 with 1 Axes>"
      ]
     },
     "metadata": {
      "needs_background": "light"
     },
     "output_type": "display_data"
    }
   ],
   "source": [
    "# Plot the clusters for the \"Interest Rate\" and \"Original Principal Amount\" variables.\n",
    "\n",
    "plt.figure(figsize=(12,8))\n",
    "ax = sns.scatterplot(x=df['Interest Rate'], y=df['Original Principal Amount'], hue=kmeans_pca.labels_, s=100) \n",
    "\n",
    "ax.grid(False) \n",
    "plt.xlabel('Interest Rate')\n",
    "plt.ylabel('Original Principal Amount')\n",
    "plt.show()"
   ]
  },
  {
   "cell_type": "markdown",
   "id": "34e1c96e",
   "metadata": {},
   "source": [
    "- The first cluster, in orange (coded as “1” in the legend), is the most populated cluster. It gathers the data points with very low Original Principal Amounts and all hights of Interest rates. \n",
    "\n",
    "- The second cluster, in blue (coded as “0” in the legend), includes points with only high Original Principal Amounts, and with only relatively small Interest Rates. There are no blue points where Interest Rate is higher than 7.\n"
   ]
  },
  {
   "cell_type": "code",
   "execution_count": 30,
   "id": "cea88a00",
   "metadata": {},
   "outputs": [],
   "source": [
    "df_stand.loc[df_stand['clusters'] == 1, 'cluster'] = 'orange'\n",
    "df_stand.loc[df_stand['clusters'] == 0, 'cluster'] = 'blue'"
   ]
  },
  {
   "cell_type": "code",
   "execution_count": 31,
   "id": "c92f91dd",
   "metadata": {},
   "outputs": [
    {
     "data": {
      "text/html": [
       "<div>\n",
       "<style scoped>\n",
       "    .dataframe tbody tr th:only-of-type {\n",
       "        vertical-align: middle;\n",
       "    }\n",
       "\n",
       "    .dataframe tbody tr th {\n",
       "        vertical-align: top;\n",
       "    }\n",
       "\n",
       "    .dataframe thead tr th {\n",
       "        text-align: left;\n",
       "    }\n",
       "\n",
       "    .dataframe thead tr:last-of-type th {\n",
       "        text-align: right;\n",
       "    }\n",
       "</style>\n",
       "<table border=\"1\" class=\"dataframe\">\n",
       "  <thead>\n",
       "    <tr>\n",
       "      <th></th>\n",
       "      <th colspan=\"2\" halign=\"left\">Interest Rate</th>\n",
       "      <th colspan=\"2\" halign=\"left\">Original Principal Amount</th>\n",
       "      <th colspan=\"2\" halign=\"left\">Due to IBRD</th>\n",
       "      <th colspan=\"2\" halign=\"left\">Borrowers Obligation</th>\n",
       "    </tr>\n",
       "    <tr>\n",
       "      <th></th>\n",
       "      <th>mean</th>\n",
       "      <th>median</th>\n",
       "      <th>mean</th>\n",
       "      <th>median</th>\n",
       "      <th>mean</th>\n",
       "      <th>median</th>\n",
       "      <th>mean</th>\n",
       "      <th>median</th>\n",
       "    </tr>\n",
       "    <tr>\n",
       "      <th>cluster</th>\n",
       "      <th></th>\n",
       "      <th></th>\n",
       "      <th></th>\n",
       "      <th></th>\n",
       "      <th></th>\n",
       "      <th></th>\n",
       "      <th></th>\n",
       "      <th></th>\n",
       "    </tr>\n",
       "  </thead>\n",
       "  <tbody>\n",
       "    <tr>\n",
       "      <th>blue</th>\n",
       "      <td>-1.16</td>\n",
       "      <td>-1.18</td>\n",
       "      <td>3.36</td>\n",
       "      <td>2.46</td>\n",
       "      <td>4.06</td>\n",
       "      <td>3.37</td>\n",
       "      <td>4.10</td>\n",
       "      <td>3.56</td>\n",
       "    </tr>\n",
       "    <tr>\n",
       "      <th>orange</th>\n",
       "      <td>0.04</td>\n",
       "      <td>0.27</td>\n",
       "      <td>-0.13</td>\n",
       "      <td>-0.35</td>\n",
       "      <td>-0.16</td>\n",
       "      <td>-0.26</td>\n",
       "      <td>-0.16</td>\n",
       "      <td>-0.26</td>\n",
       "    </tr>\n",
       "  </tbody>\n",
       "</table>\n",
       "</div>"
      ],
      "text/plain": [
       "        Interest Rate        Original Principal Amount        Due to IBRD  \\\n",
       "                 mean median                      mean median        mean   \n",
       "cluster                                                                     \n",
       "blue            -1.16  -1.18                      3.36   2.46        4.06   \n",
       "orange           0.04   0.27                     -0.13  -0.35       -0.16   \n",
       "\n",
       "               Borrowers Obligation         \n",
       "        median                 mean median  \n",
       "cluster                                     \n",
       "blue      3.37                 4.10   3.56  \n",
       "orange   -0.26                -0.16  -0.26  "
      ]
     },
     "execution_count": 31,
     "metadata": {},
     "output_type": "execute_result"
    }
   ],
   "source": [
    "# calculating the descriptive statistics for clusters using the groupby() function\n",
    "\n",
    "df_stand.groupby('cluster').agg({'Interest Rate':['mean', 'median'],\n",
    "                             'Original Principal Amount':['mean', 'median'],\n",
    "                             'Due to IBRD':['mean', 'median'],\n",
    "                             'Borrowers Obligation':['mean', 'median']})"
   ]
  },
  {
   "cell_type": "markdown",
   "id": "9d074455",
   "metadata": {},
   "source": [
    "- The blue cluster has significantly higher means in all categories.\n",
    "\n",
    "- The orange cluster has a higher mean than the blue one for the Interest Rate category.\n",
    "\n",
    "- The blue cluster has a lower median number of interest rates than the orange cluster, whereas the blue cluster has a greater median number of original principal amounts than the orange cluster. \n",
    "\n",
    "- This implies that the borrower will likely pay a lower interest rate if he obtains a higher original principal amount.\n"
   ]
  },
  {
   "cell_type": "markdown",
   "id": "d4935c41",
   "metadata": {},
   "source": [
    "# Future steps"
   ]
  },
  {
   "cell_type": "markdown",
   "id": "51900110",
   "metadata": {},
   "source": [
    "- The cluster analysis revealed that the height of the OPA affects the interest rate, although it is still unclear how exactly, it should be more investigated.\n",
    "\n",
    "- It would be interesting to examine whether time has any effect on OPA and Interest rates. \n",
    "\n",
    "- Additionally, it would be useful to be able to forecast interest rates using a classification system."
   ]
  },
  {
   "cell_type": "markdown",
   "id": "f6d19307",
   "metadata": {},
   "source": [
    "# EXPORTING TO EXCEL"
   ]
  },
  {
   "cell_type": "code",
   "execution_count": 33,
   "id": "200229e2",
   "metadata": {},
   "outputs": [],
   "source": [
    "df_stand.to_excel('clust_data.xlsx', sheet_name='sheet1', index=False)"
   ]
  },
  {
   "cell_type": "code",
   "execution_count": null,
   "id": "21d1b2c4",
   "metadata": {},
   "outputs": [],
   "source": []
  }
 ],
 "metadata": {
  "kernelspec": {
   "display_name": "Python 3 (ipykernel)",
   "language": "python",
   "name": "python3"
  },
  "language_info": {
   "codemirror_mode": {
    "name": "ipython",
    "version": 3
   },
   "file_extension": ".py",
   "mimetype": "text/x-python",
   "name": "python",
   "nbconvert_exporter": "python",
   "pygments_lexer": "ipython3",
   "version": "3.9.12"
  },
  "toc": {
   "base_numbering": 1,
   "nav_menu": {},
   "number_sections": true,
   "sideBar": true,
   "skip_h1_title": false,
   "title_cell": "Table of Contents",
   "title_sidebar": "Contents",
   "toc_cell": false,
   "toc_position": {},
   "toc_section_display": true,
   "toc_window_display": true
  }
 },
 "nbformat": 4,
 "nbformat_minor": 5
}

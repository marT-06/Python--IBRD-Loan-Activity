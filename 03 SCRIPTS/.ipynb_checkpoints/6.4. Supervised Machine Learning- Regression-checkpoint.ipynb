{
 "cells": [
  {
   "cell_type": "markdown",
   "id": "6a1c38c9",
   "metadata": {},
   "source": [
    "# Import libraries and data"
   ]
  },
  {
   "cell_type": "code",
   "execution_count": 1,
   "id": "795eaeb6",
   "metadata": {},
   "outputs": [],
   "source": [
    "import pandas as pd\n",
    "import numpy as np\n",
    "import seaborn as sns\n",
    "import matplotlib\n",
    "import matplotlib.pyplot as plt\n",
    "import os\n",
    "import sklearn\n",
    "from sklearn.model_selection import train_test_split \n",
    "from sklearn.linear_model import LinearRegression\n",
    "from sklearn.metrics import mean_squared_error, r2_score"
   ]
  },
  {
   "cell_type": "code",
   "execution_count": 2,
   "id": "ae58d93c",
   "metadata": {},
   "outputs": [],
   "source": [
    "# ensuring that the graphs  are displayed within the notebook without \"calling\" them specifically.\n",
    "\n",
    "%matplotlib inline"
   ]
  },
  {
   "cell_type": "code",
   "execution_count": 3,
   "id": "d0d91f65",
   "metadata": {},
   "outputs": [
    {
     "data": {
      "text/html": [
       "<div>\n",
       "<style scoped>\n",
       "    .dataframe tbody tr th:only-of-type {\n",
       "        vertical-align: middle;\n",
       "    }\n",
       "\n",
       "    .dataframe tbody tr th {\n",
       "        vertical-align: top;\n",
       "    }\n",
       "\n",
       "    .dataframe thead th {\n",
       "        text-align: right;\n",
       "    }\n",
       "</style>\n",
       "<table border=\"1\" class=\"dataframe\">\n",
       "  <thead>\n",
       "    <tr style=\"text-align: right;\">\n",
       "      <th></th>\n",
       "      <th>Loan Number</th>\n",
       "      <th>Region</th>\n",
       "      <th>Country</th>\n",
       "      <th>Borrower</th>\n",
       "      <th>Guarantor</th>\n",
       "      <th>Loan Type</th>\n",
       "      <th>Loan Status</th>\n",
       "      <th>Interest Rate</th>\n",
       "      <th>Original Principal Amount</th>\n",
       "      <th>Cancelled Amount</th>\n",
       "      <th>Undisbursed Amount</th>\n",
       "      <th>Disbursed Amount</th>\n",
       "      <th>Repaid to IBRD</th>\n",
       "      <th>Due to IBRD</th>\n",
       "      <th>Exchange Adjustment</th>\n",
       "      <th>Borrowers Obligation</th>\n",
       "      <th>Loans Held</th>\n",
       "      <th>Agreement Signing Date</th>\n",
       "      <th>Effective Date (Most Recent)</th>\n",
       "      <th>Closed Date (Most Recent)</th>\n",
       "    </tr>\n",
       "  </thead>\n",
       "  <tbody>\n",
       "    <tr>\n",
       "      <th>0</th>\n",
       "      <td>IBRD00010</td>\n",
       "      <td>EUROPE AND CENTRAL ASIA</td>\n",
       "      <td>France</td>\n",
       "      <td>CREDIT NATIONAL</td>\n",
       "      <td>France</td>\n",
       "      <td>NPL</td>\n",
       "      <td>Fully Repaid</td>\n",
       "      <td>4.25</td>\n",
       "      <td>250000000.0</td>\n",
       "      <td>0.0</td>\n",
       "      <td>0.0</td>\n",
       "      <td>250000000.0</td>\n",
       "      <td>38000.00</td>\n",
       "      <td>0.0</td>\n",
       "      <td>0.0</td>\n",
       "      <td>0.0</td>\n",
       "      <td>0.0</td>\n",
       "      <td>1947-05-09</td>\n",
       "      <td>1947-06-09</td>\n",
       "      <td>1947-12-31</td>\n",
       "    </tr>\n",
       "    <tr>\n",
       "      <th>5</th>\n",
       "      <td>IBRD00050</td>\n",
       "      <td>LATIN AMERICA AND CARIBBEAN</td>\n",
       "      <td>Chile</td>\n",
       "      <td>Ministry of Finance</td>\n",
       "      <td>Chile</td>\n",
       "      <td>NPL</td>\n",
       "      <td>Fully Repaid</td>\n",
       "      <td>4.50</td>\n",
       "      <td>13500000.0</td>\n",
       "      <td>0.0</td>\n",
       "      <td>0.0</td>\n",
       "      <td>13500000.0</td>\n",
       "      <td>12167000.00</td>\n",
       "      <td>0.0</td>\n",
       "      <td>0.0</td>\n",
       "      <td>0.0</td>\n",
       "      <td>0.0</td>\n",
       "      <td>1948-03-25</td>\n",
       "      <td>1949-04-07</td>\n",
       "      <td>1954-12-31</td>\n",
       "    </tr>\n",
       "    <tr>\n",
       "      <th>6</th>\n",
       "      <td>IBRD00060</td>\n",
       "      <td>LATIN AMERICA AND CARIBBEAN</td>\n",
       "      <td>Chile</td>\n",
       "      <td>Ministry of Finance</td>\n",
       "      <td>Chile</td>\n",
       "      <td>NPL</td>\n",
       "      <td>Fully Repaid</td>\n",
       "      <td>3.75</td>\n",
       "      <td>2500000.0</td>\n",
       "      <td>0.0</td>\n",
       "      <td>0.0</td>\n",
       "      <td>2500000.0</td>\n",
       "      <td>755000.00</td>\n",
       "      <td>0.0</td>\n",
       "      <td>0.0</td>\n",
       "      <td>0.0</td>\n",
       "      <td>0.0</td>\n",
       "      <td>1948-03-25</td>\n",
       "      <td>1949-04-07</td>\n",
       "      <td>1950-01-01</td>\n",
       "    </tr>\n",
       "    <tr>\n",
       "      <th>13</th>\n",
       "      <td>IBRD00111</td>\n",
       "      <td>LATIN AMERICA AND CARIBBEAN</td>\n",
       "      <td>Brazil</td>\n",
       "      <td>Ministério da Fazenda</td>\n",
       "      <td>Brazil</td>\n",
       "      <td>NPL</td>\n",
       "      <td>Fully Repaid</td>\n",
       "      <td>4.50</td>\n",
       "      <td>75000000.0</td>\n",
       "      <td>0.0</td>\n",
       "      <td>0.0</td>\n",
       "      <td>75000000.0</td>\n",
       "      <td>70971588.97</td>\n",
       "      <td>0.0</td>\n",
       "      <td>0.0</td>\n",
       "      <td>0.0</td>\n",
       "      <td>0.0</td>\n",
       "      <td>1949-01-27</td>\n",
       "      <td>1949-05-09</td>\n",
       "      <td>1953-12-31</td>\n",
       "    </tr>\n",
       "    <tr>\n",
       "      <th>14</th>\n",
       "      <td>IBRD00112</td>\n",
       "      <td>LATIN AMERICA AND CARIBBEAN</td>\n",
       "      <td>Brazil</td>\n",
       "      <td>Ministério da Fazenda</td>\n",
       "      <td>Brazil</td>\n",
       "      <td>NPL</td>\n",
       "      <td>Fully Repaid</td>\n",
       "      <td>4.25</td>\n",
       "      <td>15000000.0</td>\n",
       "      <td>0.0</td>\n",
       "      <td>0.0</td>\n",
       "      <td>15000000.0</td>\n",
       "      <td>15000000.00</td>\n",
       "      <td>0.0</td>\n",
       "      <td>0.0</td>\n",
       "      <td>0.0</td>\n",
       "      <td>0.0</td>\n",
       "      <td>1951-01-18</td>\n",
       "      <td>1951-04-10</td>\n",
       "      <td>1954-12-31</td>\n",
       "    </tr>\n",
       "  </tbody>\n",
       "</table>\n",
       "</div>"
      ],
      "text/plain": [
       "   Loan Number                       Region Country               Borrower  \\\n",
       "0    IBRD00010      EUROPE AND CENTRAL ASIA  France        CREDIT NATIONAL   \n",
       "5    IBRD00050  LATIN AMERICA AND CARIBBEAN   Chile    Ministry of Finance   \n",
       "6    IBRD00060  LATIN AMERICA AND CARIBBEAN   Chile    Ministry of Finance   \n",
       "13   IBRD00111  LATIN AMERICA AND CARIBBEAN  Brazil  Ministério da Fazenda   \n",
       "14   IBRD00112  LATIN AMERICA AND CARIBBEAN  Brazil  Ministério da Fazenda   \n",
       "\n",
       "   Guarantor Loan Type   Loan Status  Interest Rate  \\\n",
       "0     France       NPL  Fully Repaid           4.25   \n",
       "5      Chile       NPL  Fully Repaid           4.50   \n",
       "6      Chile       NPL  Fully Repaid           3.75   \n",
       "13    Brazil       NPL  Fully Repaid           4.50   \n",
       "14    Brazil       NPL  Fully Repaid           4.25   \n",
       "\n",
       "    Original Principal Amount  Cancelled Amount  Undisbursed Amount  \\\n",
       "0                 250000000.0               0.0                 0.0   \n",
       "5                  13500000.0               0.0                 0.0   \n",
       "6                   2500000.0               0.0                 0.0   \n",
       "13                 75000000.0               0.0                 0.0   \n",
       "14                 15000000.0               0.0                 0.0   \n",
       "\n",
       "    Disbursed Amount  Repaid to IBRD  Due to IBRD  Exchange Adjustment  \\\n",
       "0        250000000.0        38000.00          0.0                  0.0   \n",
       "5         13500000.0     12167000.00          0.0                  0.0   \n",
       "6          2500000.0       755000.00          0.0                  0.0   \n",
       "13        75000000.0     70971588.97          0.0                  0.0   \n",
       "14        15000000.0     15000000.00          0.0                  0.0   \n",
       "\n",
       "    Borrowers Obligation  Loans Held Agreement Signing Date  \\\n",
       "0                    0.0         0.0             1947-05-09   \n",
       "5                    0.0         0.0             1948-03-25   \n",
       "6                    0.0         0.0             1948-03-25   \n",
       "13                   0.0         0.0             1949-01-27   \n",
       "14                   0.0         0.0             1951-01-18   \n",
       "\n",
       "   Effective Date (Most Recent) Closed Date (Most Recent)  \n",
       "0                    1947-06-09                1947-12-31  \n",
       "5                    1949-04-07                1954-12-31  \n",
       "6                    1949-04-07                1950-01-01  \n",
       "13                   1949-05-09                1953-12-31  \n",
       "14                   1951-04-10                1954-12-31  "
      ]
     },
     "execution_count": 3,
     "metadata": {},
     "output_type": "execute_result"
    }
   ],
   "source": [
    "# turning a project folder path into a string\n",
    "\n",
    "path = r'/Users/mart/Documents/09-2022 IBRD  Statement of Loans'\n",
    "\n",
    "# Importing database\n",
    "\n",
    "df = pd.read_pickle(os.path.join(path,'02 Data','Prepared Data', 'SoL.pkl'))\n",
    "\n",
    "# set options to show all columns\n",
    "\n",
    "pd.set_option('display.max_columns', None)\n",
    "\n",
    "# check the first rows\n",
    "\n",
    "df.head()"
   ]
  },
  {
   "cell_type": "markdown",
   "id": "852b4952",
   "metadata": {},
   "source": [
    "# Data checks"
   ]
  },
  {
   "cell_type": "code",
   "execution_count": 4,
   "id": "a7324b26",
   "metadata": {},
   "outputs": [
    {
     "data": {
      "text/plain": [
       "Index(['Loan Number', 'Region', 'Country', 'Borrower', 'Guarantor',\n",
       "       'Loan Type', 'Loan Status', 'Interest Rate',\n",
       "       'Original Principal Amount', 'Cancelled Amount', 'Undisbursed Amount',\n",
       "       'Disbursed Amount', 'Repaid to IBRD', 'Due to IBRD',\n",
       "       'Exchange Adjustment', 'Borrowers Obligation', 'Loans Held',\n",
       "       'Agreement Signing Date', 'Effective Date (Most Recent)',\n",
       "       'Closed Date (Most Recent)'],\n",
       "      dtype='object')"
      ]
     },
     "execution_count": 4,
     "metadata": {},
     "output_type": "execute_result"
    }
   ],
   "source": [
    "df.columns"
   ]
  },
  {
   "cell_type": "code",
   "execution_count": 5,
   "id": "6e4001e0",
   "metadata": {},
   "outputs": [
    {
     "data": {
      "text/plain": [
       "Loan Number                     0\n",
       "Region                          0\n",
       "Country                         0\n",
       "Borrower                        0\n",
       "Guarantor                       0\n",
       "Loan Type                       0\n",
       "Loan Status                     0\n",
       "Interest Rate                   0\n",
       "Original Principal Amount       0\n",
       "Cancelled Amount                0\n",
       "Undisbursed Amount              0\n",
       "Disbursed Amount                0\n",
       "Repaid to IBRD                  0\n",
       "Due to IBRD                     0\n",
       "Exchange Adjustment             0\n",
       "Borrowers Obligation            0\n",
       "Loans Held                      0\n",
       "Agreement Signing Date          0\n",
       "Effective Date (Most Recent)    0\n",
       "Closed Date (Most Recent)       0\n",
       "dtype: int64"
      ]
     },
     "execution_count": 5,
     "metadata": {},
     "output_type": "execute_result"
    }
   ],
   "source": [
    "# checking for missing values\n",
    "\n",
    "df.isnull().sum()"
   ]
  },
  {
   "cell_type": "code",
   "execution_count": 6,
   "id": "b2be77fd",
   "metadata": {},
   "outputs": [
    {
     "data": {
      "text/html": [
       "<div>\n",
       "<style scoped>\n",
       "    .dataframe tbody tr th:only-of-type {\n",
       "        vertical-align: middle;\n",
       "    }\n",
       "\n",
       "    .dataframe tbody tr th {\n",
       "        vertical-align: top;\n",
       "    }\n",
       "\n",
       "    .dataframe thead th {\n",
       "        text-align: right;\n",
       "    }\n",
       "</style>\n",
       "<table border=\"1\" class=\"dataframe\">\n",
       "  <thead>\n",
       "    <tr style=\"text-align: right;\">\n",
       "      <th></th>\n",
       "      <th>Loan Number</th>\n",
       "      <th>Region</th>\n",
       "      <th>Country</th>\n",
       "      <th>Borrower</th>\n",
       "      <th>Guarantor</th>\n",
       "      <th>Loan Type</th>\n",
       "      <th>Loan Status</th>\n",
       "      <th>Interest Rate</th>\n",
       "      <th>Original Principal Amount</th>\n",
       "      <th>Cancelled Amount</th>\n",
       "      <th>Undisbursed Amount</th>\n",
       "      <th>Disbursed Amount</th>\n",
       "      <th>Repaid to IBRD</th>\n",
       "      <th>Due to IBRD</th>\n",
       "      <th>Exchange Adjustment</th>\n",
       "      <th>Borrowers Obligation</th>\n",
       "      <th>Loans Held</th>\n",
       "      <th>Agreement Signing Date</th>\n",
       "      <th>Effective Date (Most Recent)</th>\n",
       "      <th>Closed Date (Most Recent)</th>\n",
       "    </tr>\n",
       "  </thead>\n",
       "  <tbody>\n",
       "  </tbody>\n",
       "</table>\n",
       "</div>"
      ],
      "text/plain": [
       "Empty DataFrame\n",
       "Columns: [Loan Number, Region, Country, Borrower, Guarantor, Loan Type, Loan Status, Interest Rate, Original Principal Amount, Cancelled Amount, Undisbursed Amount, Disbursed Amount, Repaid to IBRD, Due to IBRD, Exchange Adjustment, Borrowers Obligation, Loans Held, Agreement Signing Date, Effective Date (Most Recent), Closed Date (Most Recent)]\n",
       "Index: []"
      ]
     },
     "execution_count": 6,
     "metadata": {},
     "output_type": "execute_result"
    }
   ],
   "source": [
    "# checking for duplicates\n",
    "\n",
    "df_dups = df[df.duplicated()]\n",
    "df_dups"
   ]
  },
  {
   "cell_type": "markdown",
   "id": "3d52f04f",
   "metadata": {},
   "source": [
    "## Extreme values checks"
   ]
  },
  {
   "cell_type": "code",
   "execution_count": 7,
   "id": "500373d3",
   "metadata": {},
   "outputs": [
    {
     "name": "stderr",
     "output_type": "stream",
     "text": [
      "/Users/mart/opt/anaconda3/lib/python3.9/site-packages/seaborn/distributions.py:2619: FutureWarning: `distplot` is a deprecated function and will be removed in a future version. Please adapt your code to use either `displot` (a figure-level function with similar flexibility) or `histplot` (an axes-level function for histograms).\n",
      "  warnings.warn(msg, FutureWarning)\n"
     ]
    },
    {
     "data": {
      "text/plain": [
       "<AxesSubplot:xlabel='Borrowers Obligation', ylabel='Density'>"
      ]
     },
     "execution_count": 7,
     "metadata": {},
     "output_type": "execute_result"
    },
    {
     "data": {
      "image/png": "[encoded data removed]",
      "text/plain": [
       "<Figure size 432x288 with 1 Axes>"
      ]
     },
     "metadata": {
      "needs_background": "light"
     },
     "output_type": "display_data"
    }
   ],
   "source": [
    "sns.distplot(df['Borrowers Obligation'], bins=35)"
   ]
  },
  {
   "cell_type": "code",
   "execution_count": 8,
   "id": "ec850c3d",
   "metadata": {},
   "outputs": [
    {
     "data": {
      "text/plain": [
       "27344531.255204417"
      ]
     },
     "execution_count": 8,
     "metadata": {},
     "output_type": "execute_result"
    }
   ],
   "source": [
    "# Check the mean\n",
    "\n",
    "df['Borrowers Obligation'].mean()"
   ]
  },
  {
   "cell_type": "code",
   "execution_count": 9,
   "id": "f05531ec",
   "metadata": {},
   "outputs": [
    {
     "data": {
      "text/plain": [
       "0.0"
      ]
     },
     "execution_count": 9,
     "metadata": {},
     "output_type": "execute_result"
    }
   ],
   "source": [
    "# Check the median\n",
    "\n",
    "df['Borrowers Obligation'].median()"
   ]
  },
  {
   "cell_type": "code",
   "execution_count": 10,
   "id": "ad07ee32",
   "metadata": {},
   "outputs": [
    {
     "data": {
      "text/plain": [
       "1708802751.37"
      ]
     },
     "execution_count": 10,
     "metadata": {},
     "output_type": "execute_result"
    }
   ],
   "source": [
    "# Check the max\n",
    "\n",
    "df['Borrowers Obligation'].max()"
   ]
  },
  {
   "cell_type": "markdown",
   "id": "d7d1649d",
   "metadata": {},
   "source": [
    "# Data prep for regression analysis"
   ]
  },
  {
   "cell_type": "code",
   "execution_count": 11,
   "id": "668c62fe",
   "metadata": {},
   "outputs": [
    {
     "data": {
      "image/png": "[encoded data removed]",
      "text/plain": [
       "<Figure size 432x288 with 1 Axes>"
      ]
     },
     "metadata": {
      "needs_background": "light"
     },
     "output_type": "display_data"
    }
   ],
   "source": [
    "# Create a scatterplot using matplotlib for another look at how the chosen variables plot against each other\n",
    "\n",
    "df.plot(x = 'Due to IBRD', y='Borrowers Obligation',style='o') # The style option creates a scatterplot; without it, we only have lines.\n",
    "plt.title('Due to IBRD vs Borrowers Obligation')  \n",
    "plt.xlabel('Due to IBRD')  \n",
    "plt.ylabel('Borrowers Obligation')  \n",
    "plt.show()"
   ]
  },
  {
   "cell_type": "markdown",
   "id": "4e6c9d79",
   "metadata": {},
   "source": [
    "## Hypothesis"
   ]
  },
  {
   "cell_type": "markdown",
   "id": "a3d3cbe4",
   "metadata": {},
   "source": [
    "- If the disbursed and outstanding amount (Due to IBRD) is high, then The Borrower Obligation will be high as well."
   ]
  },
  {
   "cell_type": "markdown",
   "id": "2f80d9ad",
   "metadata": {},
   "source": [
    "## Reshaping the variables into NumPy arrays"
   ]
  },
  {
   "cell_type": "code",
   "execution_count": 12,
   "id": "995d3259",
   "metadata": {},
   "outputs": [],
   "source": [
    "# Reshape the variables into NumPy arrays and put them into separate objects.\n",
    "\n",
    "X = df['Due to IBRD'].values.reshape(-1,1)\n",
    "y = df['Borrowers Obligation'].values.reshape(-1,1)"
   ]
  },
  {
   "cell_type": "code",
   "execution_count": 13,
   "id": "86e59e06",
   "metadata": {},
   "outputs": [
    {
     "data": {
      "text/plain": [
       "array([[0.],\n",
       "       [0.],\n",
       "       [0.],\n",
       "       ...,\n",
       "       [0.],\n",
       "       [0.],\n",
       "       [0.]])"
      ]
     },
     "execution_count": 13,
     "metadata": {},
     "output_type": "execute_result"
    }
   ],
   "source": [
    "X"
   ]
  },
  {
   "cell_type": "code",
   "execution_count": 14,
   "id": "9ebab6d0",
   "metadata": {},
   "outputs": [
    {
     "data": {
      "text/plain": [
       "array([[ 0.  ],\n",
       "       [ 0.  ],\n",
       "       [ 0.  ],\n",
       "       ...,\n",
       "       [ 0.  ],\n",
       "       [-0.01],\n",
       "       [ 0.  ]])"
      ]
     },
     "execution_count": 14,
     "metadata": {},
     "output_type": "execute_result"
    }
   ],
   "source": [
    "y"
   ]
  },
  {
   "cell_type": "code",
   "execution_count": 15,
   "id": "553eb252",
   "metadata": {},
   "outputs": [],
   "source": [
    "# Split data into a training set and a test set.\n",
    "\n",
    "X_train, X_test, y_train, y_test = train_test_split(X, y, test_size=0.3, random_state=0)"
   ]
  },
  {
   "cell_type": "markdown",
   "id": "cafd1f82",
   "metadata": {},
   "source": [
    "# Regression analysis"
   ]
  },
  {
   "cell_type": "code",
   "execution_count": 16,
   "id": "d2aab4b9",
   "metadata": {},
   "outputs": [],
   "source": [
    "# Create a regression object.\n",
    "\n",
    "regression = LinearRegression()  # This is the regression object, which will be fit onto the training set."
   ]
  },
  {
   "cell_type": "code",
   "execution_count": 17,
   "id": "6286662f",
   "metadata": {},
   "outputs": [
    {
     "data": {
      "text/plain": [
       "LinearRegression()"
      ]
     },
     "execution_count": 17,
     "metadata": {},
     "output_type": "execute_result"
    }
   ],
   "source": [
    "# Fit the regression object onto the training set.\n",
    "\n",
    "regression.fit(X_train, y_train)"
   ]
  },
  {
   "cell_type": "code",
   "execution_count": 18,
   "id": "dd7a4d0f",
   "metadata": {},
   "outputs": [],
   "source": [
    "# Predict the values of y using X.\n",
    "\n",
    "y_predicted = regression.predict(X_test)"
   ]
  },
  {
   "cell_type": "code",
   "execution_count": 19,
   "id": "a252b36a",
   "metadata": {},
   "outputs": [
    {
     "data": {
      "image/png": "[encoded data removed]",
      "text/plain": [
       "<Figure size 432x288 with 1 Axes>"
      ]
     },
     "metadata": {
      "needs_background": "light"
     },
     "output_type": "display_data"
    }
   ],
   "source": [
    "# Create a plot that shows the regression line from the model on the test set.\n",
    "\n",
    "plot_test = plt\n",
    "plot_test.scatter(X_test, y_test, color='gray', s = 15)\n",
    "plot_test.plot(X_test, y_predicted, color='red', linewidth =3)\n",
    "plot_test.title('Due to IBRD vs Borrowers Obligation (Test set)')\n",
    "plot_test.xlabel('Due to IBRD')\n",
    "plot_test.ylabel('Borrowers Obligation')\n",
    "plot_test.show()"
   ]
  },
  {
   "cell_type": "markdown",
   "id": "5d85bd3a",
   "metadata": {},
   "source": [
    "- Although not completely covering all of the data points, the red regression line is close to the data points that are not covered by the line."
   ]
  },
  {
   "cell_type": "code",
   "execution_count": 20,
   "id": "4b702721",
   "metadata": {},
   "outputs": [],
   "source": [
    "# Create objects that contain the model summary statistics.\n",
    "\n",
    "rmse = mean_squared_error(y_test, y_predicted) # This is the mean squared error\n",
    "r2 = r2_score(y_test, y_predicted) # This is the R2 score. "
   ]
  },
  {
   "cell_type": "code",
   "execution_count": 21,
   "id": "23c8c281",
   "metadata": {},
   "outputs": [
    {
     "name": "stdout",
     "output_type": "stream",
     "text": [
      "Slope: [[0.91996808]]\n",
      "Mean squared error:  125067031591153.61\n",
      "R2 score:  0.9888486728838118\n"
     ]
    }
   ],
   "source": [
    "# Print the model summary statistics. This is where you evaluate the performance of the model.\n",
    "\n",
    "print('Slope:' ,regression.coef_)\n",
    "print('Mean squared error: ', rmse)\n",
    "print('R2 score: ', r2)"
   ]
  },
  {
   "cell_type": "markdown",
   "id": "1ca98f69",
   "metadata": {},
   "source": [
    "- The slope is showing us that as X (the Due to IBRD) rises, y  (the Borrowers Obligation ) rises as well at a degree of 0.9199. \n",
    "\n",
    "- The MSE is quite large at 125 067 031 591 153.61, which means that regression is not the best model to represent this data and can’t accurately predict the influence of the Due to IBRD on the Borrowers Obligation.\n",
    "\n",
    "- The R2 score of 0.98 means that the model explains the variance in the data really well."
   ]
  },
  {
   "cell_type": "code",
   "execution_count": 22,
   "id": "188dc499",
   "metadata": {},
   "outputs": [
    {
     "data": {
      "text/plain": [
       "array([[1158364.34309244],\n",
       "       [1158364.34309244],\n",
       "       [1158364.34309244],\n",
       "       ...,\n",
       "       [1158364.34309244],\n",
       "       [1158364.34309244],\n",
       "       [1158364.34309244]])"
      ]
     },
     "execution_count": 22,
     "metadata": {},
     "output_type": "execute_result"
    }
   ],
   "source": [
    "y_predicted"
   ]
  },
  {
   "cell_type": "code",
   "execution_count": 23,
   "id": "64e51d4d",
   "metadata": {},
   "outputs": [
    {
     "data": {
      "text/html": [
       "<div>\n",
       "<style scoped>\n",
       "    .dataframe tbody tr th:only-of-type {\n",
       "        vertical-align: middle;\n",
       "    }\n",
       "\n",
       "    .dataframe tbody tr th {\n",
       "        vertical-align: top;\n",
       "    }\n",
       "\n",
       "    .dataframe thead th {\n",
       "        text-align: right;\n",
       "    }\n",
       "</style>\n",
       "<table border=\"1\" class=\"dataframe\">\n",
       "  <thead>\n",
       "    <tr style=\"text-align: right;\">\n",
       "      <th></th>\n",
       "      <th>Actual</th>\n",
       "      <th>Predicted</th>\n",
       "    </tr>\n",
       "  </thead>\n",
       "  <tbody>\n",
       "    <tr>\n",
       "      <th>0</th>\n",
       "      <td>0.000000e+00</td>\n",
       "      <td>1.158364e+06</td>\n",
       "    </tr>\n",
       "    <tr>\n",
       "      <th>1</th>\n",
       "      <td>0.000000e+00</td>\n",
       "      <td>1.158364e+06</td>\n",
       "    </tr>\n",
       "    <tr>\n",
       "      <th>2</th>\n",
       "      <td>1.000000e-02</td>\n",
       "      <td>1.158364e+06</td>\n",
       "    </tr>\n",
       "    <tr>\n",
       "      <th>3</th>\n",
       "      <td>1.999727e+06</td>\n",
       "      <td>2.998049e+06</td>\n",
       "    </tr>\n",
       "    <tr>\n",
       "      <th>4</th>\n",
       "      <td>0.000000e+00</td>\n",
       "      <td>1.158364e+06</td>\n",
       "    </tr>\n",
       "    <tr>\n",
       "      <th>5</th>\n",
       "      <td>0.000000e+00</td>\n",
       "      <td>1.158364e+06</td>\n",
       "    </tr>\n",
       "    <tr>\n",
       "      <th>6</th>\n",
       "      <td>0.000000e+00</td>\n",
       "      <td>1.158364e+06</td>\n",
       "    </tr>\n",
       "    <tr>\n",
       "      <th>7</th>\n",
       "      <td>3.662720e+08</td>\n",
       "      <td>3.381169e+08</td>\n",
       "    </tr>\n",
       "    <tr>\n",
       "      <th>8</th>\n",
       "      <td>0.000000e+00</td>\n",
       "      <td>1.158364e+06</td>\n",
       "    </tr>\n",
       "    <tr>\n",
       "      <th>9</th>\n",
       "      <td>3.599944e+07</td>\n",
       "      <td>3.427670e+07</td>\n",
       "    </tr>\n",
       "    <tr>\n",
       "      <th>10</th>\n",
       "      <td>0.000000e+00</td>\n",
       "      <td>1.158364e+06</td>\n",
       "    </tr>\n",
       "    <tr>\n",
       "      <th>11</th>\n",
       "      <td>0.000000e+00</td>\n",
       "      <td>1.158364e+06</td>\n",
       "    </tr>\n",
       "    <tr>\n",
       "      <th>12</th>\n",
       "      <td>0.000000e+00</td>\n",
       "      <td>1.158364e+06</td>\n",
       "    </tr>\n",
       "    <tr>\n",
       "      <th>13</th>\n",
       "      <td>0.000000e+00</td>\n",
       "      <td>1.158364e+06</td>\n",
       "    </tr>\n",
       "    <tr>\n",
       "      <th>14</th>\n",
       "      <td>0.000000e+00</td>\n",
       "      <td>1.158364e+06</td>\n",
       "    </tr>\n",
       "    <tr>\n",
       "      <th>15</th>\n",
       "      <td>1.000000e-02</td>\n",
       "      <td>1.158364e+06</td>\n",
       "    </tr>\n",
       "    <tr>\n",
       "      <th>16</th>\n",
       "      <td>0.000000e+00</td>\n",
       "      <td>1.158364e+06</td>\n",
       "    </tr>\n",
       "    <tr>\n",
       "      <th>17</th>\n",
       "      <td>0.000000e+00</td>\n",
       "      <td>1.158364e+06</td>\n",
       "    </tr>\n",
       "    <tr>\n",
       "      <th>18</th>\n",
       "      <td>0.000000e+00</td>\n",
       "      <td>1.158364e+06</td>\n",
       "    </tr>\n",
       "    <tr>\n",
       "      <th>19</th>\n",
       "      <td>0.000000e+00</td>\n",
       "      <td>1.158364e+06</td>\n",
       "    </tr>\n",
       "    <tr>\n",
       "      <th>20</th>\n",
       "      <td>0.000000e+00</td>\n",
       "      <td>1.158364e+06</td>\n",
       "    </tr>\n",
       "    <tr>\n",
       "      <th>21</th>\n",
       "      <td>0.000000e+00</td>\n",
       "      <td>1.158364e+06</td>\n",
       "    </tr>\n",
       "    <tr>\n",
       "      <th>22</th>\n",
       "      <td>0.000000e+00</td>\n",
       "      <td>1.158364e+06</td>\n",
       "    </tr>\n",
       "    <tr>\n",
       "      <th>23</th>\n",
       "      <td>0.000000e+00</td>\n",
       "      <td>1.158364e+06</td>\n",
       "    </tr>\n",
       "    <tr>\n",
       "      <th>24</th>\n",
       "      <td>0.000000e+00</td>\n",
       "      <td>1.158364e+06</td>\n",
       "    </tr>\n",
       "    <tr>\n",
       "      <th>25</th>\n",
       "      <td>2.517677e+06</td>\n",
       "      <td>3.474547e+06</td>\n",
       "    </tr>\n",
       "    <tr>\n",
       "      <th>26</th>\n",
       "      <td>0.000000e+00</td>\n",
       "      <td>1.158364e+06</td>\n",
       "    </tr>\n",
       "    <tr>\n",
       "      <th>27</th>\n",
       "      <td>0.000000e+00</td>\n",
       "      <td>1.158364e+06</td>\n",
       "    </tr>\n",
       "    <tr>\n",
       "      <th>28</th>\n",
       "      <td>3.360136e+07</td>\n",
       "      <td>3.529490e+07</td>\n",
       "    </tr>\n",
       "    <tr>\n",
       "      <th>29</th>\n",
       "      <td>0.000000e+00</td>\n",
       "      <td>1.158364e+06</td>\n",
       "    </tr>\n",
       "  </tbody>\n",
       "</table>\n",
       "</div>"
      ],
      "text/plain": [
       "          Actual     Predicted\n",
       "0   0.000000e+00  1.158364e+06\n",
       "1   0.000000e+00  1.158364e+06\n",
       "2   1.000000e-02  1.158364e+06\n",
       "3   1.999727e+06  2.998049e+06\n",
       "4   0.000000e+00  1.158364e+06\n",
       "5   0.000000e+00  1.158364e+06\n",
       "6   0.000000e+00  1.158364e+06\n",
       "7   3.662720e+08  3.381169e+08\n",
       "8   0.000000e+00  1.158364e+06\n",
       "9   3.599944e+07  3.427670e+07\n",
       "10  0.000000e+00  1.158364e+06\n",
       "11  0.000000e+00  1.158364e+06\n",
       "12  0.000000e+00  1.158364e+06\n",
       "13  0.000000e+00  1.158364e+06\n",
       "14  0.000000e+00  1.158364e+06\n",
       "15  1.000000e-02  1.158364e+06\n",
       "16  0.000000e+00  1.158364e+06\n",
       "17  0.000000e+00  1.158364e+06\n",
       "18  0.000000e+00  1.158364e+06\n",
       "19  0.000000e+00  1.158364e+06\n",
       "20  0.000000e+00  1.158364e+06\n",
       "21  0.000000e+00  1.158364e+06\n",
       "22  0.000000e+00  1.158364e+06\n",
       "23  0.000000e+00  1.158364e+06\n",
       "24  0.000000e+00  1.158364e+06\n",
       "25  2.517677e+06  3.474547e+06\n",
       "26  0.000000e+00  1.158364e+06\n",
       "27  0.000000e+00  1.158364e+06\n",
       "28  3.360136e+07  3.529490e+07\n",
       "29  0.000000e+00  1.158364e+06"
      ]
     },
     "execution_count": 23,
     "metadata": {},
     "output_type": "execute_result"
    }
   ],
   "source": [
    "# Create a dataframe comparing the actual and predicted values of y.\n",
    "\n",
    "data = pd.DataFrame({'Actual': y_test.flatten(), 'Predicted': y_predicted.flatten()})\n",
    "data.head(30)"
   ]
  },
  {
   "cell_type": "markdown",
   "id": "42eae4b1",
   "metadata": {},
   "source": [
    "## Compare how the regression fits the training set"
   ]
  },
  {
   "cell_type": "code",
   "execution_count": 24,
   "id": "1c036bca",
   "metadata": {},
   "outputs": [],
   "source": [
    "# Predict.\n",
    "\n",
    "y_predicted_train = regression.predict(X_train) # This is predicting X_train!"
   ]
  },
  {
   "cell_type": "code",
   "execution_count": 25,
   "id": "5e1dc2d0",
   "metadata": {},
   "outputs": [],
   "source": [
    "rmse = mean_squared_error(y_train, y_predicted_train)\n",
    "r2 = r2_score(y_train, y_predicted_train)"
   ]
  },
  {
   "cell_type": "code",
   "execution_count": 26,
   "id": "83138e26",
   "metadata": {},
   "outputs": [
    {
     "name": "stdout",
     "output_type": "stream",
     "text": [
      "Slope: [[0.91996808]]\n",
      "Mean squared error:  230630578609447.1\n",
      "R2 score:  0.9781679217011757\n"
     ]
    }
   ],
   "source": [
    "print('Slope:' ,regression.coef_)\n",
    "print('Mean squared error: ', rmse)\n",
    "print('R2 score: ', r2)"
   ]
  },
  {
   "cell_type": "markdown",
   "id": "d87a88c3",
   "metadata": {},
   "source": [
    "-  The coefficient is positive, the MSE is significantly high, and the R2 score is high, with all the values being almost identical compared to the model ones.\n",
    "\n",
    "- It turns out that the hypothesis, “if the Due to the IBRD is high, the Borrowers Obligation will be high as well”, is only partially true.\n",
    "\n",
    "- While the Borrowers Obligation is becoming higher with the increase of the  disbursed and outstanding amount (Due to the IBRD), it's not the only factor affecting it. "
   ]
  },
  {
   "cell_type": "code",
   "execution_count": 27,
   "id": "e93cc977",
   "metadata": {},
   "outputs": [
    {
     "data": {
      "image/png": "[encoded data removed]",
      "text/plain": [
       "<Figure size 432x288 with 1 Axes>"
      ]
     },
     "metadata": {
      "needs_background": "light"
     },
     "output_type": "display_data"
    }
   ],
   "source": [
    "# Visualizing the training set results.\n",
    "\n",
    "plot_test = plt\n",
    "plot_test.scatter(X_train, y_train, color='green', s = 15)\n",
    "plot_test.plot(X_train, y_predicted_train, color='red', linewidth =3)\n",
    "plot_test.title('Due to IBRD vs Borrowers Obligation (Train set)')\n",
    "plot_test.xlabel('Due to IBRD')\n",
    "plot_test.ylabel('Borrowers Obligation')\n",
    "plot_test.show()"
   ]
  },
  {
   "cell_type": "markdown",
   "id": "28934ff0",
   "metadata": {},
   "source": [
    "# Bonus: Performance improvement after removing outliers"
   ]
  },
  {
   "cell_type": "code",
   "execution_count": 28,
   "id": "a8e602be",
   "metadata": {},
   "outputs": [],
   "source": [
    "# removing zeroes from the the \"Borrowers Obligation\" variable \n",
    "\n",
    "df_test = df[(df['Borrowers Obligation'] > 0) & (df['Borrowers Obligation'] <= 50000000)] "
   ]
  },
  {
   "cell_type": "code",
   "execution_count": 29,
   "id": "10fe8d27",
   "metadata": {},
   "outputs": [
    {
     "data": {
      "image/png": "[encoded data removed]",
      "text/plain": [
       "<Figure size 432x288 with 1 Axes>"
      ]
     },
     "metadata": {
      "needs_background": "light"
     },
     "output_type": "display_data"
    }
   ],
   "source": [
    "# See how the scatterplot looks without outliers\n",
    "\n",
    "df_test.plot(x = 'Due to IBRD', y='Borrowers Obligation', style='o')  \n",
    "plt.title('Due to IBRD vs Borrowers Obligation')  \n",
    "plt.xlabel('Due to IBRD')  \n",
    "plt.ylabel('Borrowers Obligation')  \n",
    "plt.show()"
   ]
  },
  {
   "cell_type": "code",
   "execution_count": 30,
   "id": "78299b1d",
   "metadata": {},
   "outputs": [],
   "source": [
    "# Reshape again\n",
    "\n",
    "X_2 = df_test['Due to IBRD'].values.reshape(-1,1)\n",
    "y_2 = df_test['Borrowers Obligation'].values.reshape(-1,1)"
   ]
  },
  {
   "cell_type": "code",
   "execution_count": 31,
   "id": "c5ebefc6",
   "metadata": {},
   "outputs": [],
   "source": [
    "X_train_2, X_test_2, y_train_2, y_test_2 = train_test_split(X_2, y_2, test_size=0.3, random_state=0)"
   ]
  },
  {
   "cell_type": "code",
   "execution_count": 32,
   "id": "2776e632",
   "metadata": {},
   "outputs": [
    {
     "data": {
      "text/plain": [
       "LinearRegression()"
      ]
     },
     "execution_count": 32,
     "metadata": {},
     "output_type": "execute_result"
    }
   ],
   "source": [
    "# Run and fit the regression\n",
    "\n",
    "regression = LinearRegression()  \n",
    "regression.fit(X_train_2, y_train_2)"
   ]
  },
  {
   "cell_type": "code",
   "execution_count": 33,
   "id": "4b8fc228",
   "metadata": {},
   "outputs": [],
   "source": [
    "# Predict\n",
    "\n",
    "y_predicted_2 = regression.predict(X_test_2)"
   ]
  },
  {
   "cell_type": "code",
   "execution_count": 34,
   "id": "28af879f",
   "metadata": {},
   "outputs": [],
   "source": [
    "rmse = mean_squared_error(y_test_2, y_predicted_2)\n",
    "r2 = r2_score(y_test_2, y_predicted_2)"
   ]
  },
  {
   "cell_type": "code",
   "execution_count": 35,
   "id": "fc7a7fc2",
   "metadata": {},
   "outputs": [
    {
     "name": "stdout",
     "output_type": "stream",
     "text": [
      "Slope: [[0.91449485]]\n",
      "Mean squared error:  5942703127209.638\n",
      "R2 score:  0.9734400063337663\n"
     ]
    }
   ],
   "source": [
    "print('Slope:' ,regression.coef_)\n",
    "print('Mean squared error: ', rmse)\n",
    "print('R2 score: ', r2)"
   ]
  },
  {
   "cell_type": "code",
   "execution_count": 36,
   "id": "ebab16e0",
   "metadata": {},
   "outputs": [
    {
     "data": {
      "image/png": "[encoded data removed]",
      "text/plain": [
       "<Figure size 432x288 with 1 Axes>"
      ]
     },
     "metadata": {
      "needs_background": "light"
     },
     "output_type": "display_data"
    }
   ],
   "source": [
    "# Visualizing the test set results.\n",
    "plot_test = plt\n",
    "plot_test.scatter(X_test_2, y_test_2, color='gray', s = 15)\n",
    "plot_test.plot(X_test_2, y_predicted_2, color='red', linewidth =3)\n",
    "plot_test.title('Due to IBRD vs Borrowers Obligation (Test set)')\n",
    "plot_test.xlabel('Due to IBRD')\n",
    "plot_test.ylabel('Borrowers Obligation')\n",
    "plot_test.show()"
   ]
  },
  {
   "cell_type": "code",
   "execution_count": 37,
   "id": "91a2228b",
   "metadata": {},
   "outputs": [
    {
     "data": {
      "text/html": [
       "<div>\n",
       "<style scoped>\n",
       "    .dataframe tbody tr th:only-of-type {\n",
       "        vertical-align: middle;\n",
       "    }\n",
       "\n",
       "    .dataframe tbody tr th {\n",
       "        vertical-align: top;\n",
       "    }\n",
       "\n",
       "    .dataframe thead th {\n",
       "        text-align: right;\n",
       "    }\n",
       "</style>\n",
       "<table border=\"1\" class=\"dataframe\">\n",
       "  <thead>\n",
       "    <tr style=\"text-align: right;\">\n",
       "      <th></th>\n",
       "      <th>Actual</th>\n",
       "      <th>Predicted</th>\n",
       "    </tr>\n",
       "  </thead>\n",
       "  <tbody>\n",
       "    <tr>\n",
       "      <th>0</th>\n",
       "      <td>4772342.14</td>\n",
       "      <td>5.518850e+06</td>\n",
       "    </tr>\n",
       "    <tr>\n",
       "      <th>1</th>\n",
       "      <td>25228223.64</td>\n",
       "      <td>2.636365e+07</td>\n",
       "    </tr>\n",
       "    <tr>\n",
       "      <th>2</th>\n",
       "      <td>20642067.20</td>\n",
       "      <td>1.931436e+07</td>\n",
       "    </tr>\n",
       "    <tr>\n",
       "      <th>3</th>\n",
       "      <td>45737437.55</td>\n",
       "      <td>4.226395e+07</td>\n",
       "    </tr>\n",
       "    <tr>\n",
       "      <th>4</th>\n",
       "      <td>40202721.77</td>\n",
       "      <td>3.720248e+07</td>\n",
       "    </tr>\n",
       "    <tr>\n",
       "      <th>5</th>\n",
       "      <td>1837490.06</td>\n",
       "      <td>2.117670e+06</td>\n",
       "    </tr>\n",
       "    <tr>\n",
       "      <th>6</th>\n",
       "      <td>20550165.33</td>\n",
       "      <td>1.923032e+07</td>\n",
       "    </tr>\n",
       "    <tr>\n",
       "      <th>7</th>\n",
       "      <td>11651808.17</td>\n",
       "      <td>1.109281e+07</td>\n",
       "    </tr>\n",
       "    <tr>\n",
       "      <th>8</th>\n",
       "      <td>13499800.00</td>\n",
       "      <td>1.278279e+07</td>\n",
       "    </tr>\n",
       "    <tr>\n",
       "      <th>9</th>\n",
       "      <td>14381887.89</td>\n",
       "      <td>1.358946e+07</td>\n",
       "    </tr>\n",
       "    <tr>\n",
       "      <th>10</th>\n",
       "      <td>5000000.00</td>\n",
       "      <td>5.009769e+06</td>\n",
       "    </tr>\n",
       "    <tr>\n",
       "      <th>11</th>\n",
       "      <td>9037625.76</td>\n",
       "      <td>8.702157e+06</td>\n",
       "    </tr>\n",
       "    <tr>\n",
       "      <th>12</th>\n",
       "      <td>590884.87</td>\n",
       "      <td>9.776559e+05</td>\n",
       "    </tr>\n",
       "    <tr>\n",
       "      <th>13</th>\n",
       "      <td>15890009.00</td>\n",
       "      <td>1.496863e+07</td>\n",
       "    </tr>\n",
       "    <tr>\n",
       "      <th>14</th>\n",
       "      <td>0.01</td>\n",
       "      <td>4.372947e+05</td>\n",
       "    </tr>\n",
       "    <tr>\n",
       "      <th>15</th>\n",
       "      <td>12987796.23</td>\n",
       "      <td>2.880743e+07</td>\n",
       "    </tr>\n",
       "    <tr>\n",
       "      <th>16</th>\n",
       "      <td>6544459.40</td>\n",
       "      <td>6.480197e+06</td>\n",
       "    </tr>\n",
       "    <tr>\n",
       "      <th>17</th>\n",
       "      <td>34196521.77</td>\n",
       "      <td>3.170984e+07</td>\n",
       "    </tr>\n",
       "    <tr>\n",
       "      <th>18</th>\n",
       "      <td>79116.96</td>\n",
       "      <td>5.096468e+05</td>\n",
       "    </tr>\n",
       "    <tr>\n",
       "      <th>19</th>\n",
       "      <td>5318000.00</td>\n",
       "      <td>5.300578e+06</td>\n",
       "    </tr>\n",
       "    <tr>\n",
       "      <th>20</th>\n",
       "      <td>0.01</td>\n",
       "      <td>4.372947e+05</td>\n",
       "    </tr>\n",
       "    <tr>\n",
       "      <th>21</th>\n",
       "      <td>15026721.40</td>\n",
       "      <td>1.417915e+07</td>\n",
       "    </tr>\n",
       "    <tr>\n",
       "      <th>22</th>\n",
       "      <td>1652351.00</td>\n",
       "      <td>1.948361e+06</td>\n",
       "    </tr>\n",
       "    <tr>\n",
       "      <th>23</th>\n",
       "      <td>33442641.25</td>\n",
       "      <td>3.102042e+07</td>\n",
       "    </tr>\n",
       "    <tr>\n",
       "      <th>24</th>\n",
       "      <td>3243611.59</td>\n",
       "      <td>3.403561e+06</td>\n",
       "    </tr>\n",
       "    <tr>\n",
       "      <th>25</th>\n",
       "      <td>649694.83</td>\n",
       "      <td>1.031437e+06</td>\n",
       "    </tr>\n",
       "    <tr>\n",
       "      <th>26</th>\n",
       "      <td>32265450.02</td>\n",
       "      <td>3.380155e+07</td>\n",
       "    </tr>\n",
       "    <tr>\n",
       "      <th>27</th>\n",
       "      <td>0.01</td>\n",
       "      <td>4.372947e+05</td>\n",
       "    </tr>\n",
       "    <tr>\n",
       "      <th>28</th>\n",
       "      <td>9366913.58</td>\n",
       "      <td>9.003289e+06</td>\n",
       "    </tr>\n",
       "    <tr>\n",
       "      <th>29</th>\n",
       "      <td>41147027.57</td>\n",
       "      <td>3.806604e+07</td>\n",
       "    </tr>\n",
       "  </tbody>\n",
       "</table>\n",
       "</div>"
      ],
      "text/plain": [
       "         Actual     Predicted\n",
       "0    4772342.14  5.518850e+06\n",
       "1   25228223.64  2.636365e+07\n",
       "2   20642067.20  1.931436e+07\n",
       "3   45737437.55  4.226395e+07\n",
       "4   40202721.77  3.720248e+07\n",
       "5    1837490.06  2.117670e+06\n",
       "6   20550165.33  1.923032e+07\n",
       "7   11651808.17  1.109281e+07\n",
       "8   13499800.00  1.278279e+07\n",
       "9   14381887.89  1.358946e+07\n",
       "10   5000000.00  5.009769e+06\n",
       "11   9037625.76  8.702157e+06\n",
       "12    590884.87  9.776559e+05\n",
       "13  15890009.00  1.496863e+07\n",
       "14         0.01  4.372947e+05\n",
       "15  12987796.23  2.880743e+07\n",
       "16   6544459.40  6.480197e+06\n",
       "17  34196521.77  3.170984e+07\n",
       "18     79116.96  5.096468e+05\n",
       "19   5318000.00  5.300578e+06\n",
       "20         0.01  4.372947e+05\n",
       "21  15026721.40  1.417915e+07\n",
       "22   1652351.00  1.948361e+06\n",
       "23  33442641.25  3.102042e+07\n",
       "24   3243611.59  3.403561e+06\n",
       "25    649694.83  1.031437e+06\n",
       "26  32265450.02  3.380155e+07\n",
       "27         0.01  4.372947e+05\n",
       "28   9366913.58  9.003289e+06\n",
       "29  41147027.57  3.806604e+07"
      ]
     },
     "execution_count": 37,
     "metadata": {},
     "output_type": "execute_result"
    }
   ],
   "source": [
    "data = pd.DataFrame({'Actual': y_test_2.flatten(), 'Predicted': y_predicted_2.flatten()})\n",
    "data.head(30)"
   ]
  },
  {
   "cell_type": "markdown",
   "id": "6367e638",
   "metadata": {},
   "source": [
    "- It appears that deleting zeros and outliers didn't have a big impact on the model's accuracy. \n",
    "\n",
    "- I believe that we are distorting reality by excluding extreme values."
   ]
  }
 ],
 "metadata": {
  "kernelspec": {
   "display_name": "Python 3 (ipykernel)",
   "language": "python",
   "name": "python3"
  },
  "language_info": {
   "codemirror_mode": {
    "name": "ipython",
    "version": 3
   },
   "file_extension": ".py",
   "mimetype": "text/x-python",
   "name": "python",
   "nbconvert_exporter": "python",
   "pygments_lexer": "ipython3",
   "version": "3.9.12"
  },
  "toc": {
   "base_numbering": 1,
   "nav_menu": {},
   "number_sections": true,
   "sideBar": true,
   "skip_h1_title": false,
   "title_cell": "Table of Contents",
   "title_sidebar": "Contents",
   "toc_cell": false,
   "toc_position": {},
   "toc_section_display": true,
   "toc_window_display": false
  }
 },
 "nbformat": 4,
 "nbformat_minor": 5
}

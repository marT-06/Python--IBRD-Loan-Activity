{
 "cells": [
  {
   "cell_type": "markdown",
   "id": "30a4bbd8",
   "metadata": {},
   "source": [
    "# Importing libraries and data"
   ]
  },
  {
   "cell_type": "code",
   "execution_count": 1,
   "id": "d19da800",
   "metadata": {},
   "outputs": [],
   "source": [
    "import quandl\n",
    "import pandas as pd\n",
    "import numpy as np\n",
    "import seaborn as sns\n",
    "import matplotlib\n",
    "import matplotlib.pyplot as plt\n",
    "import statsmodels.api as sm # Using .api imports the public access version of statsmodels, which is a library that handles \n",
    "# statistical models.\n",
    "import os\n",
    "import warnings # This is a library that handles warnings.\n",
    "\n",
    "warnings.filterwarnings(\"ignore\") # Disable deprecation warnings that could indicate, for instance, a suspended library or \n",
    "# feature. These are more relevant to developers and very seldom to analysts.\n",
    "\n",
    "plt.style.use('fivethirtyeight') # This is a styling option for how your plots will appear. More examples here:\n",
    "# https://matplotlib.org/3.2.1/tutorials/introductory/customizing.html\n",
    "# https://matplotlib.org/3.1.0/gallery/style_sheets/fivethirtyeight.html"
   ]
  },
  {
   "cell_type": "code",
   "execution_count": 2,
   "id": "4543c19e",
   "metadata": {},
   "outputs": [],
   "source": [
    "# ensuring that the graphs  are displayed within the notebook without \"calling\" them specifically.\n",
    "\n",
    "%matplotlib inline"
   ]
  },
  {
   "cell_type": "code",
   "execution_count": 3,
   "id": "efa1d05e",
   "metadata": {},
   "outputs": [
    {
     "data": {
      "text/html": [
       "<div>\n",
       "<style scoped>\n",
       "    .dataframe tbody tr th:only-of-type {\n",
       "        vertical-align: middle;\n",
       "    }\n",
       "\n",
       "    .dataframe tbody tr th {\n",
       "        vertical-align: top;\n",
       "    }\n",
       "\n",
       "    .dataframe thead th {\n",
       "        text-align: right;\n",
       "    }\n",
       "</style>\n",
       "<table border=\"1\" class=\"dataframe\">\n",
       "  <thead>\n",
       "    <tr style=\"text-align: right;\">\n",
       "      <th></th>\n",
       "      <th>Loan Number</th>\n",
       "      <th>Region</th>\n",
       "      <th>Country</th>\n",
       "      <th>Borrower</th>\n",
       "      <th>Guarantor</th>\n",
       "      <th>Loan Type</th>\n",
       "      <th>Loan Status</th>\n",
       "      <th>Interest Rate</th>\n",
       "      <th>Original Principal Amount</th>\n",
       "      <th>Cancelled Amount</th>\n",
       "      <th>Undisbursed Amount</th>\n",
       "      <th>Disbursed Amount</th>\n",
       "      <th>Repaid to IBRD</th>\n",
       "      <th>Due to IBRD</th>\n",
       "      <th>Exchange Adjustment</th>\n",
       "      <th>Borrowers Obligation</th>\n",
       "      <th>Loans Held</th>\n",
       "      <th>Agreement Signing Date</th>\n",
       "      <th>Effective Date (Most Recent)</th>\n",
       "      <th>Closed Date (Most Recent)</th>\n",
       "    </tr>\n",
       "  </thead>\n",
       "  <tbody>\n",
       "    <tr>\n",
       "      <th>0</th>\n",
       "      <td>IBRD00010</td>\n",
       "      <td>EUROPE AND CENTRAL ASIA</td>\n",
       "      <td>France</td>\n",
       "      <td>CREDIT NATIONAL</td>\n",
       "      <td>France</td>\n",
       "      <td>NPL</td>\n",
       "      <td>Fully Repaid</td>\n",
       "      <td>4.25</td>\n",
       "      <td>250000000.0</td>\n",
       "      <td>0.0</td>\n",
       "      <td>0.0</td>\n",
       "      <td>250000000.0</td>\n",
       "      <td>38000.00</td>\n",
       "      <td>0.0</td>\n",
       "      <td>0.0</td>\n",
       "      <td>0.0</td>\n",
       "      <td>0.0</td>\n",
       "      <td>1947-05-09</td>\n",
       "      <td>1947-06-09</td>\n",
       "      <td>1947-12-31</td>\n",
       "    </tr>\n",
       "    <tr>\n",
       "      <th>5</th>\n",
       "      <td>IBRD00050</td>\n",
       "      <td>LATIN AMERICA AND CARIBBEAN</td>\n",
       "      <td>Chile</td>\n",
       "      <td>Ministry of Finance</td>\n",
       "      <td>Chile</td>\n",
       "      <td>NPL</td>\n",
       "      <td>Fully Repaid</td>\n",
       "      <td>4.50</td>\n",
       "      <td>13500000.0</td>\n",
       "      <td>0.0</td>\n",
       "      <td>0.0</td>\n",
       "      <td>13500000.0</td>\n",
       "      <td>12167000.00</td>\n",
       "      <td>0.0</td>\n",
       "      <td>0.0</td>\n",
       "      <td>0.0</td>\n",
       "      <td>0.0</td>\n",
       "      <td>1948-03-25</td>\n",
       "      <td>1949-04-07</td>\n",
       "      <td>1954-12-31</td>\n",
       "    </tr>\n",
       "    <tr>\n",
       "      <th>6</th>\n",
       "      <td>IBRD00060</td>\n",
       "      <td>LATIN AMERICA AND CARIBBEAN</td>\n",
       "      <td>Chile</td>\n",
       "      <td>Ministry of Finance</td>\n",
       "      <td>Chile</td>\n",
       "      <td>NPL</td>\n",
       "      <td>Fully Repaid</td>\n",
       "      <td>3.75</td>\n",
       "      <td>2500000.0</td>\n",
       "      <td>0.0</td>\n",
       "      <td>0.0</td>\n",
       "      <td>2500000.0</td>\n",
       "      <td>755000.00</td>\n",
       "      <td>0.0</td>\n",
       "      <td>0.0</td>\n",
       "      <td>0.0</td>\n",
       "      <td>0.0</td>\n",
       "      <td>1948-03-25</td>\n",
       "      <td>1949-04-07</td>\n",
       "      <td>1950-01-01</td>\n",
       "    </tr>\n",
       "    <tr>\n",
       "      <th>13</th>\n",
       "      <td>IBRD00111</td>\n",
       "      <td>LATIN AMERICA AND CARIBBEAN</td>\n",
       "      <td>Brazil</td>\n",
       "      <td>Ministério da Fazenda</td>\n",
       "      <td>Brazil</td>\n",
       "      <td>NPL</td>\n",
       "      <td>Fully Repaid</td>\n",
       "      <td>4.50</td>\n",
       "      <td>75000000.0</td>\n",
       "      <td>0.0</td>\n",
       "      <td>0.0</td>\n",
       "      <td>75000000.0</td>\n",
       "      <td>70971588.97</td>\n",
       "      <td>0.0</td>\n",
       "      <td>0.0</td>\n",
       "      <td>0.0</td>\n",
       "      <td>0.0</td>\n",
       "      <td>1949-01-27</td>\n",
       "      <td>1949-05-09</td>\n",
       "      <td>1953-12-31</td>\n",
       "    </tr>\n",
       "    <tr>\n",
       "      <th>14</th>\n",
       "      <td>IBRD00112</td>\n",
       "      <td>LATIN AMERICA AND CARIBBEAN</td>\n",
       "      <td>Brazil</td>\n",
       "      <td>Ministério da Fazenda</td>\n",
       "      <td>Brazil</td>\n",
       "      <td>NPL</td>\n",
       "      <td>Fully Repaid</td>\n",
       "      <td>4.25</td>\n",
       "      <td>15000000.0</td>\n",
       "      <td>0.0</td>\n",
       "      <td>0.0</td>\n",
       "      <td>15000000.0</td>\n",
       "      <td>15000000.00</td>\n",
       "      <td>0.0</td>\n",
       "      <td>0.0</td>\n",
       "      <td>0.0</td>\n",
       "      <td>0.0</td>\n",
       "      <td>1951-01-18</td>\n",
       "      <td>1951-04-10</td>\n",
       "      <td>1954-12-31</td>\n",
       "    </tr>\n",
       "  </tbody>\n",
       "</table>\n",
       "</div>"
      ],
      "text/plain": [
       "   Loan Number                       Region Country               Borrower  \\\n",
       "0    IBRD00010      EUROPE AND CENTRAL ASIA  France        CREDIT NATIONAL   \n",
       "5    IBRD00050  LATIN AMERICA AND CARIBBEAN   Chile    Ministry of Finance   \n",
       "6    IBRD00060  LATIN AMERICA AND CARIBBEAN   Chile    Ministry of Finance   \n",
       "13   IBRD00111  LATIN AMERICA AND CARIBBEAN  Brazil  Ministério da Fazenda   \n",
       "14   IBRD00112  LATIN AMERICA AND CARIBBEAN  Brazil  Ministério da Fazenda   \n",
       "\n",
       "   Guarantor Loan Type   Loan Status  Interest Rate  \\\n",
       "0     France       NPL  Fully Repaid           4.25   \n",
       "5      Chile       NPL  Fully Repaid           4.50   \n",
       "6      Chile       NPL  Fully Repaid           3.75   \n",
       "13    Brazil       NPL  Fully Repaid           4.50   \n",
       "14    Brazil       NPL  Fully Repaid           4.25   \n",
       "\n",
       "    Original Principal Amount  Cancelled Amount  Undisbursed Amount  \\\n",
       "0                 250000000.0               0.0                 0.0   \n",
       "5                  13500000.0               0.0                 0.0   \n",
       "6                   2500000.0               0.0                 0.0   \n",
       "13                 75000000.0               0.0                 0.0   \n",
       "14                 15000000.0               0.0                 0.0   \n",
       "\n",
       "    Disbursed Amount  Repaid to IBRD  Due to IBRD  Exchange Adjustment  \\\n",
       "0        250000000.0        38000.00          0.0                  0.0   \n",
       "5         13500000.0     12167000.00          0.0                  0.0   \n",
       "6          2500000.0       755000.00          0.0                  0.0   \n",
       "13        75000000.0     70971588.97          0.0                  0.0   \n",
       "14        15000000.0     15000000.00          0.0                  0.0   \n",
       "\n",
       "    Borrowers Obligation  Loans Held Agreement Signing Date  \\\n",
       "0                    0.0         0.0             1947-05-09   \n",
       "5                    0.0         0.0             1948-03-25   \n",
       "6                    0.0         0.0             1948-03-25   \n",
       "13                   0.0         0.0             1949-01-27   \n",
       "14                   0.0         0.0             1951-01-18   \n",
       "\n",
       "   Effective Date (Most Recent) Closed Date (Most Recent)  \n",
       "0                    1947-06-09                1947-12-31  \n",
       "5                    1949-04-07                1954-12-31  \n",
       "6                    1949-04-07                1950-01-01  \n",
       "13                   1949-05-09                1953-12-31  \n",
       "14                   1951-04-10                1954-12-31  "
      ]
     },
     "execution_count": 3,
     "metadata": {},
     "output_type": "execute_result"
    }
   ],
   "source": [
    "# turning a project folder path into a string\n",
    "\n",
    "path = r'/Users/mart/Documents/09-2022 IBRD  Statement of Loans'\n",
    "\n",
    "# Importing database\n",
    "\n",
    "df = pd.read_pickle(os.path.join(path,'02 Data','Prepared Data', 'SoL.pkl'))\n",
    "\n",
    "# set options to show all columns\n",
    "\n",
    "pd.set_option('display.max_columns', None)\n",
    "\n",
    "# check the first rows\n",
    "\n",
    "df.head()\n"
   ]
  },
  {
   "cell_type": "code",
   "execution_count": 4,
   "id": "5e3d14ae",
   "metadata": {},
   "outputs": [
    {
     "name": "stdout",
     "output_type": "stream",
     "text": [
      "<class 'pandas.core.frame.DataFrame'>\n",
      "Int64Index: 8391 entries, 0 to 8915\n",
      "Data columns (total 20 columns):\n",
      " #   Column                        Non-Null Count  Dtype         \n",
      "---  ------                        --------------  -----         \n",
      " 0   Loan Number                   8391 non-null   string        \n",
      " 1   Region                        8391 non-null   string        \n",
      " 2   Country                       8391 non-null   string        \n",
      " 3   Borrower                      8391 non-null   string        \n",
      " 4   Guarantor                     8391 non-null   string        \n",
      " 5   Loan Type                     8391 non-null   string        \n",
      " 6   Loan Status                   8391 non-null   string        \n",
      " 7   Interest Rate                 8391 non-null   float64       \n",
      " 8   Original Principal Amount     8391 non-null   float64       \n",
      " 9   Cancelled Amount              8391 non-null   float64       \n",
      " 10  Undisbursed Amount            8391 non-null   float64       \n",
      " 11  Disbursed Amount              8391 non-null   float64       \n",
      " 12  Repaid to IBRD                8391 non-null   float64       \n",
      " 13  Due to IBRD                   8391 non-null   float64       \n",
      " 14  Exchange Adjustment           8391 non-null   float64       \n",
      " 15  Borrowers Obligation          8391 non-null   float64       \n",
      " 16  Loans Held                    8391 non-null   float64       \n",
      " 17  Agreement Signing Date        8391 non-null   datetime64[ns]\n",
      " 18  Effective Date (Most Recent)  8391 non-null   datetime64[ns]\n",
      " 19  Closed Date (Most Recent)     8391 non-null   datetime64[ns]\n",
      "dtypes: datetime64[ns](3), float64(10), string(7)\n",
      "memory usage: 1.3 MB\n"
     ]
    }
   ],
   "source": [
    "df.info()"
   ]
  },
  {
   "cell_type": "code",
   "execution_count": 5,
   "id": "ca6edd24",
   "metadata": {},
   "outputs": [
    {
     "data": {
      "text/plain": [
       "(8391, 20)"
      ]
     },
     "execution_count": 5,
     "metadata": {},
     "output_type": "execute_result"
    }
   ],
   "source": [
    "df.shape"
   ]
  },
  {
   "cell_type": "markdown",
   "id": "86046e26",
   "metadata": {},
   "source": [
    "# Subsetting and wrangling time-series data"
   ]
  },
  {
   "cell_type": "code",
   "execution_count": 6,
   "id": "c5afe018",
   "metadata": {},
   "outputs": [],
   "source": [
    "# creating subset containing Interest Rate and Effective Date (Most Recent) \n",
    "\n",
    "df_date = df[['Interest Rate','Effective Date (Most Recent)']]"
   ]
  },
  {
   "cell_type": "code",
   "execution_count": 7,
   "id": "40cf3733",
   "metadata": {},
   "outputs": [],
   "source": [
    "# sort by Effective Date\n",
    "\n",
    "df_date = df_date.sort_values(by='Effective Date (Most Recent)')"
   ]
  },
  {
   "cell_type": "code",
   "execution_count": 8,
   "id": "33f6cfa4",
   "metadata": {},
   "outputs": [
    {
     "data": {
      "text/html": [
       "<div>\n",
       "<style scoped>\n",
       "    .dataframe tbody tr th:only-of-type {\n",
       "        vertical-align: middle;\n",
       "    }\n",
       "\n",
       "    .dataframe tbody tr th {\n",
       "        vertical-align: top;\n",
       "    }\n",
       "\n",
       "    .dataframe thead th {\n",
       "        text-align: right;\n",
       "    }\n",
       "</style>\n",
       "<table border=\"1\" class=\"dataframe\">\n",
       "  <thead>\n",
       "    <tr style=\"text-align: right;\">\n",
       "      <th></th>\n",
       "      <th>Interest Rate</th>\n",
       "      <th>Effective Date (Most Recent)</th>\n",
       "    </tr>\n",
       "  </thead>\n",
       "  <tbody>\n",
       "    <tr>\n",
       "      <th>8730</th>\n",
       "      <td>0.0</td>\n",
       "      <td>2022-11-16</td>\n",
       "    </tr>\n",
       "    <tr>\n",
       "      <th>8789</th>\n",
       "      <td>0.0</td>\n",
       "      <td>2022-12-04</td>\n",
       "    </tr>\n",
       "    <tr>\n",
       "      <th>8757</th>\n",
       "      <td>0.0</td>\n",
       "      <td>2022-12-06</td>\n",
       "    </tr>\n",
       "    <tr>\n",
       "      <th>8672</th>\n",
       "      <td>0.0</td>\n",
       "      <td>2022-12-24</td>\n",
       "    </tr>\n",
       "    <tr>\n",
       "      <th>8797</th>\n",
       "      <td>0.0</td>\n",
       "      <td>2023-01-15</td>\n",
       "    </tr>\n",
       "  </tbody>\n",
       "</table>\n",
       "</div>"
      ],
      "text/plain": [
       "      Interest Rate Effective Date (Most Recent)\n",
       "8730            0.0                   2022-11-16\n",
       "8789            0.0                   2022-12-04\n",
       "8757            0.0                   2022-12-06\n",
       "8672            0.0                   2022-12-24\n",
       "8797            0.0                   2023-01-15"
      ]
     },
     "execution_count": 8,
     "metadata": {},
     "output_type": "execute_result"
    }
   ],
   "source": [
    "df_date.tail()"
   ]
  },
  {
   "cell_type": "code",
   "execution_count": 9,
   "id": "b23cb25d",
   "metadata": {},
   "outputs": [
    {
     "data": {
      "text/html": [
       "<div>\n",
       "<style scoped>\n",
       "    .dataframe tbody tr th:only-of-type {\n",
       "        vertical-align: middle;\n",
       "    }\n",
       "\n",
       "    .dataframe tbody tr th {\n",
       "        vertical-align: top;\n",
       "    }\n",
       "\n",
       "    .dataframe thead th {\n",
       "        text-align: right;\n",
       "    }\n",
       "</style>\n",
       "<table border=\"1\" class=\"dataframe\">\n",
       "  <thead>\n",
       "    <tr style=\"text-align: right;\">\n",
       "      <th></th>\n",
       "      <th>Interest Rate</th>\n",
       "      <th>Effective Date (Most Recent)</th>\n",
       "    </tr>\n",
       "  </thead>\n",
       "  <tbody>\n",
       "    <tr>\n",
       "      <th>0</th>\n",
       "      <td>4.25</td>\n",
       "      <td>1947-06-09</td>\n",
       "    </tr>\n",
       "    <tr>\n",
       "      <th>17</th>\n",
       "      <td>4.25</td>\n",
       "      <td>1949-03-01</td>\n",
       "    </tr>\n",
       "    <tr>\n",
       "      <th>15</th>\n",
       "      <td>4.50</td>\n",
       "      <td>1949-03-15</td>\n",
       "    </tr>\n",
       "    <tr>\n",
       "      <th>16</th>\n",
       "      <td>4.50</td>\n",
       "      <td>1949-03-15</td>\n",
       "    </tr>\n",
       "    <tr>\n",
       "      <th>5</th>\n",
       "      <td>4.50</td>\n",
       "      <td>1949-04-07</td>\n",
       "    </tr>\n",
       "  </tbody>\n",
       "</table>\n",
       "</div>"
      ],
      "text/plain": [
       "    Interest Rate Effective Date (Most Recent)\n",
       "0            4.25                   1947-06-09\n",
       "17           4.25                   1949-03-01\n",
       "15           4.50                   1949-03-15\n",
       "16           4.50                   1949-03-15\n",
       "5            4.50                   1949-04-07"
      ]
     },
     "execution_count": 9,
     "metadata": {},
     "output_type": "execute_result"
    }
   ],
   "source": [
    "df_date.head()"
   ]
  },
  {
   "cell_type": "code",
   "execution_count": 10,
   "id": "f3c296fc",
   "metadata": {},
   "outputs": [],
   "source": [
    "# filter the year range to observe only up to 2022\n",
    "\n",
    "df_2 = df_date.loc[df_date['Effective Date (Most Recent)'] < '2022-01-01']"
   ]
  },
  {
   "cell_type": "code",
   "execution_count": 11,
   "id": "7e52ea4e",
   "metadata": {},
   "outputs": [
    {
     "data": {
      "text/plain": [
       "(8295, 2)"
      ]
     },
     "execution_count": 11,
     "metadata": {},
     "output_type": "execute_result"
    }
   ],
   "source": [
    "df_2.shape"
   ]
  },
  {
   "cell_type": "code",
   "execution_count": 12,
   "id": "bfff15b5",
   "metadata": {},
   "outputs": [
    {
     "data": {
      "text/html": [
       "<div>\n",
       "<style scoped>\n",
       "    .dataframe tbody tr th:only-of-type {\n",
       "        vertical-align: middle;\n",
       "    }\n",
       "\n",
       "    .dataframe tbody tr th {\n",
       "        vertical-align: top;\n",
       "    }\n",
       "\n",
       "    .dataframe thead th {\n",
       "        text-align: right;\n",
       "    }\n",
       "</style>\n",
       "<table border=\"1\" class=\"dataframe\">\n",
       "  <thead>\n",
       "    <tr style=\"text-align: right;\">\n",
       "      <th></th>\n",
       "      <th>Interest Rate</th>\n",
       "      <th>Effective Date (Most Recent)</th>\n",
       "    </tr>\n",
       "  </thead>\n",
       "  <tbody>\n",
       "    <tr>\n",
       "      <th>0</th>\n",
       "      <td>4.25</td>\n",
       "      <td>1947-06-09</td>\n",
       "    </tr>\n",
       "    <tr>\n",
       "      <th>17</th>\n",
       "      <td>4.25</td>\n",
       "      <td>1949-03-01</td>\n",
       "    </tr>\n",
       "    <tr>\n",
       "      <th>15</th>\n",
       "      <td>4.50</td>\n",
       "      <td>1949-03-15</td>\n",
       "    </tr>\n",
       "    <tr>\n",
       "      <th>16</th>\n",
       "      <td>4.50</td>\n",
       "      <td>1949-03-15</td>\n",
       "    </tr>\n",
       "    <tr>\n",
       "      <th>5</th>\n",
       "      <td>4.50</td>\n",
       "      <td>1949-04-07</td>\n",
       "    </tr>\n",
       "  </tbody>\n",
       "</table>\n",
       "</div>"
      ],
      "text/plain": [
       "    Interest Rate Effective Date (Most Recent)\n",
       "0            4.25                   1947-06-09\n",
       "17           4.25                   1949-03-01\n",
       "15           4.50                   1949-03-15\n",
       "16           4.50                   1949-03-15\n",
       "5            4.50                   1949-04-07"
      ]
     },
     "execution_count": 12,
     "metadata": {},
     "output_type": "execute_result"
    }
   ],
   "source": [
    "df_2.head()"
   ]
  },
  {
   "cell_type": "code",
   "execution_count": 13,
   "id": "b26f3d2c",
   "metadata": {},
   "outputs": [
    {
     "data": {
      "text/html": [
       "<div>\n",
       "<style scoped>\n",
       "    .dataframe tbody tr th:only-of-type {\n",
       "        vertical-align: middle;\n",
       "    }\n",
       "\n",
       "    .dataframe tbody tr th {\n",
       "        vertical-align: top;\n",
       "    }\n",
       "\n",
       "    .dataframe thead tr th {\n",
       "        text-align: left;\n",
       "    }\n",
       "\n",
       "    .dataframe thead tr:last-of-type th {\n",
       "        text-align: right;\n",
       "    }\n",
       "</style>\n",
       "<table border=\"1\" class=\"dataframe\">\n",
       "  <thead>\n",
       "    <tr>\n",
       "      <th></th>\n",
       "      <th>Interest Rate</th>\n",
       "    </tr>\n",
       "    <tr>\n",
       "      <th></th>\n",
       "      <th>median</th>\n",
       "    </tr>\n",
       "    <tr>\n",
       "      <th>Effective Date (Most Recent)</th>\n",
       "      <th></th>\n",
       "    </tr>\n",
       "  </thead>\n",
       "  <tbody>\n",
       "    <tr>\n",
       "      <th>1947</th>\n",
       "      <td>4.25</td>\n",
       "    </tr>\n",
       "    <tr>\n",
       "      <th>1949</th>\n",
       "      <td>4.25</td>\n",
       "    </tr>\n",
       "    <tr>\n",
       "      <th>1950</th>\n",
       "      <td>4.25</td>\n",
       "    </tr>\n",
       "    <tr>\n",
       "      <th>1951</th>\n",
       "      <td>4.00</td>\n",
       "    </tr>\n",
       "    <tr>\n",
       "      <th>1952</th>\n",
       "      <td>4.50</td>\n",
       "    </tr>\n",
       "  </tbody>\n",
       "</table>\n",
       "</div>"
      ],
      "text/plain": [
       "                             Interest Rate\n",
       "                                    median\n",
       "Effective Date (Most Recent)              \n",
       "1947                                  4.25\n",
       "1949                                  4.25\n",
       "1950                                  4.25\n",
       "1951                                  4.00\n",
       "1952                                  4.50"
      ]
     },
     "execution_count": 13,
     "metadata": {},
     "output_type": "execute_result"
    }
   ],
   "source": [
    "# Creating a new dataframe with median Interest Rate grouped by year in Efffective date \n",
    "\n",
    "data = df_2.groupby(df_2['Effective Date (Most Recent)'].dt.to_period('Y')).agg({'Interest Rate': ['median']})\n",
    "\n",
    "data.head()\n"
   ]
  },
  {
   "cell_type": "code",
   "execution_count": 14,
   "id": "e6936392",
   "metadata": {},
   "outputs": [
    {
     "data": {
      "text/plain": [
       "(74, 1)"
      ]
     },
     "execution_count": 14,
     "metadata": {},
     "output_type": "execute_result"
    }
   ],
   "source": [
    "data.shape"
   ]
  },
  {
   "cell_type": "code",
   "execution_count": 15,
   "id": "16f02e61",
   "metadata": {},
   "outputs": [
    {
     "data": {
      "text/plain": [
       "Interest Rate  median    float64\n",
       "dtype: object"
      ]
     },
     "execution_count": 15,
     "metadata": {},
     "output_type": "execute_result"
    }
   ],
   "source": [
    "# Checking data types\n",
    "\n",
    "data.dtypes"
   ]
  },
  {
   "cell_type": "code",
   "execution_count": 16,
   "id": "6861ccd1",
   "metadata": {},
   "outputs": [],
   "source": [
    "# converting an index to timestamp\n",
    "\n",
    "data.index = data.index.to_timestamp()"
   ]
  },
  {
   "cell_type": "code",
   "execution_count": 17,
   "id": "995aa2f1",
   "metadata": {},
   "outputs": [
    {
     "data": {
      "text/plain": [
       "[<matplotlib.lines.Line2D at 0x7f7dd81611f0>]"
      ]
     },
     "execution_count": 17,
     "metadata": {},
     "output_type": "execute_result"
    },
    {
     "data": {
      "image/png": "[encoded data removed]",
      "text/plain": [
       "<Figure size 1500x500 with 1 Axes>"
      ]
     },
     "metadata": {
      "needs_background": "light"
     },
     "output_type": "display_data"
    }
   ],
   "source": [
    "# Plot the data set\n",
    "\n",
    "plt.figure(figsize=(15,5), dpi=100)# The dpi argument controls the quality of the visualization here. \n",
    "# When it's set to 100, it will produce lower-than-standard quality, which is useful if, \n",
    "# similar to this notebook, you'll have a lot of plots.\n",
    "# A large number of plots will increase the size of the notebook, \n",
    "# which could take more time to load and eat up a lot of RAM!\n",
    "\n",
    "\n",
    "plt.plot(data)"
   ]
  },
  {
   "cell_type": "markdown",
   "id": "f8cf89fb",
   "metadata": {},
   "source": [
    "# Time-series analysis: decomposition"
   ]
  },
  {
   "cell_type": "code",
   "execution_count": 18,
   "id": "89091e7d",
   "metadata": {},
   "outputs": [],
   "source": [
    "# Decompose the time series using an additive model\n",
    "\n",
    "decomposition = sm.tsa.seasonal_decompose(data, model='additive', period = int(len(data)/2))"
   ]
  },
  {
   "cell_type": "code",
   "execution_count": 19,
   "id": "92f41aaf",
   "metadata": {},
   "outputs": [],
   "source": [
    "from pylab import rcParams # This will define a fixed size for all special charts.\n",
    "\n",
    "rcParams['figure.figsize'] = 18, 7"
   ]
  },
  {
   "cell_type": "code",
   "execution_count": 20,
   "id": "7a38fab9",
   "metadata": {},
   "outputs": [
    {
     "data": {
      "image/png": "[encoded data removed]",
      "text/plain": [
       "<Figure size 1296x504 with 4 Axes>"
      ]
     },
     "metadata": {
      "needs_background": "light"
     },
     "output_type": "display_data"
    }
   ],
   "source": [
    "# Plot the separate components\n",
    "\n",
    "decomposition.plot()\n",
    "plt.show()"
   ]
  },
  {
   "cell_type": "markdown",
   "id": "3bb93364",
   "metadata": {},
   "source": [
    "- The chart displays a downward trend in the median Interest rate of loans extended by the World Bank Group from 1947 until 2021.\n",
    "- The level and trend differ, indicating that the data contains significant removed noise. \n",
    "- Seasonal fluctuations are illustrated in a pattern that repeats approx. every 37 years. Interest rates peaked in the early 1980s and again in the late 2010s. \n",
    "- There appears to be some noise around the late 1960s.\n",
    "- The presence of a trend and seasonality implies that the series is not stationary, but a Dickey-Fuller test will be conducted to prove it."
   ]
  },
  {
   "cell_type": "markdown",
   "id": "ad283fd7",
   "metadata": {},
   "source": [
    "# Testing for stationarity"
   ]
  },
  {
   "cell_type": "code",
   "execution_count": 21,
   "id": "9c8e8ffd",
   "metadata": {},
   "outputs": [
    {
     "name": "stdout",
     "output_type": "stream",
     "text": [
      "Dickey-Fuller Stationarity test:\n",
      "Test Statistic                 -0.694018\n",
      "p-value                         0.848293\n",
      "Number of Lags Used             0.000000\n",
      "Number of Observations Used    73.000000\n",
      "Critical Value (1%)            -3.523284\n",
      "Critical Value (5%)            -2.902031\n",
      "Critical Value (10%)           -2.588371\n",
      "dtype: float64\n"
     ]
    }
   ],
   "source": [
    "# The adfuller() function will import from the model from statsmodels for the test; however, running it will only return \n",
    "# an array of numbers. This is why you need to also define a function that prints the correct output from that array.\n",
    "\n",
    "from statsmodels.tsa.stattools import adfuller # Import the adfuller() function\n",
    "\n",
    "def dickey_fuller(timeseries): # Define the function\n",
    "    # Perform the Dickey-Fuller test:\n",
    "    print ('Dickey-Fuller Stationarity test:')\n",
    "    test = adfuller(timeseries, autolag='AIC')\n",
    "    result = pd.Series(test[0:4], index=['Test Statistic','p-value','Number of Lags Used','Number of Observations Used'])\n",
    "    for key,value in test[4].items():\n",
    "       result['Critical Value (%s)'%key] = value\n",
    "    print (result)\n",
    "\n",
    "# Apply the test using the function on the time series\n",
    "dickey_fuller(data['Interest Rate'])"
   ]
  },
  {
   "cell_type": "markdown",
   "id": "a2f55c6a",
   "metadata": {},
   "source": [
    "The null hypothesis = the presence of a unit root ( the data is non-stationary)\n",
    "\n",
    "The alternative hypothesis = there’s no unit root (the data is stationary)"
   ]
  },
  {
   "cell_type": "markdown",
   "id": "7fa1f132",
   "metadata": {},
   "source": [
    "-     - - - Test statistic > critical value = can’t reject null hypothesis \n",
    "\n",
    "-     - - - Test statistic < critical value = can reject null hypothesis\n",
    "\n"
   ]
  },
  {
   "cell_type": "markdown",
   "id": "922ece27",
   "metadata": {},
   "source": [
    "- The value of \"Critical Value (5%)\" is -2.902031. This is significantly less than the test statistic of -0.694018, indicating that the null hypothesis cannot be rejected. \n",
    "\n",
    "- The p-value of 0.848293 suggests that the result is not \"significant.\"\n",
    "\n",
    "- This confirms that the data is non-stationary."
   ]
  },
  {
   "cell_type": "code",
   "execution_count": 22,
   "id": "a06236b2",
   "metadata": {},
   "outputs": [
    {
     "data": {
      "image/png": "[encoded data removed]",
      "text/plain": [
       "<Figure size 1296x504 with 1 Axes>"
      ]
     },
     "metadata": {
      "needs_background": "light"
     },
     "output_type": "display_data"
    }
   ],
   "source": [
    "# Check out a plot of autocorrelations\n",
    "\n",
    "from statsmodels.graphics.tsaplots import plot_acf, plot_pacf # Here, you import the autocorrelation and partial correlation plots\n",
    "\n",
    "plot_acf(data)\n",
    "plt.show()"
   ]
  },
  {
   "cell_type": "markdown",
   "id": "4caf311e",
   "metadata": {},
   "source": [
    "- This plot is showing quite a few lags correlated with each other, namely seven lines above the blue edge of the confidence interval. \n",
    "- This means there’s a lot of autocorrelated data and the set is likely non-stationary, which supports the result of the Dickey-Fuller test."
   ]
  },
  {
   "cell_type": "markdown",
   "id": "cb1e28b4",
   "metadata": {},
   "source": [
    "# Stationarizing Data"
   ]
  },
  {
   "cell_type": "code",
   "execution_count": 23,
   "id": "8cecbd4f",
   "metadata": {},
   "outputs": [],
   "source": [
    "data_diff = data - data.shift(1) # The df.shift(1) function turns the observation to t-1, making the whole thing t - (t -1)"
   ]
  },
  {
   "cell_type": "code",
   "execution_count": 24,
   "id": "a98ce367",
   "metadata": {},
   "outputs": [],
   "source": [
    "data_diff.dropna(inplace = True) # Here, you remove the missing values that came about as a result of the differencing. \n",
    "# You need to remove these or you won't be able to run the Dickey-Fuller test."
   ]
  },
  {
   "cell_type": "code",
   "execution_count": 25,
   "id": "63f540b3",
   "metadata": {},
   "outputs": [
    {
     "data": {
      "text/html": [
       "<div>\n",
       "<style scoped>\n",
       "    .dataframe tbody tr th:only-of-type {\n",
       "        vertical-align: middle;\n",
       "    }\n",
       "\n",
       "    .dataframe tbody tr th {\n",
       "        vertical-align: top;\n",
       "    }\n",
       "\n",
       "    .dataframe thead tr th {\n",
       "        text-align: left;\n",
       "    }\n",
       "\n",
       "    .dataframe thead tr:last-of-type th {\n",
       "        text-align: right;\n",
       "    }\n",
       "</style>\n",
       "<table border=\"1\" class=\"dataframe\">\n",
       "  <thead>\n",
       "    <tr>\n",
       "      <th></th>\n",
       "      <th>Interest Rate</th>\n",
       "    </tr>\n",
       "    <tr>\n",
       "      <th></th>\n",
       "      <th>median</th>\n",
       "    </tr>\n",
       "    <tr>\n",
       "      <th>Effective Date (Most Recent)</th>\n",
       "      <th></th>\n",
       "    </tr>\n",
       "  </thead>\n",
       "  <tbody>\n",
       "    <tr>\n",
       "      <th>1949-01-01</th>\n",
       "      <td>0.00</td>\n",
       "    </tr>\n",
       "    <tr>\n",
       "      <th>1950-01-01</th>\n",
       "      <td>0.00</td>\n",
       "    </tr>\n",
       "    <tr>\n",
       "      <th>1951-01-01</th>\n",
       "      <td>-0.25</td>\n",
       "    </tr>\n",
       "    <tr>\n",
       "      <th>1952-01-01</th>\n",
       "      <td>0.50</td>\n",
       "    </tr>\n",
       "    <tr>\n",
       "      <th>1953-01-01</th>\n",
       "      <td>0.25</td>\n",
       "    </tr>\n",
       "  </tbody>\n",
       "</table>\n",
       "</div>"
      ],
      "text/plain": [
       "                             Interest Rate\n",
       "                                    median\n",
       "Effective Date (Most Recent)              \n",
       "1949-01-01                            0.00\n",
       "1950-01-01                            0.00\n",
       "1951-01-01                           -0.25\n",
       "1952-01-01                            0.50\n",
       "1953-01-01                            0.25"
      ]
     },
     "execution_count": 25,
     "metadata": {},
     "output_type": "execute_result"
    }
   ],
   "source": [
    "data_diff.head()"
   ]
  },
  {
   "cell_type": "code",
   "execution_count": 26,
   "id": "0c49f3ab",
   "metadata": {},
   "outputs": [
    {
     "data": {
      "text/plain": [
       "MultiIndex([('Interest Rate', 'median')],\n",
       "           )"
      ]
     },
     "execution_count": 26,
     "metadata": {},
     "output_type": "execute_result"
    }
   ],
   "source": [
    "data_diff.columns"
   ]
  },
  {
   "cell_type": "code",
   "execution_count": 27,
   "id": "9c16e25d",
   "metadata": {},
   "outputs": [
    {
     "data": {
      "text/plain": [
       "[<matplotlib.lines.Line2D at 0x7f7de8677fa0>]"
      ]
     },
     "execution_count": 27,
     "metadata": {},
     "output_type": "execute_result"
    },
    {
     "data": {
      "image/png": "[encoded data removed]",
      "text/plain": [
       "<Figure size 1500x500 with 1 Axes>"
      ]
     },
     "metadata": {
      "needs_background": "light"
     },
     "output_type": "display_data"
    }
   ],
   "source": [
    "# Check out what the differencing did to the time-series curve\n",
    "\n",
    "plt.figure(figsize=(15,5), dpi=100)\n",
    "plt.plot(data_diff)"
   ]
  },
  {
   "cell_type": "code",
   "execution_count": 28,
   "id": "5cde4736",
   "metadata": {},
   "outputs": [
    {
     "name": "stdout",
     "output_type": "stream",
     "text": [
      "Dickey-Fuller Stationarity test:\n",
      "Test Statistic                -8.659107e+00\n",
      "p-value                        4.877029e-14\n",
      "Number of Lags Used            0.000000e+00\n",
      "Number of Observations Used    7.200000e+01\n",
      "Critical Value (1%)           -3.524624e+00\n",
      "Critical Value (5%)           -2.902607e+00\n",
      "Critical Value (10%)          -2.588679e+00\n",
      "dtype: float64\n"
     ]
    }
   ],
   "source": [
    "dickey_fuller(data_diff)"
   ]
  },
  {
   "cell_type": "code",
   "execution_count": 29,
   "id": "3f354ba2",
   "metadata": {},
   "outputs": [
    {
     "name": "stdout",
     "output_type": "stream",
     "text": [
      "Dickey-Fuller Stationarity test:\n",
      "Test Statistic                -8.66\n",
      "p-value                        0.00\n",
      "Number of Lags Used            0.00\n",
      "Number of Observations Used   72.00\n",
      "Critical Value (1%)           -3.52\n",
      "Critical Value (5%)           -2.90\n",
      "Critical Value (10%)          -2.59\n",
      "dtype: float64\n"
     ]
    }
   ],
   "source": [
    "# removing scientific notation\n",
    "\n",
    "pd.options.display.float_format = '{:.2f}'.format\n",
    "\n",
    "dickey_fuller(data_diff)"
   ]
  },
  {
   "cell_type": "markdown",
   "id": "c3058d48",
   "metadata": {},
   "source": [
    "- The results show that the data has now become stationary. \n",
    "\n",
    "- The value of \"Critical Value (5%)\" (-2.90) is significantly greater than the test statistic of (-8.66), indicating that the null hypothesis can be rejected. \n",
    "\n",
    "- The p-value is less than 0.05, suggesting a \"significant\" result.\n"
   ]
  },
  {
   "cell_type": "code",
   "execution_count": 30,
   "id": "c62a268a",
   "metadata": {},
   "outputs": [
    {
     "data": {
      "image/png": "[encoded data removed]",
      "text/plain": [
       "<Figure size 1296x504 with 1 Axes>"
      ]
     },
     "metadata": {
      "needs_background": "light"
     },
     "output_type": "display_data"
    }
   ],
   "source": [
    "plot_acf(data_diff)\n",
    "plt.show()"
   ]
  },
  {
   "cell_type": "markdown",
   "id": "f2dd69d4",
   "metadata": {},
   "source": [
    "- The autocorrelation plot has improved and now it indicates that the stationary is strong."
   ]
  },
  {
   "cell_type": "markdown",
   "id": "669bb83e",
   "metadata": {},
   "source": [
    "# Bonus Task"
   ]
  },
  {
   "cell_type": "markdown",
   "id": "1673d99d",
   "metadata": {},
   "source": [
    "## Defining Parameters"
   ]
  },
  {
   "cell_type": "code",
   "execution_count": 31,
   "id": "8ef2882f",
   "metadata": {},
   "outputs": [
    {
     "data": {
      "image/png": "[encoded data removed]",
      "text/plain": [
       "<Figure size 1296x504 with 1 Axes>"
      ]
     },
     "metadata": {
      "needs_background": "light"
     },
     "output_type": "display_data"
    },
    {
     "data": {
      "text/plain": [
       "<Figure size 4500x4500 with 0 Axes>"
      ]
     },
     "metadata": {},
     "output_type": "display_data"
    }
   ],
   "source": [
    "# Plot partial autocorrelations to determine parameter p\n",
    "\n",
    "plot_pacf(data_diff)\n",
    "plt.figure(figsize=(15,15), dpi=300)\n",
    "plt.show()"
   ]
  },
  {
   "cell_type": "markdown",
   "id": "c6f4528d",
   "metadata": {},
   "source": [
    "- In the figure above, we can see some high positive bars. These indicate significant correlations. \n",
    "\n",
    "- To estimate how much AR terms we should use, we counted how many “lollipop” are above or below the confidence interval before the next one enter the blue area.\n",
    "\n",
    "- We will start with p = 1 "
   ]
  },
  {
   "cell_type": "code",
   "execution_count": 32,
   "id": "4ebb433d",
   "metadata": {},
   "outputs": [
    {
     "data": {
      "image/png": "[encoded data removed]",
      "text/plain": [
       "<Figure size 1296x504 with 1 Axes>"
      ]
     },
     "metadata": {
      "needs_background": "light"
     },
     "output_type": "display_data"
    },
    {
     "data": {
      "text/plain": [
       "<Figure size 1500x500 with 0 Axes>"
      ]
     },
     "metadata": {},
     "output_type": "display_data"
    }
   ],
   "source": [
    "# Plot autocorrelations to determine parameter q\n",
    "\n",
    "plot_acf(data_diff)\n",
    "plt.figure(figsize=(15,5), dpi=100)\n",
    "plt.show()"
   ]
  },
  {
   "cell_type": "markdown",
   "id": "76db3c41",
   "metadata": {},
   "source": [
    "- We don't have any significant autocorrelations (no \"lollipops\" run beyond the blue border), so we'll see what the output looks like when q = 0."
   ]
  },
  {
   "cell_type": "markdown",
   "id": "3439ed43",
   "metadata": {},
   "source": [
    "## Splitting the Data"
   ]
  },
  {
   "cell_type": "code",
   "execution_count": 33,
   "id": "598637ed",
   "metadata": {},
   "outputs": [],
   "source": [
    "# reseting index to decide how to split the data\n",
    "\n",
    "# data_2 = data_diff.reset_index()\n",
    "\n",
    "# pd.set_option('display.max_rows', None)\n",
    "\n",
    "# data_2"
   ]
  },
  {
   "cell_type": "code",
   "execution_count": 34,
   "id": "5394ffd9",
   "metadata": {},
   "outputs": [],
   "source": [
    "# Split the data\n",
    "\n",
    "train = data_diff['Interest Rate'][:37]\n",
    "test = data_diff['Interest Rate'][36:]"
   ]
  },
  {
   "cell_type": "code",
   "execution_count": 35,
   "id": "1c32530a",
   "metadata": {},
   "outputs": [
    {
     "data": {
      "text/plain": [
       "[<matplotlib.lines.Line2D at 0x7f7dfcac1070>]"
      ]
     },
     "execution_count": 35,
     "metadata": {},
     "output_type": "execute_result"
    },
    {
     "data": {
      "image/png": "[encoded data removed]",
      "text/plain": [
       "<Figure size 1500x500 with 1 Axes>"
      ]
     },
     "metadata": {
      "needs_background": "light"
     },
     "output_type": "display_data"
    }
   ],
   "source": [
    "# Plot both sets in order to see the split\n",
    "\n",
    "plt.figure(figsize=(15,5), dpi=100)\n",
    "plt.plot(train)\n",
    "plt.plot(test)"
   ]
  },
  {
   "cell_type": "markdown",
   "id": "d22ef13a",
   "metadata": {},
   "source": [
    "- The blue line represents the training set, and the red line represents the test set.\n",
    "\n",
    "- Throughout 1980, interest rates spiked, fell briefly and then spiked again. Lending activity decreased, oil prices increased, and unemployment increased. All of this contributed to inflation and a brief recession, after which the economy recovered in the second half of 1980.\n",
    "\n",
    "- I decided to split the data around 1986 when the effects of the Great Inflation began to wear off."
   ]
  },
  {
   "cell_type": "code",
   "execution_count": 36,
   "id": "613b60be",
   "metadata": {},
   "outputs": [
    {
     "data": {
      "text/plain": [
       "(37, 1)"
      ]
     },
     "execution_count": 36,
     "metadata": {},
     "output_type": "execute_result"
    }
   ],
   "source": [
    "test.shape"
   ]
  },
  {
   "cell_type": "markdown",
   "id": "eb9c55a4",
   "metadata": {},
   "source": [
    "## Running and Fitting the Model"
   ]
  },
  {
   "cell_type": "code",
   "execution_count": 37,
   "id": "351aa42a",
   "metadata": {},
   "outputs": [
    {
     "name": "stdout",
     "output_type": "stream",
     "text": [
      "                               SARIMAX Results                                \n",
      "==============================================================================\n",
      "Dep. Variable:                 median   No. Observations:                   37\n",
      "Model:                 ARIMA(1, 1, 0)   Log Likelihood                 -59.913\n",
      "Date:                Mon, 26 Sep 2022   AIC                            123.826\n",
      "Time:                        15:48:30   BIC                            126.993\n",
      "Sample:                    01-01-1949   HQIC                           124.931\n",
      "                         - 01-01-1985                                         \n",
      "Covariance Type:                  opg                                         \n",
      "==============================================================================\n",
      "                 coef    std err          z      P>|z|      [0.025      0.975]\n",
      "------------------------------------------------------------------------------\n",
      "ar.L1         -0.5244      0.142     -3.703      0.000      -0.802      -0.247\n",
      "sigma2         1.6188      0.219      7.401      0.000       1.190       2.047\n",
      "===================================================================================\n",
      "Ljung-Box (L1) (Q):                   1.72   Jarque-Bera (JB):               333.19\n",
      "Prob(Q):                              0.19   Prob(JB):                         0.00\n",
      "Heteroskedasticity (H):              30.11   Skew:                            -2.80\n",
      "Prob(H) (two-sided):                  0.00   Kurtosis:                        16.81\n",
      "===================================================================================\n",
      "\n",
      "Warnings:\n",
      "[1] Covariance matrix calculated using the outer product of gradients (complex-step).\n"
     ]
    }
   ],
   "source": [
    "# importing the model\n",
    "\n",
    "from statsmodels.tsa.api import ARIMA\n",
    "\n",
    "model = ARIMA(train, order=(1,1,0))\n",
    "fitted = model.fit()\n",
    "\n",
    "# Check model summary\n",
    "\n",
    "print (fitted.summary())"
   ]
  },
  {
   "cell_type": "markdown",
   "id": "f176d8c5",
   "metadata": {},
   "source": [
    "- The coefficient is statistically significant , p is less than 0.05."
   ]
  },
  {
   "cell_type": "code",
   "execution_count": null,
   "id": "5c6b3382",
   "metadata": {},
   "outputs": [],
   "source": []
  },
  {
   "cell_type": "code",
   "execution_count": 38,
   "id": "1a1f76d9",
   "metadata": {},
   "outputs": [
    {
     "ename": "ValueError",
     "evalue": "too many values to unpack (expected 3)",
     "output_type": "error",
     "traceback": [
      "\u001b[0;31m---------------------------------------------------------------------------\u001b[0m",
      "\u001b[0;31mValueError\u001b[0m                                Traceback (most recent call last)",
      "Input \u001b[0;32mIn [38]\u001b[0m, in \u001b[0;36m<cell line: 3>\u001b[0;34m()\u001b[0m\n\u001b[1;32m      1\u001b[0m \u001b[38;5;66;03m# Forecast\u001b[39;00m\n\u001b[0;32m----> 3\u001b[0m fc, se, conf \u001b[38;5;241m=\u001b[39m fitted\u001b[38;5;241m.\u001b[39mforecast(\u001b[38;5;241m37\u001b[39m, alpha\u001b[38;5;241m=\u001b[39m\u001b[38;5;241m0.05\u001b[39m)\n",
      "\u001b[0;31mValueError\u001b[0m: too many values to unpack (expected 3)"
     ]
    }
   ],
   "source": [
    "# Forecast\n",
    "\n",
    "fc, se, conf = fitted.forecast(37, alpha=0.05)  # 95% conf\n"
   ]
  },
  {
   "cell_type": "markdown",
   "id": "35918746",
   "metadata": {},
   "source": [
    "- ?? Works only with if I put the shape of test=3  -- fc, se, conf = fitted.forecast(3, alpha=0.05)-- but the shape of the test set is 37, not sure what is the problem?? "
   ]
  },
  {
   "cell_type": "code",
   "execution_count": null,
   "id": "b5153c37",
   "metadata": {},
   "outputs": [],
   "source": [
    "fc = fitted.forecast(37, alpha=0.05)  # 95% conf\n",
    "se = fitted.forecast(37, alpha=0.05)  # 95% conf\n",
    "conf = fitted.forecast(37, alpha=0.05)  # 95% conf"
   ]
  },
  {
   "cell_type": "markdown",
   "id": "c8bc36ab",
   "metadata": {},
   "source": [
    "- or if I define it separately "
   ]
  },
  {
   "cell_type": "code",
   "execution_count": null,
   "id": "c0511a82",
   "metadata": {},
   "outputs": [],
   "source": [
    "# Make into pandas series\n",
    "fc_series = pd.Series(fc, index=test.index) # This creates the forecasted curve\n",
    "lower_series = pd.Series(conf[:,0], index=test.index) # lower bound of the confidence interval\n",
    "upper_series = pd.Series(conf[:,1], index=test.index) # Upper bound of the confidence interval\n",
    "\n"
   ]
  },
  {
   "cell_type": "code",
   "execution_count": null,
   "id": "aa2e873a",
   "metadata": {},
   "outputs": [],
   "source": [
    "# Plot\n",
    "plt.figure(figsize=(12,4), dpi=100)\n",
    "plt.plot(train, label='training')\n",
    "plt.plot(test, label='actual')\n",
    "plt.plot(fc_series, label='forecast')\n",
    "plt.fill_between(lower_series.index, lower_series, upper_series, \n",
    "                 color='k', alpha=.05) # This creates the confidence interval\n",
    "plt.title('Forecast vs Actuals')\n",
    "plt.legend(loc='upper left', fontsize=8)\n",
    "plt.show()"
   ]
  },
  {
   "cell_type": "code",
   "execution_count": null,
   "id": "1970f491",
   "metadata": {},
   "outputs": [],
   "source": []
  },
  {
   "cell_type": "code",
   "execution_count": null,
   "id": "44b062b3",
   "metadata": {},
   "outputs": [],
   "source": []
  },
  {
   "cell_type": "code",
   "execution_count": null,
   "id": "a5264a85",
   "metadata": {},
   "outputs": [],
   "source": []
  },
  {
   "cell_type": "code",
   "execution_count": null,
   "id": "f625f778",
   "metadata": {},
   "outputs": [],
   "source": []
  }
 ],
 "metadata": {
  "kernelspec": {
   "display_name": "Python 3 (ipykernel)",
   "language": "python",
   "name": "python3"
  },
  "language_info": {
   "codemirror_mode": {
    "name": "ipython",
    "version": 3
   },
   "file_extension": ".py",
   "mimetype": "text/x-python",
   "name": "python",
   "nbconvert_exporter": "python",
   "pygments_lexer": "ipython3",
   "version": "3.9.12"
  },
  "toc": {
   "base_numbering": 1,
   "nav_menu": {},
   "number_sections": true,
   "sideBar": true,
   "skip_h1_title": false,
   "title_cell": "Table of Contents",
   "title_sidebar": "Contents",
   "toc_cell": false,
   "toc_position": {},
   "toc_section_display": true,
   "toc_window_display": true
  }
 },
 "nbformat": 4,
 "nbformat_minor": 5
}

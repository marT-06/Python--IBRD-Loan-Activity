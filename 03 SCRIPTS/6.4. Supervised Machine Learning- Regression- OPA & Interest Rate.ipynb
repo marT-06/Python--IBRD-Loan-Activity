{
 "cells": [
  {
   "cell_type": "markdown",
   "id": "35302093",
   "metadata": {},
   "source": [
    "# Import libraries and data"
   ]
  },
  {
   "cell_type": "code",
   "execution_count": 1,
   "id": "01b3b3f3",
   "metadata": {},
   "outputs": [],
   "source": [
    "import pandas as pd\n",
    "import numpy as np\n",
    "import seaborn as sns\n",
    "import matplotlib\n",
    "import matplotlib.pyplot as plt\n",
    "import os\n",
    "import sklearn\n",
    "from sklearn.model_selection import train_test_split \n",
    "from sklearn.linear_model import LinearRegression\n",
    "from sklearn.metrics import mean_squared_error, r2_score"
   ]
  },
  {
   "cell_type": "code",
   "execution_count": 2,
   "id": "786fa756",
   "metadata": {},
   "outputs": [],
   "source": [
    "# ensuring that the graphs  are displayed within the notebook without \"calling\" them specifically.\n",
    "\n",
    "%matplotlib inline"
   ]
  },
  {
   "cell_type": "code",
   "execution_count": 3,
   "id": "0419e8a1",
   "metadata": {},
   "outputs": [
    {
     "data": {
      "text/html": [
       "<div>\n",
       "<style scoped>\n",
       "    .dataframe tbody tr th:only-of-type {\n",
       "        vertical-align: middle;\n",
       "    }\n",
       "\n",
       "    .dataframe tbody tr th {\n",
       "        vertical-align: top;\n",
       "    }\n",
       "\n",
       "    .dataframe thead th {\n",
       "        text-align: right;\n",
       "    }\n",
       "</style>\n",
       "<table border=\"1\" class=\"dataframe\">\n",
       "  <thead>\n",
       "    <tr style=\"text-align: right;\">\n",
       "      <th></th>\n",
       "      <th>Loan Number</th>\n",
       "      <th>Region</th>\n",
       "      <th>Country</th>\n",
       "      <th>Borrower</th>\n",
       "      <th>Guarantor</th>\n",
       "      <th>Loan Type</th>\n",
       "      <th>Loan Status</th>\n",
       "      <th>Interest Rate</th>\n",
       "      <th>Original Principal Amount</th>\n",
       "      <th>Cancelled Amount</th>\n",
       "      <th>Undisbursed Amount</th>\n",
       "      <th>Disbursed Amount</th>\n",
       "      <th>Repaid to IBRD</th>\n",
       "      <th>Due to IBRD</th>\n",
       "      <th>Exchange Adjustment</th>\n",
       "      <th>Borrowers Obligation</th>\n",
       "      <th>Loans Held</th>\n",
       "      <th>Agreement Signing Date</th>\n",
       "      <th>Effective Date (Most Recent)</th>\n",
       "      <th>Closed Date (Most Recent)</th>\n",
       "    </tr>\n",
       "  </thead>\n",
       "  <tbody>\n",
       "    <tr>\n",
       "      <th>0</th>\n",
       "      <td>IBRD00010</td>\n",
       "      <td>EUROPE AND CENTRAL ASIA</td>\n",
       "      <td>France</td>\n",
       "      <td>CREDIT NATIONAL</td>\n",
       "      <td>France</td>\n",
       "      <td>NPL</td>\n",
       "      <td>Fully Repaid</td>\n",
       "      <td>4.25</td>\n",
       "      <td>250000000.0</td>\n",
       "      <td>0.0</td>\n",
       "      <td>0.0</td>\n",
       "      <td>250000000.0</td>\n",
       "      <td>38000.00</td>\n",
       "      <td>0.0</td>\n",
       "      <td>0.0</td>\n",
       "      <td>0.0</td>\n",
       "      <td>0.0</td>\n",
       "      <td>1947-05-09</td>\n",
       "      <td>1947-06-09</td>\n",
       "      <td>1947-12-31</td>\n",
       "    </tr>\n",
       "    <tr>\n",
       "      <th>5</th>\n",
       "      <td>IBRD00050</td>\n",
       "      <td>LATIN AMERICA AND CARIBBEAN</td>\n",
       "      <td>Chile</td>\n",
       "      <td>Ministry of Finance</td>\n",
       "      <td>Chile</td>\n",
       "      <td>NPL</td>\n",
       "      <td>Fully Repaid</td>\n",
       "      <td>4.50</td>\n",
       "      <td>13500000.0</td>\n",
       "      <td>0.0</td>\n",
       "      <td>0.0</td>\n",
       "      <td>13500000.0</td>\n",
       "      <td>12167000.00</td>\n",
       "      <td>0.0</td>\n",
       "      <td>0.0</td>\n",
       "      <td>0.0</td>\n",
       "      <td>0.0</td>\n",
       "      <td>1948-03-25</td>\n",
       "      <td>1949-04-07</td>\n",
       "      <td>1954-12-31</td>\n",
       "    </tr>\n",
       "    <tr>\n",
       "      <th>6</th>\n",
       "      <td>IBRD00060</td>\n",
       "      <td>LATIN AMERICA AND CARIBBEAN</td>\n",
       "      <td>Chile</td>\n",
       "      <td>Ministry of Finance</td>\n",
       "      <td>Chile</td>\n",
       "      <td>NPL</td>\n",
       "      <td>Fully Repaid</td>\n",
       "      <td>3.75</td>\n",
       "      <td>2500000.0</td>\n",
       "      <td>0.0</td>\n",
       "      <td>0.0</td>\n",
       "      <td>2500000.0</td>\n",
       "      <td>755000.00</td>\n",
       "      <td>0.0</td>\n",
       "      <td>0.0</td>\n",
       "      <td>0.0</td>\n",
       "      <td>0.0</td>\n",
       "      <td>1948-03-25</td>\n",
       "      <td>1949-04-07</td>\n",
       "      <td>1950-01-01</td>\n",
       "    </tr>\n",
       "    <tr>\n",
       "      <th>13</th>\n",
       "      <td>IBRD00111</td>\n",
       "      <td>LATIN AMERICA AND CARIBBEAN</td>\n",
       "      <td>Brazil</td>\n",
       "      <td>Ministério da Fazenda</td>\n",
       "      <td>Brazil</td>\n",
       "      <td>NPL</td>\n",
       "      <td>Fully Repaid</td>\n",
       "      <td>4.50</td>\n",
       "      <td>75000000.0</td>\n",
       "      <td>0.0</td>\n",
       "      <td>0.0</td>\n",
       "      <td>75000000.0</td>\n",
       "      <td>70971588.97</td>\n",
       "      <td>0.0</td>\n",
       "      <td>0.0</td>\n",
       "      <td>0.0</td>\n",
       "      <td>0.0</td>\n",
       "      <td>1949-01-27</td>\n",
       "      <td>1949-05-09</td>\n",
       "      <td>1953-12-31</td>\n",
       "    </tr>\n",
       "    <tr>\n",
       "      <th>14</th>\n",
       "      <td>IBRD00112</td>\n",
       "      <td>LATIN AMERICA AND CARIBBEAN</td>\n",
       "      <td>Brazil</td>\n",
       "      <td>Ministério da Fazenda</td>\n",
       "      <td>Brazil</td>\n",
       "      <td>NPL</td>\n",
       "      <td>Fully Repaid</td>\n",
       "      <td>4.25</td>\n",
       "      <td>15000000.0</td>\n",
       "      <td>0.0</td>\n",
       "      <td>0.0</td>\n",
       "      <td>15000000.0</td>\n",
       "      <td>15000000.00</td>\n",
       "      <td>0.0</td>\n",
       "      <td>0.0</td>\n",
       "      <td>0.0</td>\n",
       "      <td>0.0</td>\n",
       "      <td>1951-01-18</td>\n",
       "      <td>1951-04-10</td>\n",
       "      <td>1954-12-31</td>\n",
       "    </tr>\n",
       "  </tbody>\n",
       "</table>\n",
       "</div>"
      ],
      "text/plain": [
       "   Loan Number                       Region Country               Borrower  \\\n",
       "0    IBRD00010      EUROPE AND CENTRAL ASIA  France        CREDIT NATIONAL   \n",
       "5    IBRD00050  LATIN AMERICA AND CARIBBEAN   Chile    Ministry of Finance   \n",
       "6    IBRD00060  LATIN AMERICA AND CARIBBEAN   Chile    Ministry of Finance   \n",
       "13   IBRD00111  LATIN AMERICA AND CARIBBEAN  Brazil  Ministério da Fazenda   \n",
       "14   IBRD00112  LATIN AMERICA AND CARIBBEAN  Brazil  Ministério da Fazenda   \n",
       "\n",
       "   Guarantor Loan Type   Loan Status  Interest Rate  \\\n",
       "0     France       NPL  Fully Repaid           4.25   \n",
       "5      Chile       NPL  Fully Repaid           4.50   \n",
       "6      Chile       NPL  Fully Repaid           3.75   \n",
       "13    Brazil       NPL  Fully Repaid           4.50   \n",
       "14    Brazil       NPL  Fully Repaid           4.25   \n",
       "\n",
       "    Original Principal Amount  Cancelled Amount  Undisbursed Amount  \\\n",
       "0                 250000000.0               0.0                 0.0   \n",
       "5                  13500000.0               0.0                 0.0   \n",
       "6                   2500000.0               0.0                 0.0   \n",
       "13                 75000000.0               0.0                 0.0   \n",
       "14                 15000000.0               0.0                 0.0   \n",
       "\n",
       "    Disbursed Amount  Repaid to IBRD  Due to IBRD  Exchange Adjustment  \\\n",
       "0        250000000.0        38000.00          0.0                  0.0   \n",
       "5         13500000.0     12167000.00          0.0                  0.0   \n",
       "6          2500000.0       755000.00          0.0                  0.0   \n",
       "13        75000000.0     70971588.97          0.0                  0.0   \n",
       "14        15000000.0     15000000.00          0.0                  0.0   \n",
       "\n",
       "    Borrowers Obligation  Loans Held Agreement Signing Date  \\\n",
       "0                    0.0         0.0             1947-05-09   \n",
       "5                    0.0         0.0             1948-03-25   \n",
       "6                    0.0         0.0             1948-03-25   \n",
       "13                   0.0         0.0             1949-01-27   \n",
       "14                   0.0         0.0             1951-01-18   \n",
       "\n",
       "   Effective Date (Most Recent) Closed Date (Most Recent)  \n",
       "0                    1947-06-09                1947-12-31  \n",
       "5                    1949-04-07                1954-12-31  \n",
       "6                    1949-04-07                1950-01-01  \n",
       "13                   1949-05-09                1953-12-31  \n",
       "14                   1951-04-10                1954-12-31  "
      ]
     },
     "execution_count": 3,
     "metadata": {},
     "output_type": "execute_result"
    }
   ],
   "source": [
    "# turning a project folder path into a string\n",
    "\n",
    "path = r'/Users/mart/Documents/09-2022 IBRD  Statement of Loans'\n",
    "\n",
    "# Importing database\n",
    "\n",
    "df = pd.read_pickle(os.path.join(path,'02 Data','Prepared Data', 'SoL.pkl'))\n",
    "\n",
    "# set options to show all columns\n",
    "\n",
    "pd.set_option('display.max_columns', None)\n",
    "\n",
    "# check the first rows\n",
    "\n",
    "df.head()"
   ]
  },
  {
   "cell_type": "markdown",
   "id": "63f9de16",
   "metadata": {},
   "source": [
    "# Data checks"
   ]
  },
  {
   "cell_type": "code",
   "execution_count": 4,
   "id": "ade086dc",
   "metadata": {},
   "outputs": [
    {
     "data": {
      "text/plain": [
       "Index(['Loan Number', 'Region', 'Country', 'Borrower', 'Guarantor',\n",
       "       'Loan Type', 'Loan Status', 'Interest Rate',\n",
       "       'Original Principal Amount', 'Cancelled Amount', 'Undisbursed Amount',\n",
       "       'Disbursed Amount', 'Repaid to IBRD', 'Due to IBRD',\n",
       "       'Exchange Adjustment', 'Borrowers Obligation', 'Loans Held',\n",
       "       'Agreement Signing Date', 'Effective Date (Most Recent)',\n",
       "       'Closed Date (Most Recent)'],\n",
       "      dtype='object')"
      ]
     },
     "execution_count": 4,
     "metadata": {},
     "output_type": "execute_result"
    }
   ],
   "source": [
    "df.columns"
   ]
  },
  {
   "cell_type": "code",
   "execution_count": 5,
   "id": "cbf98781",
   "metadata": {},
   "outputs": [
    {
     "data": {
      "text/plain": [
       "Loan Number                     0\n",
       "Region                          0\n",
       "Country                         0\n",
       "Borrower                        0\n",
       "Guarantor                       0\n",
       "Loan Type                       0\n",
       "Loan Status                     0\n",
       "Interest Rate                   0\n",
       "Original Principal Amount       0\n",
       "Cancelled Amount                0\n",
       "Undisbursed Amount              0\n",
       "Disbursed Amount                0\n",
       "Repaid to IBRD                  0\n",
       "Due to IBRD                     0\n",
       "Exchange Adjustment             0\n",
       "Borrowers Obligation            0\n",
       "Loans Held                      0\n",
       "Agreement Signing Date          0\n",
       "Effective Date (Most Recent)    0\n",
       "Closed Date (Most Recent)       0\n",
       "dtype: int64"
      ]
     },
     "execution_count": 5,
     "metadata": {},
     "output_type": "execute_result"
    }
   ],
   "source": [
    "# checking for missing values\n",
    "\n",
    "df.isnull().sum()"
   ]
  },
  {
   "cell_type": "code",
   "execution_count": 6,
   "id": "302a48c5",
   "metadata": {},
   "outputs": [
    {
     "data": {
      "text/html": [
       "<div>\n",
       "<style scoped>\n",
       "    .dataframe tbody tr th:only-of-type {\n",
       "        vertical-align: middle;\n",
       "    }\n",
       "\n",
       "    .dataframe tbody tr th {\n",
       "        vertical-align: top;\n",
       "    }\n",
       "\n",
       "    .dataframe thead th {\n",
       "        text-align: right;\n",
       "    }\n",
       "</style>\n",
       "<table border=\"1\" class=\"dataframe\">\n",
       "  <thead>\n",
       "    <tr style=\"text-align: right;\">\n",
       "      <th></th>\n",
       "      <th>Loan Number</th>\n",
       "      <th>Region</th>\n",
       "      <th>Country</th>\n",
       "      <th>Borrower</th>\n",
       "      <th>Guarantor</th>\n",
       "      <th>Loan Type</th>\n",
       "      <th>Loan Status</th>\n",
       "      <th>Interest Rate</th>\n",
       "      <th>Original Principal Amount</th>\n",
       "      <th>Cancelled Amount</th>\n",
       "      <th>Undisbursed Amount</th>\n",
       "      <th>Disbursed Amount</th>\n",
       "      <th>Repaid to IBRD</th>\n",
       "      <th>Due to IBRD</th>\n",
       "      <th>Exchange Adjustment</th>\n",
       "      <th>Borrowers Obligation</th>\n",
       "      <th>Loans Held</th>\n",
       "      <th>Agreement Signing Date</th>\n",
       "      <th>Effective Date (Most Recent)</th>\n",
       "      <th>Closed Date (Most Recent)</th>\n",
       "    </tr>\n",
       "  </thead>\n",
       "  <tbody>\n",
       "  </tbody>\n",
       "</table>\n",
       "</div>"
      ],
      "text/plain": [
       "Empty DataFrame\n",
       "Columns: [Loan Number, Region, Country, Borrower, Guarantor, Loan Type, Loan Status, Interest Rate, Original Principal Amount, Cancelled Amount, Undisbursed Amount, Disbursed Amount, Repaid to IBRD, Due to IBRD, Exchange Adjustment, Borrowers Obligation, Loans Held, Agreement Signing Date, Effective Date (Most Recent), Closed Date (Most Recent)]\n",
       "Index: []"
      ]
     },
     "execution_count": 6,
     "metadata": {},
     "output_type": "execute_result"
    }
   ],
   "source": [
    "# checking for duplicates\n",
    "\n",
    "df_dups = df[df.duplicated()]\n",
    "df_dups"
   ]
  },
  {
   "cell_type": "markdown",
   "id": "349d0b4e",
   "metadata": {},
   "source": [
    "## Extreme values checks"
   ]
  },
  {
   "cell_type": "code",
   "execution_count": 8,
   "id": "87da6c8d",
   "metadata": {},
   "outputs": [
    {
     "name": "stderr",
     "output_type": "stream",
     "text": [
      "/Users/mart/opt/anaconda3/lib/python3.9/site-packages/seaborn/distributions.py:2619: FutureWarning: `distplot` is a deprecated function and will be removed in a future version. Please adapt your code to use either `displot` (a figure-level function with similar flexibility) or `histplot` (an axes-level function for histograms).\n",
      "  warnings.warn(msg, FutureWarning)\n"
     ]
    },
    {
     "data": {
      "text/plain": [
       "<AxesSubplot:xlabel='Interest Rate', ylabel='Density'>"
      ]
     },
     "execution_count": 8,
     "metadata": {},
     "output_type": "execute_result"
    },
    {
     "data": {
      "image/png": "[encoded data removed]",
      "text/plain": [
       "<Figure size 432x288 with 1 Axes>"
      ]
     },
     "metadata": {
      "needs_background": "light"
     },
     "output_type": "display_data"
    }
   ],
   "source": [
    "sns.distplot(df['Interest Rate'], bins=35)"
   ]
  },
  {
   "cell_type": "code",
   "execution_count": 9,
   "id": "d1cd2ac3",
   "metadata": {},
   "outputs": [
    {
     "data": {
      "text/plain": [
       "4.075409939220572"
      ]
     },
     "execution_count": 9,
     "metadata": {},
     "output_type": "execute_result"
    }
   ],
   "source": [
    "# Check the mean\n",
    "df['Interest Rate'].mean()"
   ]
  },
  {
   "cell_type": "code",
   "execution_count": 10,
   "id": "f17a0557",
   "metadata": {},
   "outputs": [
    {
     "data": {
      "text/plain": [
       "4.85"
      ]
     },
     "execution_count": 10,
     "metadata": {},
     "output_type": "execute_result"
    }
   ],
   "source": [
    "# Check the median\n",
    "\n",
    "df['Interest Rate'].median()"
   ]
  },
  {
   "cell_type": "code",
   "execution_count": 11,
   "id": "a57268cd",
   "metadata": {},
   "outputs": [
    {
     "data": {
      "text/plain": [
       "11.6"
      ]
     },
     "execution_count": 11,
     "metadata": {},
     "output_type": "execute_result"
    }
   ],
   "source": [
    "# Check the max\n",
    "\n",
    "df['Interest Rate'].max()"
   ]
  },
  {
   "cell_type": "markdown",
   "id": "cc9484c5",
   "metadata": {},
   "source": [
    "# Data prep for regression analysis"
   ]
  },
  {
   "cell_type": "code",
   "execution_count": 12,
   "id": "4177566a",
   "metadata": {},
   "outputs": [
    {
     "data": {
      "image/png": "[encoded data removed]",
      "text/plain": [
       "<Figure size 432x288 with 1 Axes>"
      ]
     },
     "metadata": {
      "needs_background": "light"
     },
     "output_type": "display_data"
    }
   ],
   "source": [
    "# Create a scatterplot using matplotlib for another look at how the chosen variables plot against each other\n",
    "\n",
    "df.plot(x = 'Original Principal Amount', y='Interest Rate',style='o') # The style option creates a scatterplot; without it, we only have lines.\n",
    "plt.title('Original Principal Amount vs Interest Rate')  \n",
    "plt.xlabel('Original Principal Amount')  \n",
    "plt.ylabel('Interest Rate')  \n",
    "plt.show()"
   ]
  },
  {
   "cell_type": "markdown",
   "id": "c9ce81a3",
   "metadata": {},
   "source": [
    "## Hypothesis"
   ]
  },
  {
   "cell_type": "markdown",
   "id": "c1171e4e",
   "metadata": {},
   "source": [
    "As the Original Principal Amount increases, the Interest Rate decreases. "
   ]
  },
  {
   "cell_type": "markdown",
   "id": "9a4aee00",
   "metadata": {},
   "source": [
    "## Reshaping the variables into NumPy arrays"
   ]
  },
  {
   "cell_type": "code",
   "execution_count": 13,
   "id": "e2e41534",
   "metadata": {},
   "outputs": [],
   "source": [
    "# Reshape the variables into NumPy arrays and put them into separate objects.\n",
    "\n",
    "X = df['Original Principal Amount'].values.reshape(-1,1)\n",
    "y = df['Interest Rate'].values.reshape(-1,1)"
   ]
  },
  {
   "cell_type": "code",
   "execution_count": 14,
   "id": "1d6afca2",
   "metadata": {},
   "outputs": [
    {
     "data": {
      "text/plain": [
       "array([[2.50e+08],\n",
       "       [1.35e+07],\n",
       "       [2.50e+06],\n",
       "       ...,\n",
       "       [5.00e+07],\n",
       "       [5.00e+06],\n",
       "       [1.00e+07]])"
      ]
     },
     "execution_count": 14,
     "metadata": {},
     "output_type": "execute_result"
    }
   ],
   "source": [
    "X"
   ]
  },
  {
   "cell_type": "code",
   "execution_count": 16,
   "id": "8cc73f74",
   "metadata": {},
   "outputs": [
    {
     "data": {
      "text/plain": [
       "array([[4.25],\n",
       "       [4.5 ],\n",
       "       [3.75],\n",
       "       ...,\n",
       "       [8.25],\n",
       "       [8.25],\n",
       "       [9.25]])"
      ]
     },
     "execution_count": 16,
     "metadata": {},
     "output_type": "execute_result"
    }
   ],
   "source": [
    "y"
   ]
  },
  {
   "cell_type": "code",
   "execution_count": 17,
   "id": "34cd70c3",
   "metadata": {},
   "outputs": [],
   "source": [
    "# Split data into a training set and a test set.\n",
    "\n",
    "X_train, X_test, y_train, y_test = train_test_split(X, y, test_size=0.3, random_state=0)"
   ]
  },
  {
   "cell_type": "markdown",
   "id": "31aeb5ad",
   "metadata": {},
   "source": [
    "# Regression analysis"
   ]
  },
  {
   "cell_type": "code",
   "execution_count": 18,
   "id": "d00d50c7",
   "metadata": {},
   "outputs": [],
   "source": [
    "# Create a regression object.\n",
    "\n",
    "regression = LinearRegression()  # This is the regression object, which will be fit onto the training set."
   ]
  },
  {
   "cell_type": "code",
   "execution_count": 19,
   "id": "a70a61db",
   "metadata": {},
   "outputs": [
    {
     "data": {
      "text/plain": [
       "LinearRegression()"
      ]
     },
     "execution_count": 19,
     "metadata": {},
     "output_type": "execute_result"
    }
   ],
   "source": [
    "# Fit the regression object onto the training set.\n",
    "\n",
    "regression.fit(X_train, y_train)"
   ]
  },
  {
   "cell_type": "code",
   "execution_count": 20,
   "id": "1279ee04",
   "metadata": {},
   "outputs": [],
   "source": [
    "# Predict the values of y using X.\n",
    "\n",
    "y_predicted = regression.predict(X_test)"
   ]
  },
  {
   "cell_type": "code",
   "execution_count": 21,
   "id": "ab942115",
   "metadata": {},
   "outputs": [
    {
     "data": {
      "image/png": "[encoded data removed]",
      "text/plain": [
       "<Figure size 432x288 with 1 Axes>"
      ]
     },
     "metadata": {
      "needs_background": "light"
     },
     "output_type": "display_data"
    }
   ],
   "source": [
    "# Create a plot that shows the regression line from the model on the test set.\n",
    "\n",
    "plot_test = plt\n",
    "plot_test.scatter(X_test, y_test, color='gray', s = 15)\n",
    "plot_test.plot(X_test, y_predicted, color='red', linewidth =3)\n",
    "plot_test.title('Original Principal Amount vs Interest Rate (Test set)')\n",
    "plot_test.xlabel('Original Principal Amount')\n",
    "plot_test.ylabel('Interest Rate')\n",
    "plot_test.show()"
   ]
  },
  {
   "cell_type": "markdown",
   "id": "894f4322",
   "metadata": {},
   "source": [
    "- The data points are dispersed widely around the regression line."
   ]
  },
  {
   "cell_type": "code",
   "execution_count": 22,
   "id": "c88cec8b",
   "metadata": {},
   "outputs": [],
   "source": [
    "# Create objects that contain the model summary statistics.\n",
    "\n",
    "rmse = mean_squared_error(y_test, y_predicted) # This is the mean squared error\n",
    "r2 = r2_score(y_test, y_predicted) # This is the R2 score. "
   ]
  },
  {
   "cell_type": "code",
   "execution_count": 23,
   "id": "e7d16d5e",
   "metadata": {},
   "outputs": [
    {
     "name": "stdout",
     "output_type": "stream",
     "text": [
      "Slope: [[-6.26915961e-09]]\n",
      "Mean squared error:  10.588772364903196\n",
      "R2 score:  0.09240909079513393\n"
     ]
    }
   ],
   "source": [
    "# Print the model summary statistics. This is where you evaluate the performance of the model.\n",
    "\n",
    "print('Slope:' ,regression.coef_)\n",
    "print('Mean squared error: ', rmse)\n",
    "print('R2 score: ', r2)"
   ]
  },
  {
   "cell_type": "markdown",
   "id": "9921070e",
   "metadata": {},
   "source": [
    "- The slope is showing us that as X (Original Principal Amount) rises, y (the Interest Rates ) decreses at a degree of -0,6269.\n",
    "- The MSE is large at 10.5887, which means that regression is not the best model to represent this data and can’t accurately predict the influence of the Original Principal Amount on the Interest Rate.\n",
    "- The R2 score of 0.092 indicates that the model does not adequately explain the variance."
   ]
  },
  {
   "cell_type": "code",
   "execution_count": 24,
   "id": "e906631b",
   "metadata": {},
   "outputs": [
    {
     "data": {
      "text/plain": [
       "array([[4.46460121],\n",
       "       [3.42830913],\n",
       "       [4.61944945],\n",
       "       ...,\n",
       "       [4.49406626],\n",
       "       [4.58630342],\n",
       "       [4.58810366]])"
      ]
     },
     "execution_count": 24,
     "metadata": {},
     "output_type": "execute_result"
    }
   ],
   "source": [
    "y_predicted"
   ]
  },
  {
   "cell_type": "code",
   "execution_count": 25,
   "id": "af9ce961",
   "metadata": {},
   "outputs": [
    {
     "data": {
      "text/html": [
       "<div>\n",
       "<style scoped>\n",
       "    .dataframe tbody tr th:only-of-type {\n",
       "        vertical-align: middle;\n",
       "    }\n",
       "\n",
       "    .dataframe tbody tr th {\n",
       "        vertical-align: top;\n",
       "    }\n",
       "\n",
       "    .dataframe thead th {\n",
       "        text-align: right;\n",
       "    }\n",
       "</style>\n",
       "<table border=\"1\" class=\"dataframe\">\n",
       "  <thead>\n",
       "    <tr style=\"text-align: right;\">\n",
       "      <th></th>\n",
       "      <th>Actual</th>\n",
       "      <th>Predicted</th>\n",
       "    </tr>\n",
       "  </thead>\n",
       "  <tbody>\n",
       "    <tr>\n",
       "      <th>0</th>\n",
       "      <td>7.26</td>\n",
       "      <td>4.464601</td>\n",
       "    </tr>\n",
       "    <tr>\n",
       "      <th>1</th>\n",
       "      <td>7.50</td>\n",
       "      <td>3.428309</td>\n",
       "    </tr>\n",
       "    <tr>\n",
       "      <th>2</th>\n",
       "      <td>7.00</td>\n",
       "      <td>4.619449</td>\n",
       "    </tr>\n",
       "    <tr>\n",
       "      <th>3</th>\n",
       "      <td>0.00</td>\n",
       "      <td>4.650795</td>\n",
       "    </tr>\n",
       "    <tr>\n",
       "      <th>4</th>\n",
       "      <td>8.20</td>\n",
       "      <td>4.431375</td>\n",
       "    </tr>\n",
       "    <tr>\n",
       "      <th>5</th>\n",
       "      <td>8.20</td>\n",
       "      <td>4.368683</td>\n",
       "    </tr>\n",
       "    <tr>\n",
       "      <th>6</th>\n",
       "      <td>5.59</td>\n",
       "      <td>4.675088</td>\n",
       "    </tr>\n",
       "    <tr>\n",
       "      <th>7</th>\n",
       "      <td>0.00</td>\n",
       "      <td>1.641599</td>\n",
       "    </tr>\n",
       "    <tr>\n",
       "      <th>8</th>\n",
       "      <td>7.90</td>\n",
       "      <td>4.462720</td>\n",
       "    </tr>\n",
       "    <tr>\n",
       "      <th>9</th>\n",
       "      <td>0.00</td>\n",
       "      <td>3.428309</td>\n",
       "    </tr>\n",
       "    <tr>\n",
       "      <th>10</th>\n",
       "      <td>7.25</td>\n",
       "      <td>4.531681</td>\n",
       "    </tr>\n",
       "    <tr>\n",
       "      <th>11</th>\n",
       "      <td>0.62</td>\n",
       "      <td>4.534490</td>\n",
       "    </tr>\n",
       "    <tr>\n",
       "      <th>12</th>\n",
       "      <td>6.00</td>\n",
       "      <td>4.547354</td>\n",
       "    </tr>\n",
       "    <tr>\n",
       "      <th>13</th>\n",
       "      <td>0.00</td>\n",
       "      <td>1.603984</td>\n",
       "    </tr>\n",
       "    <tr>\n",
       "      <th>14</th>\n",
       "      <td>8.20</td>\n",
       "      <td>4.368683</td>\n",
       "    </tr>\n",
       "    <tr>\n",
       "      <th>15</th>\n",
       "      <td>6.00</td>\n",
       "      <td>4.477418</td>\n",
       "    </tr>\n",
       "    <tr>\n",
       "      <th>16</th>\n",
       "      <td>5.21</td>\n",
       "      <td>4.486543</td>\n",
       "    </tr>\n",
       "    <tr>\n",
       "      <th>17</th>\n",
       "      <td>0.20</td>\n",
       "      <td>4.635749</td>\n",
       "    </tr>\n",
       "    <tr>\n",
       "      <th>18</th>\n",
       "      <td>6.61</td>\n",
       "      <td>3.947113</td>\n",
       "    </tr>\n",
       "    <tr>\n",
       "      <th>19</th>\n",
       "      <td>8.76</td>\n",
       "      <td>4.664503</td>\n",
       "    </tr>\n",
       "    <tr>\n",
       "      <th>20</th>\n",
       "      <td>7.00</td>\n",
       "      <td>4.525412</td>\n",
       "    </tr>\n",
       "    <tr>\n",
       "      <th>21</th>\n",
       "      <td>6.00</td>\n",
       "      <td>4.611926</td>\n",
       "    </tr>\n",
       "    <tr>\n",
       "      <th>22</th>\n",
       "      <td>6.14</td>\n",
       "      <td>3.114851</td>\n",
       "    </tr>\n",
       "    <tr>\n",
       "      <th>23</th>\n",
       "      <td>2.43</td>\n",
       "      <td>4.556758</td>\n",
       "    </tr>\n",
       "    <tr>\n",
       "      <th>24</th>\n",
       "      <td>0.00</td>\n",
       "      <td>1.547561</td>\n",
       "    </tr>\n",
       "    <tr>\n",
       "      <th>25</th>\n",
       "      <td>0.81</td>\n",
       "      <td>4.561146</td>\n",
       "    </tr>\n",
       "    <tr>\n",
       "      <th>26</th>\n",
       "      <td>7.25</td>\n",
       "      <td>4.680993</td>\n",
       "    </tr>\n",
       "    <tr>\n",
       "      <th>27</th>\n",
       "      <td>8.25</td>\n",
       "      <td>4.462720</td>\n",
       "    </tr>\n",
       "    <tr>\n",
       "      <th>28</th>\n",
       "      <td>0.00</td>\n",
       "      <td>4.379968</td>\n",
       "    </tr>\n",
       "    <tr>\n",
       "      <th>29</th>\n",
       "      <td>7.00</td>\n",
       "      <td>3.898496</td>\n",
       "    </tr>\n",
       "  </tbody>\n",
       "</table>\n",
       "</div>"
      ],
      "text/plain": [
       "    Actual  Predicted\n",
       "0     7.26   4.464601\n",
       "1     7.50   3.428309\n",
       "2     7.00   4.619449\n",
       "3     0.00   4.650795\n",
       "4     8.20   4.431375\n",
       "5     8.20   4.368683\n",
       "6     5.59   4.675088\n",
       "7     0.00   1.641599\n",
       "8     7.90   4.462720\n",
       "9     0.00   3.428309\n",
       "10    7.25   4.531681\n",
       "11    0.62   4.534490\n",
       "12    6.00   4.547354\n",
       "13    0.00   1.603984\n",
       "14    8.20   4.368683\n",
       "15    6.00   4.477418\n",
       "16    5.21   4.486543\n",
       "17    0.20   4.635749\n",
       "18    6.61   3.947113\n",
       "19    8.76   4.664503\n",
       "20    7.00   4.525412\n",
       "21    6.00   4.611926\n",
       "22    6.14   3.114851\n",
       "23    2.43   4.556758\n",
       "24    0.00   1.547561\n",
       "25    0.81   4.561146\n",
       "26    7.25   4.680993\n",
       "27    8.25   4.462720\n",
       "28    0.00   4.379968\n",
       "29    7.00   3.898496"
      ]
     },
     "execution_count": 25,
     "metadata": {},
     "output_type": "execute_result"
    }
   ],
   "source": [
    "# Create a dataframe comparing the actual and predicted values of y.\n",
    "\n",
    "data = pd.DataFrame({'Actual': y_test.flatten(), 'Predicted': y_predicted.flatten()})\n",
    "data.head(30)"
   ]
  },
  {
   "cell_type": "markdown",
   "id": "fa8244cf",
   "metadata": {},
   "source": [
    "## Compare how the regression fits the training set"
   ]
  },
  {
   "cell_type": "code",
   "execution_count": 26,
   "id": "9a342afd",
   "metadata": {},
   "outputs": [],
   "source": [
    "# Predict.\n",
    "\n",
    "y_predicted_train = regression.predict(X_train) # This is predicting X_train!"
   ]
  },
  {
   "cell_type": "code",
   "execution_count": 27,
   "id": "6e33fa05",
   "metadata": {},
   "outputs": [],
   "source": [
    "rmse = mean_squared_error(y_train, y_predicted_train)\n",
    "r2 = r2_score(y_train, y_predicted_train)"
   ]
  },
  {
   "cell_type": "code",
   "execution_count": 28,
   "id": "b34c379f",
   "metadata": {},
   "outputs": [
    {
     "name": "stdout",
     "output_type": "stream",
     "text": [
      "Slope: [[-6.26915961e-09]]\n",
      "Mean squared error:  10.816600026842089\n",
      "R2 score:  0.092641336217678\n"
     ]
    }
   ],
   "source": [
    "print('Slope:' ,regression.coef_)\n",
    "print('Mean squared error: ', rmse)\n",
    "print('R2 score: ', r2)"
   ]
  },
  {
   "cell_type": "markdown",
   "id": "ad0e9971",
   "metadata": {},
   "source": [
    "- The coefficient is negative, the MSE is high, and the R2 score is low, with all the values being almost identical compared to the model ones.\n",
    "- It turns out that the hypothesis, “As the Original Principal Amount increases, the Interest Rate decreases”, is only partially true.\n",
    "- While the Interest Rate is decreasing with the increase of the Original Principal Amount, it's not the only factor affecting it."
   ]
  },
  {
   "cell_type": "code",
   "execution_count": 30,
   "id": "673a3447",
   "metadata": {},
   "outputs": [
    {
     "data": {
      "image/png": "[encoded data removed]",
      "text/plain": [
       "<Figure size 432x288 with 1 Axes>"
      ]
     },
     "metadata": {
      "needs_background": "light"
     },
     "output_type": "display_data"
    }
   ],
   "source": [
    "# Visualizing the training set results.\n",
    "\n",
    "plot_test = plt\n",
    "plot_test.scatter(X_train, y_train, color='green', s = 15)\n",
    "plot_test.plot(X_train, y_predicted_train, color='red', linewidth =3)\n",
    "plot_test.title('Original Principal Amount vs Interest Rate (Train set)')\n",
    "plot_test.xlabel('Original Principal Amount')\n",
    "plot_test.ylabel('Interest Rate')\n",
    "\n",
    "plot_test.show()"
   ]
  },
  {
   "cell_type": "markdown",
   "id": "55abf190",
   "metadata": {},
   "source": [
    "# Bonus: Performance improvement after removing outliers"
   ]
  },
  {
   "cell_type": "code",
   "execution_count": 32,
   "id": "c57c37a2",
   "metadata": {},
   "outputs": [],
   "source": [
    "# removing zeroes from the the \"Borrowers Obligation\" variable \n",
    "\n",
    "df_test = df[(df['Interest Rate'] > 0) & (df['Interest Rate'] <= 9)] "
   ]
  },
  {
   "cell_type": "code",
   "execution_count": 33,
   "id": "e6e5160c",
   "metadata": {},
   "outputs": [
    {
     "data": {
      "image/png": "[encoded data removed]",
      "text/plain": [
       "<Figure size 432x288 with 1 Axes>"
      ]
     },
     "metadata": {
      "needs_background": "light"
     },
     "output_type": "display_data"
    }
   ],
   "source": [
    "# See how the scatterplot looks without outliers\n",
    "\n",
    "df_test.plot(x = 'Original Principal Amount', y='Interest Rate', style='o')  \n",
    "plt.title('Original Principal Amount vs Interest Rate')  \n",
    "plt.xlabel('Original Principal Amount')  \n",
    "plt.ylabel('Interest Rate')  \n",
    "plt.show()"
   ]
  },
  {
   "cell_type": "code",
   "execution_count": 34,
   "id": "e8a621eb",
   "metadata": {},
   "outputs": [],
   "source": [
    "# Reshape again\n",
    "\n",
    "X_2 = df_test['Original Principal Amount'].values.reshape(-1,1)\n",
    "y_2 = df_test['Interest Rate'].values.reshape(-1,1)"
   ]
  },
  {
   "cell_type": "code",
   "execution_count": 35,
   "id": "34337625",
   "metadata": {},
   "outputs": [],
   "source": [
    "X_train_2, X_test_2, y_train_2, y_test_2 = train_test_split(X_2, y_2, test_size=0.3, random_state=0)"
   ]
  },
  {
   "cell_type": "code",
   "execution_count": 36,
   "id": "75f627f7",
   "metadata": {},
   "outputs": [
    {
     "data": {
      "text/plain": [
       "LinearRegression()"
      ]
     },
     "execution_count": 36,
     "metadata": {},
     "output_type": "execute_result"
    }
   ],
   "source": [
    "# Run and fit the regression\n",
    "\n",
    "regression = LinearRegression()  \n",
    "regression.fit(X_train_2, y_train_2)"
   ]
  },
  {
   "cell_type": "code",
   "execution_count": 37,
   "id": "e1a0267b",
   "metadata": {},
   "outputs": [],
   "source": [
    "# Predict\n",
    "\n",
    "y_predicted_2 = regression.predict(X_test_2)"
   ]
  },
  {
   "cell_type": "code",
   "execution_count": 38,
   "id": "116b1526",
   "metadata": {},
   "outputs": [],
   "source": [
    "rmse = mean_squared_error(y_test_2, y_predicted_2)\n",
    "r2 = r2_score(y_test_2, y_predicted_2)"
   ]
  },
  {
   "cell_type": "code",
   "execution_count": 39,
   "id": "98606e17",
   "metadata": {},
   "outputs": [
    {
     "name": "stdout",
     "output_type": "stream",
     "text": [
      "Slope: [[-5.50293225e-09]]\n",
      "Mean squared error:  5.452492175476121\n",
      "R2 score:  0.015620940043473364\n"
     ]
    }
   ],
   "source": [
    "print('Slope:' ,regression.coef_)\n",
    "print('Mean squared error: ', rmse)\n",
    "print('R2 score: ', r2)"
   ]
  },
  {
   "cell_type": "code",
   "execution_count": 40,
   "id": "7ca38494",
   "metadata": {},
   "outputs": [
    {
     "data": {
      "image/png": "[encoded data removed]",
      "text/plain": [
       "<Figure size 432x288 with 1 Axes>"
      ]
     },
     "metadata": {
      "needs_background": "light"
     },
     "output_type": "display_data"
    }
   ],
   "source": [
    "# Visualizing the test set results.\n",
    "plot_test = plt\n",
    "plot_test.scatter(X_test_2, y_test_2, color='gray', s = 15)\n",
    "plot_test.plot(X_test_2, y_predicted_2, color='red', linewidth =3)\n",
    "plot_test.title('Original Principal Amount vs Interest Rate (Test set)')\n",
    "plot_test.xlabel('Original Principal Amount')\n",
    "plot_test.ylabel('Interest Rate')\n",
    "plot_test.show()"
   ]
  },
  {
   "cell_type": "code",
   "execution_count": 41,
   "id": "ae3dc12a",
   "metadata": {},
   "outputs": [
    {
     "data": {
      "text/html": [
       "<div>\n",
       "<style scoped>\n",
       "    .dataframe tbody tr th:only-of-type {\n",
       "        vertical-align: middle;\n",
       "    }\n",
       "\n",
       "    .dataframe tbody tr th {\n",
       "        vertical-align: top;\n",
       "    }\n",
       "\n",
       "    .dataframe thead th {\n",
       "        text-align: right;\n",
       "    }\n",
       "</style>\n",
       "<table border=\"1\" class=\"dataframe\">\n",
       "  <thead>\n",
       "    <tr style=\"text-align: right;\">\n",
       "      <th></th>\n",
       "      <th>Actual</th>\n",
       "      <th>Predicted</th>\n",
       "    </tr>\n",
       "  </thead>\n",
       "  <tbody>\n",
       "    <tr>\n",
       "      <th>0</th>\n",
       "      <td>2.10</td>\n",
       "      <td>3.129972</td>\n",
       "    </tr>\n",
       "    <tr>\n",
       "      <th>1</th>\n",
       "      <td>4.85</td>\n",
       "      <td>4.974855</td>\n",
       "    </tr>\n",
       "    <tr>\n",
       "      <th>2</th>\n",
       "      <td>6.25</td>\n",
       "      <td>5.840166</td>\n",
       "    </tr>\n",
       "    <tr>\n",
       "      <th>3</th>\n",
       "      <td>6.40</td>\n",
       "      <td>5.744232</td>\n",
       "    </tr>\n",
       "    <tr>\n",
       "      <th>4</th>\n",
       "      <td>5.75</td>\n",
       "      <td>5.858325</td>\n",
       "    </tr>\n",
       "    <tr>\n",
       "      <th>5</th>\n",
       "      <td>7.00</td>\n",
       "      <td>5.842917</td>\n",
       "    </tr>\n",
       "    <tr>\n",
       "      <th>6</th>\n",
       "      <td>7.00</td>\n",
       "      <td>5.815402</td>\n",
       "    </tr>\n",
       "    <tr>\n",
       "      <th>7</th>\n",
       "      <td>3.75</td>\n",
       "      <td>5.811000</td>\n",
       "    </tr>\n",
       "    <tr>\n",
       "      <th>8</th>\n",
       "      <td>7.25</td>\n",
       "      <td>5.760373</td>\n",
       "    </tr>\n",
       "    <tr>\n",
       "      <th>9</th>\n",
       "      <td>6.03</td>\n",
       "      <td>5.810367</td>\n",
       "    </tr>\n",
       "    <tr>\n",
       "      <th>10</th>\n",
       "      <td>8.25</td>\n",
       "      <td>5.606291</td>\n",
       "    </tr>\n",
       "    <tr>\n",
       "      <th>11</th>\n",
       "      <td>0.52</td>\n",
       "      <td>5.055998</td>\n",
       "    </tr>\n",
       "    <tr>\n",
       "      <th>12</th>\n",
       "      <td>1.00</td>\n",
       "      <td>5.827509</td>\n",
       "    </tr>\n",
       "    <tr>\n",
       "      <th>13</th>\n",
       "      <td>1.88</td>\n",
       "      <td>5.353156</td>\n",
       "    </tr>\n",
       "    <tr>\n",
       "      <th>14</th>\n",
       "      <td>5.01</td>\n",
       "      <td>4.505705</td>\n",
       "    </tr>\n",
       "    <tr>\n",
       "      <th>15</th>\n",
       "      <td>3.80</td>\n",
       "      <td>5.111027</td>\n",
       "    </tr>\n",
       "    <tr>\n",
       "      <th>16</th>\n",
       "      <td>4.84</td>\n",
       "      <td>5.661320</td>\n",
       "    </tr>\n",
       "    <tr>\n",
       "      <th>17</th>\n",
       "      <td>6.03</td>\n",
       "      <td>5.365538</td>\n",
       "    </tr>\n",
       "    <tr>\n",
       "      <th>18</th>\n",
       "      <td>5.50</td>\n",
       "      <td>5.808524</td>\n",
       "    </tr>\n",
       "    <tr>\n",
       "      <th>19</th>\n",
       "      <td>6.18</td>\n",
       "      <td>5.858414</td>\n",
       "    </tr>\n",
       "    <tr>\n",
       "      <th>20</th>\n",
       "      <td>6.50</td>\n",
       "      <td>5.661320</td>\n",
       "    </tr>\n",
       "    <tr>\n",
       "      <th>21</th>\n",
       "      <td>1.38</td>\n",
       "      <td>4.615763</td>\n",
       "    </tr>\n",
       "    <tr>\n",
       "      <th>22</th>\n",
       "      <td>4.50</td>\n",
       "      <td>5.718001</td>\n",
       "    </tr>\n",
       "    <tr>\n",
       "      <th>23</th>\n",
       "      <td>1.90</td>\n",
       "      <td>5.606291</td>\n",
       "    </tr>\n",
       "    <tr>\n",
       "      <th>24</th>\n",
       "      <td>7.43</td>\n",
       "      <td>5.881438</td>\n",
       "    </tr>\n",
       "    <tr>\n",
       "      <th>25</th>\n",
       "      <td>6.14</td>\n",
       "      <td>5.876143</td>\n",
       "    </tr>\n",
       "    <tr>\n",
       "      <th>26</th>\n",
       "      <td>6.00</td>\n",
       "      <td>5.797243</td>\n",
       "    </tr>\n",
       "    <tr>\n",
       "      <th>27</th>\n",
       "      <td>6.00</td>\n",
       "      <td>5.848420</td>\n",
       "    </tr>\n",
       "    <tr>\n",
       "      <th>28</th>\n",
       "      <td>6.14</td>\n",
       "      <td>5.606291</td>\n",
       "    </tr>\n",
       "    <tr>\n",
       "      <th>29</th>\n",
       "      <td>0.73</td>\n",
       "      <td>5.729377</td>\n",
       "    </tr>\n",
       "  </tbody>\n",
       "</table>\n",
       "</div>"
      ],
      "text/plain": [
       "    Actual  Predicted\n",
       "0     2.10   3.129972\n",
       "1     4.85   4.974855\n",
       "2     6.25   5.840166\n",
       "3     6.40   5.744232\n",
       "4     5.75   5.858325\n",
       "5     7.00   5.842917\n",
       "6     7.00   5.815402\n",
       "7     3.75   5.811000\n",
       "8     7.25   5.760373\n",
       "9     6.03   5.810367\n",
       "10    8.25   5.606291\n",
       "11    0.52   5.055998\n",
       "12    1.00   5.827509\n",
       "13    1.88   5.353156\n",
       "14    5.01   4.505705\n",
       "15    3.80   5.111027\n",
       "16    4.84   5.661320\n",
       "17    6.03   5.365538\n",
       "18    5.50   5.808524\n",
       "19    6.18   5.858414\n",
       "20    6.50   5.661320\n",
       "21    1.38   4.615763\n",
       "22    4.50   5.718001\n",
       "23    1.90   5.606291\n",
       "24    7.43   5.881438\n",
       "25    6.14   5.876143\n",
       "26    6.00   5.797243\n",
       "27    6.00   5.848420\n",
       "28    6.14   5.606291\n",
       "29    0.73   5.729377"
      ]
     },
     "execution_count": 41,
     "metadata": {},
     "output_type": "execute_result"
    }
   ],
   "source": [
    "data = pd.DataFrame({'Actual': y_test_2.flatten(), 'Predicted': y_predicted_2.flatten()})\n",
    "data.head(30)"
   ]
  },
  {
   "cell_type": "markdown",
   "id": "6837f66f",
   "metadata": {},
   "source": [
    "- Deleting zeros and outliers didn't have a big impact on the model's accuracy.\n",
    "- By excluding extreme values we might be biasing real situation so we should be carfule about it."
   ]
  },
  {
   "cell_type": "code",
   "execution_count": null,
   "id": "3247cff8",
   "metadata": {},
   "outputs": [],
   "source": []
  }
 ],
 "metadata": {
  "kernelspec": {
   "display_name": "Python 3 (ipykernel)",
   "language": "python",
   "name": "python3"
  },
  "language_info": {
   "codemirror_mode": {
    "name": "ipython",
    "version": 3
   },
   "file_extension": ".py",
   "mimetype": "text/x-python",
   "name": "python",
   "nbconvert_exporter": "python",
   "pygments_lexer": "ipython3",
   "version": "3.9.12"
  },
  "toc": {
   "base_numbering": 1,
   "nav_menu": {},
   "number_sections": true,
   "sideBar": true,
   "skip_h1_title": false,
   "title_cell": "Table of Contents",
   "title_sidebar": "Contents",
   "toc_cell": false,
   "toc_position": {},
   "toc_section_display": true,
   "toc_window_display": false
  }
 },
 "nbformat": 4,
 "nbformat_minor": 5
}
